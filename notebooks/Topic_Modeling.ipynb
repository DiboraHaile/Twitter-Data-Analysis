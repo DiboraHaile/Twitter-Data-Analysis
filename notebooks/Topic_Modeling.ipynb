{
  "nbformat": 4,
  "nbformat_minor": 0,
  "metadata": {
    "colab": {
      "name": "Topic Modeling.ipynb",
      "provenance": [],
      "collapsed_sections": []
    },
    "kernelspec": {
      "display_name": "Python 3",
      "name": "python3"
    },
    "language_info": {
      "name": "python"
    }
  },
  "cells": [
    {
      "cell_type": "code",
      "metadata": {
        "id": "XmB73mrZCvgA"
      },
      "source": [
        "import warnings\n",
        "warnings.filterwarnings('ignore')\n",
        "import matplotlib.pyplot as plt\n",
        "import nltk\n",
        "import seaborn as sns\n",
        "from wordcloud import STOPWORDS,WordCloud\n",
        "from nltk.stem import WordNetLemmatizer \n",
        "import gensim\n",
        "from gensim.models import CoherenceModel\n",
        "from gensim import corpora\n",
        "import pandas as pd\n",
        "from pprint import pprint\n",
        "from nltk import corpus\n",
        "from nltk import wordnet\n",
        "from nltk.tokenize import RegexpTokenizer\n",
        "from nltk.corpus import stopwords\n",
        "import string\n",
        "import os\n",
        "import re"
      ],
      "execution_count": null,
      "outputs": []
    },
    {
      "cell_type": "code",
      "metadata": {
        "colab": {
          "base_uri": "https://localhost:8080/"
        },
        "id": "nenkm8blMudT",
        "outputId": "aac9c010-60a1-477b-b5be-b2b8ee69deca"
      },
      "source": [
        "nltk.download('wordnet')\n",
        "nltk.download('stopwords')"
      ],
      "execution_count": null,
      "outputs": [
        {
          "output_type": "stream",
          "text": [
            "[nltk_data] Downloading package wordnet to /root/nltk_data...\n",
            "[nltk_data]   Package wordnet is already up-to-date!\n",
            "[nltk_data] Downloading package stopwords to /root/nltk_data...\n",
            "[nltk_data]   Package stopwords is already up-to-date!\n"
          ],
          "name": "stdout"
        },
        {
          "output_type": "execute_result",
          "data": {
            "text/plain": [
              "True"
            ]
          },
          "metadata": {
            "tags": []
          },
          "execution_count": 219
        }
      ]
    },
    {
      "cell_type": "code",
      "metadata": {
        "colab": {
          "base_uri": "https://localhost:8080/"
        },
        "id": "OqR6OW2nJ37w",
        "outputId": "fc0c837c-7f32-4019-9b43-474a6f9d0b63"
      },
      "source": [
        "!pip install pyLDAvis "
      ],
      "execution_count": null,
      "outputs": [
        {
          "output_type": "stream",
          "text": [
            "Requirement already satisfied: pyLDAvis in /usr/local/lib/python3.7/dist-packages (3.3.1)\n",
            "Requirement already satisfied: gensim in /usr/local/lib/python3.7/dist-packages (from pyLDAvis) (3.6.0)\n",
            "Requirement already satisfied: numpy>=1.20.0 in /usr/local/lib/python3.7/dist-packages (from pyLDAvis) (1.21.0)\n",
            "Requirement already satisfied: jinja2 in /usr/local/lib/python3.7/dist-packages (from pyLDAvis) (2.11.3)\n",
            "Requirement already satisfied: funcy in /usr/local/lib/python3.7/dist-packages (from pyLDAvis) (1.16)\n",
            "Requirement already satisfied: sklearn in /usr/local/lib/python3.7/dist-packages (from pyLDAvis) (0.0)\n",
            "Requirement already satisfied: pandas>=1.2.0 in /usr/local/lib/python3.7/dist-packages (from pyLDAvis) (1.2.5)\n",
            "Requirement already satisfied: future in /usr/local/lib/python3.7/dist-packages (from pyLDAvis) (0.16.0)\n",
            "Requirement already satisfied: numexpr in /usr/local/lib/python3.7/dist-packages (from pyLDAvis) (2.7.3)\n",
            "Requirement already satisfied: scikit-learn in /usr/local/lib/python3.7/dist-packages (from pyLDAvis) (0.22.2.post1)\n",
            "Requirement already satisfied: joblib in /usr/local/lib/python3.7/dist-packages (from pyLDAvis) (1.0.1)\n",
            "Requirement already satisfied: setuptools in /usr/local/lib/python3.7/dist-packages (from pyLDAvis) (57.0.0)\n",
            "Requirement already satisfied: scipy in /usr/local/lib/python3.7/dist-packages (from pyLDAvis) (1.4.1)\n",
            "Requirement already satisfied: smart-open>=1.2.1 in /usr/local/lib/python3.7/dist-packages (from gensim->pyLDAvis) (5.1.0)\n",
            "Requirement already satisfied: six>=1.5.0 in /usr/local/lib/python3.7/dist-packages (from gensim->pyLDAvis) (1.15.0)\n",
            "Requirement already satisfied: MarkupSafe>=0.23 in /usr/local/lib/python3.7/dist-packages (from jinja2->pyLDAvis) (2.0.1)\n",
            "Requirement already satisfied: python-dateutil>=2.7.3 in /usr/local/lib/python3.7/dist-packages (from pandas>=1.2.0->pyLDAvis) (2.8.1)\n",
            "Requirement already satisfied: pytz>=2017.3 in /usr/local/lib/python3.7/dist-packages (from pandas>=1.2.0->pyLDAvis) (2018.9)\n"
          ],
          "name": "stdout"
        }
      ]
    },
    {
      "cell_type": "code",
      "metadata": {
        "id": "fAytSxNQCyvf"
      },
      "source": [
        "#data loader class\n",
        "class CsvLoader:\n",
        "  def __init__(self,path,filename):\n",
        "    if os.getcwd() != path:\n",
        "      os.chdir(path)   \n",
        "    self.path = path\n",
        "    self.filename = filename \n",
        " \n",
        "  def load_csv(self):\n",
        "    df = pd.read_csv(self.filename,engine='python',error_bad_lines=False)\n",
        "    return df\n",
        "  "
      ],
      "execution_count": null,
      "outputs": []
    },
    {
      "cell_type": "code",
      "metadata": {
        "colab": {
          "base_uri": "https://localhost:8080/",
          "height": 965
        },
        "id": "eWRTphfMCyyn",
        "outputId": "ac5fdf17-ff3e-463f-e4d2-b265ca26e75c"
      },
      "source": [
        "csv_loader = CsvLoader('/content','processed_tweet_data.csv')\n",
        "csv_loaded = csv_loader.load_csv()\n",
        "csv_loaded.dropna(subset = [\"original_text\"], inplace=True)\n",
        "csv_loaded"
      ],
      "execution_count": null,
      "outputs": [
        {
          "output_type": "execute_result",
          "data": {
            "text/html": [
              "<div>\n",
              "<style scoped>\n",
              "    .dataframe tbody tr th:only-of-type {\n",
              "        vertical-align: middle;\n",
              "    }\n",
              "\n",
              "    .dataframe tbody tr th {\n",
              "        vertical-align: top;\n",
              "    }\n",
              "\n",
              "    .dataframe thead th {\n",
              "        text-align: right;\n",
              "    }\n",
              "</style>\n",
              "<table border=\"1\" class=\"dataframe\">\n",
              "  <thead>\n",
              "    <tr style=\"text-align: right;\">\n",
              "      <th></th>\n",
              "      <th>created_at</th>\n",
              "      <th>source</th>\n",
              "      <th>original_text</th>\n",
              "      <th>polarity</th>\n",
              "      <th>subjectivity</th>\n",
              "      <th>lang</th>\n",
              "      <th>favorite_count</th>\n",
              "      <th>retweet_count</th>\n",
              "      <th>original_author</th>\n",
              "      <th>followers_count</th>\n",
              "      <th>friends_count</th>\n",
              "      <th>possibly_sensitive</th>\n",
              "      <th>hashtags</th>\n",
              "      <th>user_mentions</th>\n",
              "      <th>place</th>\n",
              "    </tr>\n",
              "  </thead>\n",
              "  <tbody>\n",
              "    <tr>\n",
              "      <th>0</th>\n",
              "      <td>Fri Jun 18 17:55:49 +0000 2021</td>\n",
              "      <td>&lt;a href=\"http://twitter.com/download/iphone\" r...</td>\n",
              "      <td>🚨Africa is \"in the midst of a full-blown third...</td>\n",
              "      <td>0.166667</td>\n",
              "      <td>0.188889</td>\n",
              "      <td>en</td>\n",
              "      <td>548.0</td>\n",
              "      <td>612.0</td>\n",
              "      <td>ketuesriche</td>\n",
              "      <td>551</td>\n",
              "      <td>351</td>\n",
              "      <td>NaN</td>\n",
              "      <td>NaN</td>\n",
              "      <td>TelGlobalHealthWHOAFRO</td>\n",
              "      <td>Mass</td>\n",
              "    </tr>\n",
              "    <tr>\n",
              "      <th>1</th>\n",
              "      <td>Fri Jun 18 17:55:59 +0000 2021</td>\n",
              "      <td>&lt;a href=\"https://mobile.twitter.com\" rel=\"nofo...</td>\n",
              "      <td>Dr Moeti is head of WHO in Africa, and one of ...</td>\n",
              "      <td>0.133333</td>\n",
              "      <td>0.455556</td>\n",
              "      <td>en</td>\n",
              "      <td>195.0</td>\n",
              "      <td>92.0</td>\n",
              "      <td>Grid1949</td>\n",
              "      <td>66</td>\n",
              "      <td>92</td>\n",
              "      <td>NaN</td>\n",
              "      <td>NaN</td>\n",
              "      <td>globalhlthtwit</td>\n",
              "      <td>Edinburgh, Scotland</td>\n",
              "    </tr>\n",
              "    <tr>\n",
              "      <th>2</th>\n",
              "      <td>Fri Jun 18 17:56:07 +0000 2021</td>\n",
              "      <td>&lt;a href=\"http://twitter.com/download/iphone\" r...</td>\n",
              "      <td>Thank you @research2note for creating this ama...</td>\n",
              "      <td>0.316667</td>\n",
              "      <td>0.483333</td>\n",
              "      <td>en</td>\n",
              "      <td>2.0</td>\n",
              "      <td>1.0</td>\n",
              "      <td>LeeTomlinson8</td>\n",
              "      <td>1195</td>\n",
              "      <td>1176</td>\n",
              "      <td>NaN</td>\n",
              "      <td>red4research</td>\n",
              "      <td>NHSRDForumResearch2noteNHSRDForum</td>\n",
              "      <td>NaN</td>\n",
              "    </tr>\n",
              "    <tr>\n",
              "      <th>3</th>\n",
              "      <td>Fri Jun 18 17:56:10 +0000 2021</td>\n",
              "      <td>&lt;a href=\"https://mobile.twitter.com\" rel=\"nofo...</td>\n",
              "      <td>Former Pfizer VP and Virologist, Dr. Michael Y...</td>\n",
              "      <td>0.086111</td>\n",
              "      <td>0.197222</td>\n",
              "      <td>en</td>\n",
              "      <td>1580.0</td>\n",
              "      <td>899.0</td>\n",
              "      <td>RIPNY08</td>\n",
              "      <td>2666</td>\n",
              "      <td>2704</td>\n",
              "      <td>NaN</td>\n",
              "      <td>NaN</td>\n",
              "      <td>HighWireTalk</td>\n",
              "      <td>NaN</td>\n",
              "    </tr>\n",
              "    <tr>\n",
              "      <th>4</th>\n",
              "      <td>Fri Jun 18 17:56:20 +0000 2021</td>\n",
              "      <td>&lt;a href=\"http://twitter.com/download/android\" ...</td>\n",
              "      <td>I think it’s important that we don’t sell COVA...</td>\n",
              "      <td>0.280000</td>\n",
              "      <td>0.620000</td>\n",
              "      <td>en</td>\n",
              "      <td>72.0</td>\n",
              "      <td>20.0</td>\n",
              "      <td>pash22</td>\n",
              "      <td>28250</td>\n",
              "      <td>30819</td>\n",
              "      <td>NaN</td>\n",
              "      <td>NaN</td>\n",
              "      <td>PeterHotez</td>\n",
              "      <td>United Kingdom</td>\n",
              "    </tr>\n",
              "    <tr>\n",
              "      <th>...</th>\n",
              "      <td>...</td>\n",
              "      <td>...</td>\n",
              "      <td>...</td>\n",
              "      <td>...</td>\n",
              "      <td>...</td>\n",
              "      <td>...</td>\n",
              "      <td>...</td>\n",
              "      <td>...</td>\n",
              "      <td>...</td>\n",
              "      <td>...</td>\n",
              "      <td>...</td>\n",
              "      <td>...</td>\n",
              "      <td>...</td>\n",
              "      <td>...</td>\n",
              "      <td>...</td>\n",
              "    </tr>\n",
              "    <tr>\n",
              "      <th>6521</th>\n",
              "      <td>Sat Jun 19 07:40:29 +0000 2021</td>\n",
              "      <td>&lt;a href=\"http://twitter.com/download/iphone\" r...</td>\n",
              "      <td>Australia is sending vaccines.\\nAustralia is s...</td>\n",
              "      <td>0.100000</td>\n",
              "      <td>0.400000</td>\n",
              "      <td>en</td>\n",
              "      <td>78.0</td>\n",
              "      <td>12.0</td>\n",
              "      <td>ravaifiji</td>\n",
              "      <td>1577</td>\n",
              "      <td>538</td>\n",
              "      <td>NaN</td>\n",
              "      <td>NaN</td>\n",
              "      <td>pseudofijian</td>\n",
              "      <td>Fiji</td>\n",
              "    </tr>\n",
              "    <tr>\n",
              "      <th>6522</th>\n",
              "      <td>Sat Jun 19 07:40:29 +0000 2021</td>\n",
              "      <td>&lt;a href=\"https://mobile.twitter.com\" rel=\"nofo...</td>\n",
              "      <td>The Truth Behind COVID-19 Vaccines (6) —— Bell...</td>\n",
              "      <td>-0.386111</td>\n",
              "      <td>0.622222</td>\n",
              "      <td>en</td>\n",
              "      <td>2.0</td>\n",
              "      <td>2.0</td>\n",
              "      <td>Hhuatakedownccp</td>\n",
              "      <td>697</td>\n",
              "      <td>303</td>\n",
              "      <td>NaN</td>\n",
              "      <td>DrLiMengYanCCPVirus</td>\n",
              "      <td>edendomain</td>\n",
              "      <td>Osaka-shi Chuo, Osaka</td>\n",
              "    </tr>\n",
              "    <tr>\n",
              "      <th>6524</th>\n",
              "      <td>Sat Jun 19 07:41:00 +0000 2021</td>\n",
              "      <td>&lt;a href=\"http://twitter.com/download/android\" ...</td>\n",
              "      <td>Covid19 vaccines reach the remotest places of ...</td>\n",
              "      <td>-0.050000</td>\n",
              "      <td>0.400000</td>\n",
              "      <td>en</td>\n",
              "      <td>113.0</td>\n",
              "      <td>87.0</td>\n",
              "      <td>bitu_50</td>\n",
              "      <td>410</td>\n",
              "      <td>483</td>\n",
              "      <td>NaN</td>\n",
              "      <td>NaN</td>\n",
              "      <td>N_RamchanderRao</td>\n",
              "      <td>Jehanabad, India</td>\n",
              "    </tr>\n",
              "    <tr>\n",
              "      <th>6528</th>\n",
              "      <td>Sat Jun 19 07:41:26 +0000 2021</td>\n",
              "      <td>&lt;a href=\"http://twitter.com/download/android\" ...</td>\n",
              "      <td>Former Pfizer VP and Virologist, Dr. Michael Y...</td>\n",
              "      <td>0.086111</td>\n",
              "      <td>0.197222</td>\n",
              "      <td>en</td>\n",
              "      <td>1595.0</td>\n",
              "      <td>908.0</td>\n",
              "      <td>wayno_af007</td>\n",
              "      <td>2224</td>\n",
              "      <td>2739</td>\n",
              "      <td>NaN</td>\n",
              "      <td>NaN</td>\n",
              "      <td>HighWireTalk</td>\n",
              "      <td>The boro, MA</td>\n",
              "    </tr>\n",
              "    <tr>\n",
              "      <th>6530</th>\n",
              "      <td>Sat Jun 19 07:41:45 +0000 2021</td>\n",
              "      <td>&lt;a href=\"http://twitter.com/download/iphone\" r...</td>\n",
              "      <td>\"Africa needs millions more doses here &amp;amp; n...</td>\n",
              "      <td>0.125000</td>\n",
              "      <td>0.325000</td>\n",
              "      <td>en</td>\n",
              "      <td>143.0</td>\n",
              "      <td>122.0</td>\n",
              "      <td>DrAmirKhanGP</td>\n",
              "      <td>135163</td>\n",
              "      <td>1284</td>\n",
              "      <td>NaN</td>\n",
              "      <td>COVID19</td>\n",
              "      <td>WHOAFRO</td>\n",
              "      <td>Yorkshire and The Humber</td>\n",
              "    </tr>\n",
              "  </tbody>\n",
              "</table>\n",
              "<p>3720 rows × 15 columns</p>\n",
              "</div>"
            ],
            "text/plain": [
              "                          created_at  ...                     place\n",
              "0     Fri Jun 18 17:55:49 +0000 2021  ...                      Mass\n",
              "1     Fri Jun 18 17:55:59 +0000 2021  ...       Edinburgh, Scotland\n",
              "2     Fri Jun 18 17:56:07 +0000 2021  ...                       NaN\n",
              "3     Fri Jun 18 17:56:10 +0000 2021  ...                       NaN\n",
              "4     Fri Jun 18 17:56:20 +0000 2021  ...            United Kingdom\n",
              "...                              ...  ...                       ...\n",
              "6521  Sat Jun 19 07:40:29 +0000 2021  ...                      Fiji\n",
              "6522  Sat Jun 19 07:40:29 +0000 2021  ...     Osaka-shi Chuo, Osaka\n",
              "6524  Sat Jun 19 07:41:00 +0000 2021  ...          Jehanabad, India\n",
              "6528  Sat Jun 19 07:41:26 +0000 2021  ...              The boro, MA\n",
              "6530  Sat Jun 19 07:41:45 +0000 2021  ...  Yorkshire and The Humber\n",
              "\n",
              "[3720 rows x 15 columns]"
            ]
          },
          "metadata": {
            "tags": []
          },
          "execution_count": 222
        }
      ]
    },
    {
      "cell_type": "markdown",
      "metadata": {
        "id": "bohWF7jpzR0z"
      },
      "source": [
        "#Data Understanding\n",
        "Display information on the Data"
      ]
    },
    {
      "cell_type": "code",
      "metadata": {
        "id": "5viRAAGzzfQR"
      },
      "source": [
        "class DataInfo:\n",
        "  def __init__(self,df):\n",
        "    self.df = df\n",
        "\n",
        "  def general_info(self):\n",
        "    return self.df.info()"
      ],
      "execution_count": null,
      "outputs": []
    },
    {
      "cell_type": "code",
      "metadata": {
        "colab": {
          "base_uri": "https://localhost:8080/"
        },
        "id": "hzsY7QzMCy10",
        "outputId": "50dd588a-b5a8-45a1-8097-c8e6c3c72d68"
      },
      "source": [
        "Get_Info = DataInfo(csv_loaded)\n",
        "Get_Info.general_info()"
      ],
      "execution_count": null,
      "outputs": [
        {
          "output_type": "stream",
          "text": [
            "<class 'pandas.core.frame.DataFrame'>\n",
            "Int64Index: 3720 entries, 0 to 6530\n",
            "Data columns (total 15 columns):\n",
            " #   Column              Non-Null Count  Dtype  \n",
            "---  ------              --------------  -----  \n",
            " 0   created_at          3720 non-null   object \n",
            " 1   source              3720 non-null   object \n",
            " 2   original_text       3720 non-null   object \n",
            " 3   polarity            3720 non-null   float64\n",
            " 4   subjectivity        3720 non-null   float64\n",
            " 5   lang                3720 non-null   object \n",
            " 6   favorite_count      3720 non-null   float64\n",
            " 7   retweet_count       3720 non-null   float64\n",
            " 8   original_author     3720 non-null   object \n",
            " 9   followers_count     3720 non-null   int64  \n",
            " 10  friends_count       3720 non-null   int64  \n",
            " 11  possibly_sensitive  47 non-null     object \n",
            " 12  hashtags            2060 non-null   object \n",
            " 13  user_mentions       3720 non-null   object \n",
            " 14  place               2478 non-null   object \n",
            "dtypes: float64(4), int64(2), object(9)\n",
            "memory usage: 465.0+ KB\n"
          ],
          "name": "stdout"
        }
      ]
    },
    {
      "cell_type": "code",
      "metadata": {
        "id": "5VyCYLzyMmU_"
      },
      "source": [
        "\n",
        "  # def remove_symbols(self,sentence_list):\n",
        "  #    regrex_pattern = re.compile(pattern = \"[\"\n",
        "  #       u\"\\U0001F600-\\U0001F64F\"  # emoticons\n",
        "  #       u\"\\U0001F300-\\U0001F5FF\"  # symbols & pictographs\n",
        "  #       u\"\\U0001F680-\\U0001F6FF\"  # transport & map symbols\n",
        "  #       u\"\\U0001F1E0-\\U0001F1FF\"  # flags (iOS)\n",
        "  #                          \"]+\", flags = re.UNICODE)\n",
        "  #    return regrex_pattern.sub(r'',sentence_list)\n"
      ],
      "execution_count": null,
      "outputs": []
    },
    {
      "cell_type": "markdown",
      "metadata": {
        "id": "59tRIqqh1DJ2"
      },
      "source": [
        "#Data Preparation\n",
        "Select and clean the data we are going to use for our model"
      ]
    },
    {
      "cell_type": "code",
      "metadata": {
        "id": "HSzAIPaGCy4W"
      },
      "source": [
        "class PreparedData:\n",
        "  def __init__(self,df):\n",
        "    self.df = df\n",
        "      \n",
        "  def clean_df(self):\n",
        "    df = self.df[self.df['lang'] ==\"en\"]\n",
        "    df['original_text'] = df['original_text'].astype(str)\n",
        "    df['original_text'] = df['original_text'].apply(lambda x: x.lower())\n",
        "    \n",
        "    return df\n",
        "\n",
        "  def select_data(self,df):\n",
        "    sel_df = self.df['original_text']\n",
        "    sentence_list = sel_df.tolist()\n",
        "    return sentence_list\n",
        "\n",
        "  def tokenize_data(self,sentence_list):\n",
        "    #creating sentences and words from the input tweets\n",
        "    words = []\n",
        "    tokenizer1 = RegexpTokenizer(\"[a-zA-Z]+\")\n",
        "    for sent in sentence_list:\n",
        "        for tokenized in tokenizer1.tokenize(sent):\n",
        "          words.append(tokenized)   \n",
        "    return words \n",
        "\n",
        "  def lemmatize_data(self,word):\n",
        "    wl = WordNetLemmatizer()\n",
        "    return str(wl.lemmatize(word))\n",
        "\n",
        "  def remove_stop_words(self,word):\n",
        "    s_words = stopwords.words('english')\n",
        "    if word not in s_words:\n",
        "      return word\n",
        "\n",
        "  def remove_none(self,wordlist):\n",
        "    cleaned_list = []\n",
        "    for w in wordlist:\n",
        "      if w is not None:\n",
        "        cleaned_list.append(w)\n",
        "    return cleaned_list\n",
        "  \n",
        "  "
      ],
      "execution_count": 244,
      "outputs": []
    },
    {
      "cell_type": "code",
      "metadata": {
        "id": "0xafoCQ64kRb"
      },
      "source": [
        "def prepare_data(df):\n",
        "    PreparedData_object = PreparedData(df)\n",
        "    cleaned_df = PreparedData_object.clean_df()\n",
        "    selected = PreparedData_object.select_data(cleaned_df)\n",
        "    word_list = PreparedData_object.tokenize_data(selected)\n",
        "    prepared_wordList = [PreparedData_object.remove_stop_words(PreparedData_object.lemmatize_data(word)) for word in word_list]\n",
        "    prepared = PreparedData_object.remove_none(prepared_wordList)\n",
        "    return prepared,selected\n",
        "    \n",
        "\n",
        "    "
      ],
      "execution_count": 255,
      "outputs": []
    },
    {
      "cell_type": "code",
      "metadata": {
        "id": "SO-4bn1R5-rc"
      },
      "source": [
        "prepared_wordlist,prepared_sentencelist = prepare_data(csv_loaded)"
      ],
      "execution_count": 256,
      "outputs": []
    },
    {
      "cell_type": "code",
      "metadata": {
        "colab": {
          "base_uri": "https://localhost:8080/",
          "height": 35
        },
        "id": "0jN-ERAQi82E",
        "outputId": "4765fe3b-93c2-4b24-b033-91ce3b74c1c0"
      },
      "source": [
        "prepared_wordlist[0]"
      ],
      "execution_count": 261,
      "outputs": [
        {
          "output_type": "execute_result",
          "data": {
            "application/vnd.google.colaboratory.intrinsic+json": {
              "type": "string"
            },
            "text/plain": [
              "'Africa'"
            ]
          },
          "metadata": {
            "tags": []
          },
          "execution_count": 261
        }
      ]
    },
    {
      "cell_type": "markdown",
      "metadata": {
        "id": "iFTvXYP_bEaL"
      },
      "source": [
        "#Modeling\n",
        "Selecting the right model and assessing it "
      ]
    },
    {
      "cell_type": "code",
      "metadata": {
        "id": "otTcoqGDGjuW"
      },
      "source": [
        "dictionary= []\n",
        "word_id = corpora.Dictionary(prepared_wordlist)\n",
        "for word in prepared_wordlist:\n",
        "  dictionary.append(word_to_id.doc2bow(word))"
      ],
      "execution_count": null,
      "outputs": []
    },
    {
      "cell_type": "code",
      "metadata": {
        "id": "apGKyLN5Cy_W"
      },
      "source": [
        "# Modeling\n",
        "model = gensim.models.ldamodel.LdaModel(dictionary,\n",
        "                                           id2word=id2word,\n",
        "                                           num_topics=5, \n",
        "                                           random_state=100,\n",
        "                                           update_every=1,\n",
        "                                           chunksize=100,\n",
        "                                           passes=10,\n",
        "                                           alpha='auto',\n",
        "                                           per_word_topics=True)"
      ],
      "execution_count": null,
      "outputs": []
    },
    {
      "cell_type": "code",
      "metadata": {
        "colab": {
          "base_uri": "https://localhost:8080/"
        },
        "id": "t13obMzmCzVV",
        "outputId": "2e7c2901-cc3e-43a4-a81a-25a8bb9c6ece"
      },
      "source": [
        "# Evaluation using coherence\n",
        "lda_coherence_mod = CoherenceModel(model=model, texts=words, dictionary=id2word, coherence='c_v')\n",
        "coherence = lda_coherence_mod.get_coherence()\n",
        "print(f'Coherence score and accuracy {coherence}', )"
      ],
      "execution_count": null,
      "outputs": [
        {
          "output_type": "stream",
          "text": [
            "Coherence score and accuracy 0.3790233056254021\n"
          ],
          "name": "stdout"
        }
      ]
    },
    {
      "cell_type": "code",
      "metadata": {
        "colab": {
          "base_uri": "https://localhost:8080/"
        },
        "id": "S2mAPxoqCzRV",
        "outputId": "5c5ccd2f-b12f-4f91-bb54-883597bc823d"
      },
      "source": [
        "pprint(model.show_topics(formatted=False))"
      ],
      "execution_count": null,
      "outputs": [
        {
          "output_type": "stream",
          "text": [
            "[(0,\n",
            "  [('to', 0.04990605),\n",
            "   ('are', 0.030841904),\n",
            "   ('the', 0.028928673),\n",
            "   ('covid19', 0.026192188),\n",
            "   ('vaccination', 0.021781636),\n",
            "   ('vaccine', 0.019142067),\n",
            "   ('there', 0.01649909),\n",
            "   ('today', 0.014926311),\n",
            "   ('vaccines', 0.011860952),\n",
            "   ('a', 0.011256056)]),\n",
            " (1,\n",
            "  [('to', 0.04598122),\n",
            "   ('covid19', 0.027335439),\n",
            "   ('vaccines', 0.025929095),\n",
            "   ('the', 0.025254969),\n",
            "   ('a', 0.015656063),\n",
            "   ('is', 0.014528551),\n",
            "   ('and', 0.014212991),\n",
            "   ('amp', 0.013651507),\n",
            "   ('need', 0.013451699),\n",
            "   ('we', 0.012701644)]),\n",
            " (2,\n",
            "  [('the', 0.044056974),\n",
            "   ('india', 0.031787246),\n",
            "   ('of', 0.03163889),\n",
            "   ('and', 0.028904216),\n",
            "   ('covid19', 0.023269067),\n",
            "   ('in', 0.023034072),\n",
            "   ('vaccines', 0.020947216),\n",
            "   ('to', 0.019840507),\n",
            "   ('a', 0.015743049),\n",
            "   ('can', 0.013278673)]),\n",
            " (3,\n",
            "  [('the', 0.05347785),\n",
            "   ('of', 0.03792886),\n",
            "   ('in', 0.03293381),\n",
            "   ('covid19', 0.022712208),\n",
            "   ('vaccines', 0.018106144),\n",
            "   ('to', 0.017966766),\n",
            "   ('doses', 0.014813065),\n",
            "   ('been', 0.013122018),\n",
            "   ('have', 0.01274933),\n",
            "   ('for', 0.012390102)]),\n",
            " (4,\n",
            "  [('the', 0.044679485),\n",
            "   ('and', 0.04249859),\n",
            "   ('in', 0.037868157),\n",
            "   ('of', 0.03710707),\n",
            "   ('africa', 0.033919223),\n",
            "   ('to', 0.030437745),\n",
            "   ('is', 0.02336445),\n",
            "   ('by', 0.0171631),\n",
            "   ('have', 0.013258897),\n",
            "   ('a', 0.013042496)])]\n"
          ],
          "name": "stdout"
        }
      ]
    },
    {
      "cell_type": "markdown",
      "metadata": {
        "id": "QTLYc7rEbA_p"
      },
      "source": [
        "Visualization"
      ]
    },
    {
      "cell_type": "code",
      "metadata": {
        "colab": {
          "base_uri": "https://localhost:8080/",
          "height": 881
        },
        "id": "fqrGC0tFE-vq",
        "outputId": "40b0d3c4-2973-4a0d-9bc9-a50f672fb868"
      },
      "source": [
        "#Visualizing\n",
        "pyLDAvis.enable_notebook()\n",
        "LDAvis_prepared = gensimvis.prepare(model, dictionary, id2word)\n",
        "LDAvis_prepared"
      ],
      "execution_count": null,
      "outputs": [
        {
          "output_type": "execute_result",
          "data": {
            "text/html": [
              "\n",
              "<link rel=\"stylesheet\" type=\"text/css\" href=\"https://cdn.jsdelivr.net/gh/bmabey/pyLDAvis@3.3.1/pyLDAvis/js/ldavis.v1.0.0.css\">\n",
              "\n",
              "\n",
              "<div id=\"ldavis_el2151406504112108323239733013\"></div>\n",
              "<script type=\"text/javascript\">\n",
              "\n",
              "var ldavis_el2151406504112108323239733013_data = {\"mdsDat\": {\"x\": [-0.13073331495053753, 0.05510900336829832, -0.06682899560270343, 0.2974417986357911, -0.15498849145084867], \"y\": [0.04542312381288815, 0.2260780134252946, 0.004993557673739947, -0.10839327238066968, -0.16810142253125304], \"topics\": [1, 2, 3, 4, 5], \"cluster\": [1, 1, 1, 1, 1], \"Freq\": [28.10174487870482, 23.85169198651968, 17.554201799354974, 15.59286941477076, 14.89949192064977]}, \"tinfo\": {\"Term\": [\"india\", \"africa\", \"of\", \"and\", \"in\", \"are\", \"vaccination\", \"been\", \"there\", \"to\", \"by\", \"today\", \"doses\", \"vaccine\", \"need\", \"from\", \"can\", \"up\", \"head\", \"has\", \"australia\", \"have\", \"we\", \"ontario\", \"you\", \"everyone\", \"go\", \"world\", \"support\", \"should\", \"been\", \"up\", \"ontario\", \"go\", \"over\", \"these\", \"2\", \"huge\", \"far\", \"2nd\", \"must\", \"less\", \"time\", \"puts\", \"america\", \"millions\", \"provide\", \"pfizer\", \"during\", \"threat\", \"youre\", \"deadly\", \"total\", \"rural\", \"bringing\", \"hospital\", \"surges\", \"little\", \"cause\", \"httpstcojzl6kur8uw\", \"mrna\", \"fully\", \"administered\", \"south\", \"where\", \"doses\", \"but\", \"has\", \"now\", \"so\", \"delta\", \"vaccinated\", \"of\", \"the\", \"in\", \"that\", \"have\", \"for\", \"covid19\", \"this\", \"vaccines\", \"with\", \"vaccine\", \"to\", \"africa\", \"more\", \"on\", \"a\", \"amp\", \"is\", \"australia\", \"support\", \"oxygen\", \"million\", \"them\", \"stand\", \"via\", \"free\", \"sending\", \"sent\", \"each\", \"question\", \"failure\", \"jab\", \"dying\", \"money\", \"30\", \"helping\", \"kills\", \"indiafightscorona\", \"pay\", \"ppes\", \"providing\", \"ugandans\", \"committed\", \"dailymonitor\", \"httpstcoo1k0iugf6z\", \"mulago\", \"overstretched\", \"coverage\", \"21\", \"directly\", \"need\", \"centre\", \"countries\", \"an\", \"all\", \"as\", \"other\", \"government\", \"from\", \"we\", \"to\", \"world\", \"vaccines\", \"covid19\", \"amp\", \"will\", \"patients\", \"israel\", \"a\", \"is\", \"our\", \"the\", \"are\", \"and\", \"for\", \"at\", \"of\", \"with\", \"in\", \"on\", \"by\", \"india\", \"everyone\", \"if\", \"blown\", \"seen\", \"take\", \"overwhelm\", \"into\", \"action\", \"elsewhere\", \"surging\", \"trajectory\", \"urgent\", \"quickly\", \"rebound\", \"sobering\", \"yet\", \"\\ud83d\\udd30\", \"nft\", \"staff\", \"long\", \"why\", \"travel\", \"community\", \"forward\", \"reach\", \"jammu\", \"vaccinationdrive\", \"bakarwals\", \"bjp4india\", \"places\", \"should\", \"can\", \"how\", \"and\", \"full\", \"the\", \"of\", \"get\", \"covid19\", \"in\", \"vaccines\", \"a\", \"people\", \"to\", \"you\", \"is\", \"third\", \"are\", \"wave\", \"africa\", \"amp\", \"this\", \"about\", \"way\", \"covidvaccination\", \"per\", \"84\", \"204344\", \"ashevaks\", \"beautiful\", \"capita\", \"fastest\", \"fish\", \"httpstcoxo2wlew4j2\", \"iqalutsiavak\", \"kenojuak\", \"pace\", \"find\", \"wecandothis\", \"zip\", \"438829\", \"code\", \"call\", \"remember\", \"pleased\", \"near\", \"search\", \"\\ud83d\\udd0d\", \"i\\u2019m\", \"18002320233\", \"easy\", \"ways\", \"\\ud83d\\udcde\", \"there\", \"vaccination\", \"fund\", \"today\", \"are\", \"to\", \"your\", \"vaccine\", \"covid19\", \"3\", \"you\", \"the\", \"from\", \"a\", \"vaccines\", \"is\", \"days\", \"have\", \"head\", \"risen\", \"uk\", \"technology\", \"production\", \"germany\", \"experts\", \"best\", \"restrictions\", \"leaders\", \"lift\", \"desperate\", \"transfer\", \"request\", \"hers\", \"moeti\", \"enable\", \"patent\", \"plead\", \"education\", \"roberts\", \"continent\", \"reports\", \"\\ud83e\\uddf5\", \"last\", \"httpstcocrdhqphfwm\", \"jriggers\", \"whoafro\", \"warned\", \"\\ud83d\\udea8africa\", \"urgently\", \"week\", \"20\", \"africa\", \"dstv403\", \"who\", \"by\", \"and\", \"deaths\", \"in\", \"of\", \"the\", \"is\", \"to\", \"cases\", \"have\", \"public\", \"a\", \"we\", \"i\", \"with\", \"vaccines\", \"one\", \"for\", \"health\", \"dr\"], \"Freq\": [810.0, 1348.0, 3576.0, 2511.0, 3090.0, 1399.0, 598.0, 535.0, 428.0, 4615.0, 653.0, 444.0, 702.0, 993.0, 499.0, 607.0, 437.0, 410.0, 269.0, 556.0, 327.0, 1023.0, 716.0, 358.0, 578.0, 252.0, 346.0, 603.0, 296.0, 282.0, 534.9516558438208, 410.0316968312513, 357.85799623478545, 345.87946000629347, 291.49343983940963, 271.68515236812, 231.23030807528326, 225.71142150780625, 214.74867250203258, 184.12122977828915, 178.9896894486148, 172.28757820412523, 147.09183877021187, 144.22377945532318, 144.24409216236342, 138.4069700206164, 152.46701768133883, 146.25006690177787, 131.4339973704726, 129.06024873059985, 121.5390323206726, 121.32894767351307, 120.01911028658947, 118.85801127318007, 122.09601813801872, 125.4610268814547, 117.35694968250297, 117.03714794156866, 115.53570667412447, 113.96502185627911, 116.558555884711, 196.35957881851255, 306.7797959982921, 261.48297186221527, 228.98093205239562, 603.8913509282622, 321.3767920349766, 418.54518898009377, 202.52148595876213, 334.6483554615285, 176.93596086381743, 312.27821798802205, 1546.264160055736, 2180.157303347064, 1342.6284746562214, 420.98977581278956, 519.7580926868194, 505.11327636131773, 925.9195543925645, 326.78798328746365, 738.1419044601654, 430.4110751117851, 406.87863315113367, 732.4598138343474, 378.15001089120796, 288.2968082502665, 268.5664684192639, 327.4087927693605, 294.84623248286397, 269.9588760111141, 326.4026525853191, 295.41352949702, 242.56171159838414, 182.07713436794754, 180.52138295827896, 156.43967109389226, 156.2130773528337, 143.55537663724098, 135.046921035864, 132.00999612525823, 129.29722771629625, 111.84824480314218, 111.14483421772069, 107.7833097045767, 106.29150178217193, 104.59988758187505, 104.08477070746903, 104.71859028331703, 103.3207922579617, 105.77263063473265, 101.14335418057406, 99.88636556310546, 102.53449763613224, 99.76611603672274, 104.24336054579435, 98.79503222913418, 98.79503222913418, 98.79503222913418, 98.79503222913418, 102.22733203969692, 100.54813272082546, 101.25843151106118, 465.4541906034396, 101.02056689452294, 226.65517901168425, 231.84780588670827, 176.49000268199566, 384.8607441285485, 194.54175588286435, 209.5747996480805, 397.0332251955429, 439.50085278627745, 1591.0370646084104, 362.8371795243748, 897.195653878653, 945.8577997487366, 472.3679180291934, 253.68317345642532, 140.8196717147046, 143.78993008164045, 541.7293530010598, 502.7153021202031, 157.6067343989206, 873.8695982233373, 416.74099951031167, 491.79632931456064, 318.5948925693374, 225.14845873008517, 422.07857677249086, 261.79377279283625, 342.33859095865284, 200.9040885555238, 187.2451570587579, 809.4958041256031, 251.6782239607059, 215.79193142921113, 184.7444873022135, 147.4513549202419, 162.0294104663032, 144.97538319131908, 140.881003105388, 137.45150856534585, 136.7893860631216, 133.6872469752851, 132.63184730526706, 131.95907581930507, 131.24466894146863, 131.17298396742106, 131.17298396742106, 127.61605737922092, 125.07693883693115, 121.94738276646468, 119.4421441200978, 116.25062709191445, 117.15786595701101, 114.02662597152143, 114.47697837175373, 108.33564541398711, 107.2065210982034, 106.98563176626229, 106.94709145763457, 106.93311021952009, 106.93311021952009, 198.1101951829682, 258.63305389442996, 338.1554428018467, 230.6727833569648, 736.0763976042292, 185.1294160462307, 1121.9573837084245, 805.7177628928882, 193.73380676489072, 592.5713568334489, 586.5869600124144, 533.44298135659, 400.9133666669168, 218.92491462250635, 505.2594616344402, 228.6584889497326, 304.53434801602884, 201.95479849332216, 266.17635283595155, 203.11570374052812, 237.048725996544, 223.33224201449454, 169.22268039558958, 147.98125451748183, 207.2866924530781, 201.3947870398187, 193.01678371898217, 186.24519638391416, 183.34043004947375, 183.34043004947375, 183.34043004947375, 183.34043004947375, 183.34043004947375, 183.34043004947375, 183.34043004947375, 183.34043004947375, 183.34043004947375, 183.34043004947375, 143.47941635676034, 136.77550739543048, 128.19777650347348, 127.98125837550653, 127.98125837550653, 126.79123555921178, 125.09317726192234, 124.93766973951045, 124.1291528127174, 123.94743769593035, 123.94743769593035, 123.41948317917863, 122.58759219614822, 121.05530114672138, 120.47276151982008, 119.1252613980957, 373.2214666745867, 492.71655220086495, 127.9243348063733, 337.6440674287376, 697.6664289117538, 1128.9113409953993, 199.84830723250468, 433.00756241015876, 592.4864623265885, 135.8899477253657, 247.79944098469062, 654.3877468808555, 209.40761154964292, 254.62022022720723, 268.3034074955888, 231.484981746964, 149.50390818095235, 175.96978640423262, 268.2788186415715, 178.8703947071098, 172.43476932076192, 163.5258034003489, 148.9303545032454, 146.6249215546363, 142.86340714996717, 141.74074534837402, 138.58486380094465, 137.76613063203519, 137.21456800312956, 135.6411163064508, 135.6240457354801, 134.10967673431907, 134.0621589480262, 134.01561748566266, 133.98596542075717, 133.98596542075717, 133.98596542075717, 125.73864516858153, 119.33596316595246, 110.597733150832, 105.4696873313331, 102.7330010314203, 96.29561423592155, 88.0781976785301, 88.0781976785301, 86.36683267793585, 86.17103443672522, 86.17103443672522, 191.06715662255957, 191.2159403372347, 171.14578016935096, 733.1586381979763, 97.326511653352, 240.6606478499926, 370.9776885962455, 918.6002767308557, 180.3598221546945, 818.5142307846054, 802.063434270318, 965.7400142939813, 505.0189119383642, 657.9070521516613, 240.46067255279564, 286.5889586555164, 156.34946017268234, 281.9114812968098, 204.9026128296363, 160.86478723755744, 197.35005273773436, 221.13247831042892, 163.00533215925492, 174.85120124146124, 159.16001493978501, 150.6581861631015], \"Total\": [810.0, 1348.0, 3576.0, 2511.0, 3090.0, 1399.0, 598.0, 535.0, 428.0, 4615.0, 653.0, 444.0, 702.0, 993.0, 499.0, 607.0, 437.0, 410.0, 269.0, 556.0, 327.0, 1023.0, 716.0, 358.0, 578.0, 252.0, 346.0, 603.0, 296.0, 282.0, 535.7921833569528, 410.8564089101805, 358.6754736985284, 346.82980253838525, 292.3328691532212, 272.5038289025089, 232.0387862680596, 226.525244917134, 215.56181507738808, 184.9402503769851, 179.84222602525455, 173.12122464768802, 147.9042643779358, 145.02908468239727, 145.06873124238524, 139.21689714713915, 153.36651517674943, 147.13545572340644, 132.25176493497486, 129.86835084617056, 122.34703401134696, 122.13688779908529, 120.82603215359342, 119.66552321241251, 122.92774065556466, 126.3178081923821, 118.16335181772119, 117.84307590459622, 116.34387251221874, 114.77194291263034, 117.38412275464827, 200.34459775073566, 319.37703182765347, 277.7525475918713, 243.756094331126, 702.3368926991562, 385.6154203548053, 556.5677533846427, 229.57859774256355, 432.2104155189071, 195.7729218432015, 407.3701217704238, 3576.3676873363097, 5796.1120464536625, 3090.311186078703, 651.786184618818, 1023.0958445183411, 1116.8763043092488, 3124.1064334945668, 579.4322207663157, 2658.2164255014254, 985.488774870023, 993.3435209334946, 4615.574733224258, 1348.7653977600394, 619.5341899524337, 594.8084490412652, 1806.5832139613542, 1119.8256878010684, 1813.7124198326742, 327.2654934471758, 296.2969101439879, 243.4240773249982, 182.9430136794204, 181.38530223338987, 157.31362436005352, 157.10146429373464, 144.42011861273335, 135.9062271405962, 132.87139277997602, 130.15820924026787, 112.71019125748835, 112.00536714663, 108.65575842369122, 107.15274974422758, 105.45916287001876, 104.94370950125723, 105.58363092052603, 104.18067500122334, 106.65569163314154, 102.00219023060932, 100.74512378931722, 103.4168040044894, 100.6249184981735, 105.14120261184242, 99.65375164866883, 99.65375164866883, 99.65375164866883, 99.65375164866883, 103.11642846916376, 101.42269449871125, 102.20643306950997, 499.91280516205694, 102.0435568308707, 250.535759370603, 269.5071503628624, 196.40049279234046, 536.537392615966, 230.53770795633244, 255.9238360293599, 607.0753106936121, 716.3591374921386, 4615.574733224258, 603.7001150540083, 2658.2164255014254, 3124.1064334945668, 1119.8256878010684, 427.3548495011807, 170.42121964933142, 178.48863507018305, 1806.5832139613542, 1813.7124198326742, 211.7695260098686, 5796.1120464536625, 1399.113837262685, 2511.819711561985, 1116.8763043092488, 521.7881981956652, 3576.3676873363097, 985.488774870023, 3090.311186078703, 594.8084490412652, 653.5365857202402, 810.3554282086317, 252.54799623099484, 216.67418987982327, 185.59293527200992, 148.29898666540834, 162.9634564709074, 145.8227388035755, 141.73386879022624, 138.30008751413803, 137.63681848763665, 134.53564688460756, 133.48034121982897, 132.8065567964015, 132.09202998035596, 132.0203389345377, 132.0203389345377, 128.4706792503634, 125.93994787692847, 122.80238614710387, 120.30902489312268, 117.10087069273231, 118.02096597346329, 114.87706223873248, 115.33424263989109, 109.18325448294671, 108.0540192823123, 107.8329978081015, 107.79446473755453, 107.78046566023686, 107.78046566023686, 208.19315239222905, 282.14710017561436, 437.16108060274564, 286.75922576965877, 2511.819711561985, 267.7250237241304, 5796.1120464536625, 3576.3676873363097, 293.65743832135723, 3124.1064334945668, 3090.311186078703, 2658.2164255014254, 1806.5832139613542, 480.03158191745956, 4615.574733224258, 578.4042254753692, 1813.7124198326742, 526.2623864027329, 1399.113837262685, 554.2731430656311, 1348.7653977600394, 1119.8256878010684, 579.4322207663157, 345.6797500266768, 208.07218121222851, 202.22528866535643, 193.8227183825711, 187.03546046536744, 184.13255696496537, 184.13255696496537, 184.13255696496537, 184.13255696496537, 184.13255696496537, 184.13255696496537, 184.13255696496537, 184.13255696496537, 184.13255696496537, 184.13255696496537, 144.272690461009, 137.55882099650367, 128.98085264582002, 128.7643297110578, 128.7643297110578, 127.57433154366232, 125.87637690646388, 125.72067768352198, 124.91222654036075, 124.73045389181631, 124.73045389181631, 124.2029679614614, 123.37061609312047, 121.83845108255206, 121.25586269936144, 119.90823450951562, 428.82994667053833, 598.3828551731579, 129.91434403048984, 444.1613177852735, 1399.113837262685, 4615.574733224258, 273.4290440471333, 993.3435209334946, 3124.1064334945668, 150.2471295461351, 578.4042254753692, 5796.1120464536625, 607.0753106936121, 1806.5832139613542, 2658.2164255014254, 1813.7124198326742, 242.09817621368848, 1023.0958445183411, 269.0713792933048, 179.66187944906326, 173.233552435898, 164.33437805287207, 149.725912898082, 147.42305678434548, 143.6555542462452, 142.5338194092336, 139.3768825264199, 138.55829789131244, 138.00635670260814, 136.43268427286594, 136.41588084650985, 134.90116585940032, 134.85365608697467, 134.8071140126264, 134.77744999866428, 134.77744999866428, 134.77744999866428, 126.57937058069366, 120.19225219789746, 111.39230628519857, 106.26382786499477, 103.5423531496545, 97.0880594479974, 88.86981835914332, 88.86981835914332, 87.15834562036706, 86.96251897755451, 86.96251897755451, 199.87445058731973, 205.21155624810632, 186.9533847098082, 1348.7653977600394, 101.76004380965932, 355.7724233703451, 653.5365857202402, 2511.819711561985, 252.0872709648748, 3090.311186078703, 3576.3676873363097, 5796.1120464536625, 1813.7124198326742, 4615.574733224258, 574.4908379191706, 1023.0958445183411, 207.0957017441582, 1806.5832139613542, 716.3591374921386, 326.3582059524029, 985.488774870023, 2658.2164255014254, 458.92698567507944, 1116.8763043092488, 535.9481017450016, 390.59351339363405], \"Category\": [\"Default\", \"Default\", \"Default\", \"Default\", \"Default\", \"Default\", \"Default\", \"Default\", \"Default\", \"Default\", \"Default\", \"Default\", \"Default\", \"Default\", \"Default\", \"Default\", \"Default\", \"Default\", \"Default\", \"Default\", \"Default\", \"Default\", \"Default\", \"Default\", \"Default\", \"Default\", \"Default\", \"Default\", \"Default\", \"Default\", \"Topic1\", \"Topic1\", \"Topic1\", \"Topic1\", \"Topic1\", \"Topic1\", \"Topic1\", \"Topic1\", \"Topic1\", \"Topic1\", \"Topic1\", \"Topic1\", \"Topic1\", \"Topic1\", \"Topic1\", \"Topic1\", \"Topic1\", \"Topic1\", \"Topic1\", \"Topic1\", \"Topic1\", \"Topic1\", \"Topic1\", \"Topic1\", \"Topic1\", \"Topic1\", \"Topic1\", \"Topic1\", \"Topic1\", \"Topic1\", \"Topic1\", \"Topic1\", \"Topic1\", \"Topic1\", \"Topic1\", \"Topic1\", \"Topic1\", \"Topic1\", \"Topic1\", \"Topic1\", \"Topic1\", \"Topic1\", \"Topic1\", \"Topic1\", \"Topic1\", \"Topic1\", \"Topic1\", \"Topic1\", \"Topic1\", \"Topic1\", \"Topic1\", \"Topic1\", \"Topic1\", \"Topic1\", \"Topic1\", \"Topic1\", \"Topic1\", \"Topic1\", \"Topic1\", \"Topic1\", \"Topic2\", \"Topic2\", \"Topic2\", \"Topic2\", \"Topic2\", \"Topic2\", \"Topic2\", \"Topic2\", \"Topic2\", \"Topic2\", \"Topic2\", \"Topic2\", \"Topic2\", \"Topic2\", \"Topic2\", \"Topic2\", \"Topic2\", \"Topic2\", \"Topic2\", \"Topic2\", \"Topic2\", \"Topic2\", \"Topic2\", \"Topic2\", \"Topic2\", \"Topic2\", \"Topic2\", \"Topic2\", \"Topic2\", \"Topic2\", \"Topic2\", \"Topic2\", \"Topic2\", \"Topic2\", \"Topic2\", \"Topic2\", \"Topic2\", \"Topic2\", \"Topic2\", \"Topic2\", \"Topic2\", \"Topic2\", \"Topic2\", \"Topic2\", \"Topic2\", \"Topic2\", \"Topic2\", \"Topic2\", \"Topic2\", \"Topic2\", \"Topic2\", \"Topic2\", \"Topic2\", \"Topic2\", \"Topic2\", \"Topic2\", \"Topic2\", \"Topic2\", \"Topic2\", \"Topic2\", \"Topic2\", \"Topic2\", \"Topic2\", \"Topic3\", \"Topic3\", \"Topic3\", \"Topic3\", \"Topic3\", \"Topic3\", \"Topic3\", \"Topic3\", \"Topic3\", \"Topic3\", \"Topic3\", \"Topic3\", \"Topic3\", \"Topic3\", \"Topic3\", \"Topic3\", \"Topic3\", \"Topic3\", \"Topic3\", \"Topic3\", \"Topic3\", \"Topic3\", \"Topic3\", \"Topic3\", \"Topic3\", \"Topic3\", \"Topic3\", \"Topic3\", \"Topic3\", \"Topic3\", \"Topic3\", \"Topic3\", \"Topic3\", \"Topic3\", \"Topic3\", \"Topic3\", \"Topic3\", \"Topic3\", \"Topic3\", \"Topic3\", \"Topic3\", \"Topic3\", \"Topic3\", \"Topic3\", \"Topic3\", \"Topic3\", \"Topic3\", \"Topic3\", \"Topic3\", \"Topic3\", \"Topic3\", \"Topic3\", \"Topic3\", \"Topic3\", \"Topic4\", \"Topic4\", \"Topic4\", \"Topic4\", \"Topic4\", \"Topic4\", \"Topic4\", \"Topic4\", \"Topic4\", \"Topic4\", \"Topic4\", \"Topic4\", \"Topic4\", \"Topic4\", \"Topic4\", \"Topic4\", \"Topic4\", \"Topic4\", \"Topic4\", \"Topic4\", \"Topic4\", \"Topic4\", \"Topic4\", \"Topic4\", \"Topic4\", \"Topic4\", \"Topic4\", \"Topic4\", \"Topic4\", \"Topic4\", \"Topic4\", \"Topic4\", \"Topic4\", \"Topic4\", \"Topic4\", \"Topic4\", \"Topic4\", \"Topic4\", \"Topic4\", \"Topic4\", \"Topic4\", \"Topic4\", \"Topic4\", \"Topic4\", \"Topic4\", \"Topic4\", \"Topic4\", \"Topic4\", \"Topic5\", \"Topic5\", \"Topic5\", \"Topic5\", \"Topic5\", \"Topic5\", \"Topic5\", \"Topic5\", \"Topic5\", \"Topic5\", \"Topic5\", \"Topic5\", \"Topic5\", \"Topic5\", \"Topic5\", \"Topic5\", \"Topic5\", \"Topic5\", \"Topic5\", \"Topic5\", \"Topic5\", \"Topic5\", \"Topic5\", \"Topic5\", \"Topic5\", \"Topic5\", \"Topic5\", \"Topic5\", \"Topic5\", \"Topic5\", \"Topic5\", \"Topic5\", \"Topic5\", \"Topic5\", \"Topic5\", \"Topic5\", \"Topic5\", \"Topic5\", \"Topic5\", \"Topic5\", \"Topic5\", \"Topic5\", \"Topic5\", \"Topic5\", \"Topic5\", \"Topic5\", \"Topic5\", \"Topic5\", \"Topic5\", \"Topic5\", \"Topic5\", \"Topic5\", \"Topic5\", \"Topic5\", \"Topic5\", \"Topic5\"], \"logprob\": [30.0, 29.0, 28.0, 27.0, 26.0, 25.0, 24.0, 23.0, 22.0, 21.0, 20.0, 19.0, 18.0, 17.0, 16.0, 15.0, 14.0, 13.0, 12.0, 11.0, 10.0, 9.0, 8.0, 7.0, 6.0, 5.0, 4.0, 3.0, 2.0, 1.0, -4.3335, -4.5994, -4.7355, -4.7695, -4.9406, -5.011, -5.1722, -5.1964, -5.2462, -5.4, -5.4283, -5.4665, -5.6246, -5.6443, -5.6441, -5.6854, -5.5887, -5.6303, -5.7371, -5.7554, -5.8154, -5.8171, -5.828, -5.8377, -5.8108, -5.7836, -5.8504, -5.8531, -5.8661, -5.8797, -5.8572, -5.3357, -4.8895, -5.0493, -5.182, -4.2122, -4.843, -4.5789, -5.3048, -4.8026, -5.4399, -4.8717, -3.272, -2.9285, -3.4133, -4.573, -4.3623, -4.3909, -3.7849, -4.8263, -4.0115, -4.5509, -4.6071, -4.0192, -4.6803, -4.9516, -5.0225, -4.8244, -4.9292, -5.0174, -4.6635, -4.7633, -4.9604, -5.2472, -5.2558, -5.399, -5.4004, -5.4849, -5.546, -5.5688, -5.5895, -5.7345, -5.7408, -5.7715, -5.7855, -5.8015, -5.8065, -5.8004, -5.8138, -5.7904, -5.8351, -5.8476, -5.8215, -5.8488, -5.8049, -5.8586, -5.8586, -5.8586, -5.8586, -5.8245, -5.841, -5.834, -4.3086, -5.8363, -5.0282, -5.0056, -5.2784, -4.4988, -5.181, -5.1066, -4.4676, -4.366, -3.0795, -4.5577, -3.6524, -3.5996, -4.2939, -4.9156, -5.5042, -5.4833, -4.1569, -4.2316, -5.3916, -3.6787, -4.4192, -4.2536, -4.6877, -5.0349, -4.4065, -4.8841, -4.6159, -5.1488, -5.2192, -3.4487, -4.617, -4.7708, -4.9261, -5.1516, -5.0573, -5.1685, -5.1972, -5.2218, -5.2267, -5.2496, -5.2575, -5.2626, -5.268, -5.2686, -5.2686, -5.2961, -5.3162, -5.3415, -5.3623, -5.3894, -5.3816, -5.4087, -5.4047, -5.4599, -5.4703, -5.4724, -5.4728, -5.4729, -5.4729, -4.8563, -4.5897, -4.3216, -4.7041, -3.5438, -4.924, -3.1223, -3.4534, -4.8786, -3.7606, -3.7708, -3.8657, -4.1514, -4.7564, -3.92, -4.7129, -4.4263, -4.8371, -4.5609, -4.8313, -4.6768, -4.7364, -5.0139, -5.148, -4.6925, -4.7214, -4.7638, -4.7996, -4.8153, -4.8153, -4.8153, -4.8153, -4.8153, -4.8153, -4.8153, -4.8153, -4.8153, -4.8153, -5.0604, -5.1083, -5.173, -5.1747, -5.1747, -5.1841, -5.1976, -5.1988, -5.2053, -5.2068, -5.2068, -5.211, -5.2178, -5.2304, -5.2352, -5.2464, -4.1045, -3.8267, -5.1752, -4.2046, -3.4789, -2.9976, -4.7291, -3.9559, -3.6423, -5.1148, -4.514, -3.5429, -4.6823, -4.4868, -4.4345, -4.5821, -5.0193, -4.8563, -4.3891, -4.7945, -4.8311, -4.8842, -4.9777, -4.9933, -5.0192, -5.0271, -5.0497, -5.0556, -5.0596, -5.0711, -5.0712, -5.0825, -5.0828, -5.0832, -5.0834, -5.0834, -5.0834, -5.1469, -5.1992, -5.2752, -5.3227, -5.349, -5.4137, -5.5029, -5.5029, -5.5225, -5.5248, -5.5248, -4.7285, -4.7277, -4.8386, -3.3838, -5.4031, -4.4977, -4.065, -3.1583, -4.7862, -3.2736, -3.2939, -3.1082, -3.7565, -3.4921, -4.4986, -4.3231, -4.929, -4.3395, -4.6586, -4.9006, -4.6962, -4.5824, -4.8874, -4.8172, -4.9112, -4.9661], \"loglift\": [30.0, 29.0, 28.0, 27.0, 26.0, 25.0, 24.0, 23.0, 22.0, 21.0, 20.0, 19.0, 18.0, 17.0, 16.0, 15.0, 14.0, 13.0, 12.0, 11.0, 10.0, 9.0, 8.0, 7.0, 6.0, 5.0, 4.0, 3.0, 2.0, 1.0, 1.2678, 1.2673, 1.2671, 1.2666, 1.2665, 1.2663, 1.2658, 1.2657, 1.2656, 1.2649, 1.2646, 1.2645, 1.2638, 1.2638, 1.2636, 1.2635, 1.2635, 1.2633, 1.2631, 1.2631, 1.2627, 1.2627, 1.2626, 1.2626, 1.2625, 1.2625, 1.2625, 1.2625, 1.2624, 1.2623, 1.2623, 1.2492, 1.2291, 1.209, 1.2068, 1.1183, 1.0871, 0.9843, 1.1439, 1.0135, 1.1682, 1.0035, 0.4308, 0.2915, 0.4357, 0.8322, 0.5921, 0.4758, 0.0532, 0.6966, -0.0119, 0.4409, 0.3768, -0.5714, -0.0023, 0.5044, 0.4742, -0.4386, -0.0651, -0.6355, 1.4307, 1.4303, 1.4298, 1.4286, 1.4285, 1.4277, 1.4276, 1.4273, 1.427, 1.4268, 1.4267, 1.4256, 1.4256, 1.4253, 1.4252, 1.4251, 1.4251, 1.4251, 1.425, 1.425, 1.4249, 1.4248, 1.4247, 1.4247, 1.4247, 1.4247, 1.4247, 1.4247, 1.4247, 1.4247, 1.4247, 1.424, 1.3619, 1.4232, 1.3331, 1.2828, 1.3264, 1.1011, 1.2635, 1.2335, 1.0087, 0.9448, 0.3683, 0.9242, 0.3472, 0.2385, 0.5701, 0.9118, 1.2425, 1.2171, 0.2289, 0.1502, 1.1379, -0.4587, 0.2222, -0.1974, 0.1789, 0.5928, -0.7036, 0.1077, -0.7669, 0.3479, 0.1833, 1.7388, 1.7364, 1.7358, 1.7353, 1.7341, 1.7341, 1.734, 1.7338, 1.7337, 1.7337, 1.7336, 1.7335, 1.7335, 1.7334, 1.7334, 1.7334, 1.7332, 1.733, 1.7329, 1.7326, 1.7326, 1.7325, 1.7324, 1.7324, 1.7321, 1.732, 1.732, 1.732, 1.732, 1.732, 1.6902, 1.6529, 1.4831, 1.5222, 0.5124, 1.371, 0.0978, 0.2495, 1.3239, 0.0774, 0.0782, 0.1338, 0.2344, 0.9548, -0.4722, 0.8118, -0.0445, 0.7821, 0.0804, 0.736, 0.0012, 0.1276, 0.509, 0.8914, 1.8546, 1.8542, 1.8542, 1.8541, 1.854, 1.854, 1.854, 1.854, 1.854, 1.854, 1.854, 1.854, 1.854, 1.854, 1.8528, 1.8526, 1.8523, 1.8523, 1.8523, 1.8522, 1.8521, 1.8521, 1.8521, 1.8521, 1.8521, 1.852, 1.852, 1.8519, 1.8519, 1.8518, 1.7195, 1.6641, 1.8429, 1.5842, 1.1625, 0.4502, 1.5449, 1.028, 0.1958, 1.7579, 1.0107, -0.3229, 0.794, -0.1011, -0.4349, -0.2003, 1.3763, 0.0981, 1.9009, 1.8994, 1.8992, 1.8989, 1.8985, 1.8984, 1.8983, 1.8983, 1.8981, 1.8981, 1.8981, 1.898, 1.898, 1.898, 1.898, 1.898, 1.898, 1.898, 1.898, 1.8972, 1.8967, 1.8967, 1.8963, 1.896, 1.8956, 1.8949, 1.8949, 1.8947, 1.8947, 1.8947, 1.8588, 1.8332, 1.8155, 1.2943, 1.8593, 1.5129, 1.3376, 0.8979, 1.569, 0.5753, 0.4089, 0.1118, 0.6253, -0.0443, 1.0329, 0.6313, 1.6228, 0.0462, 0.6522, 1.1964, 0.2957, -0.5828, 0.8687, 0.0495, 0.6897, 0.9512]}, \"token.table\": {\"Topic\": [4, 1, 2, 5, 4, 2, 1, 4, 5, 2, 4, 4, 1, 2, 3, 4, 5, 1, 3, 3, 1, 2, 1, 3, 5, 2, 4, 1, 1, 2, 3, 4, 2, 3, 1, 2, 3, 4, 5, 2, 3, 4, 5, 1, 2, 4, 4, 1, 2, 3, 2, 3, 4, 1, 5, 3, 3, 1, 1, 2, 3, 4, 1, 2, 5, 4, 3, 4, 4, 1, 2, 3, 5, 1, 2, 4, 2, 3, 5, 2, 5, 2, 1, 2, 3, 4, 5, 4, 2, 1, 3, 4, 5, 1, 1, 3, 5, 1, 4, 5, 2, 1, 2, 1, 5, 1, 5, 1, 2, 2, 4, 5, 3, 5, 3, 5, 2, 1, 4, 4, 4, 1, 2, 3, 4, 5, 3, 2, 2, 4, 2, 3, 1, 4, 2, 4, 5, 5, 1, 3, 1, 2, 3, 1, 5, 1, 3, 4, 5, 5, 1, 2, 3, 5, 2, 5, 1, 3, 4, 5, 1, 2, 4, 1, 2, 3, 5, 3, 1, 2, 3, 5, 3, 2, 3, 4, 1, 2, 3, 4, 5, 1, 2, 4, 2, 3, 5, 4, 2, 5, 5, 1, 5, 1, 3, 2, 1, 5, 2, 1, 2, 3, 4, 5, 1, 2, 1, 4, 2, 3, 3, 1, 2, 1, 2, 3, 5, 1, 2, 3, 4, 2, 3, 4, 5, 1, 2, 3, 1, 2, 3, 4, 1, 2, 3, 2, 4, 5, 2, 4, 2, 1, 2, 3, 4, 1, 2, 3, 5, 4, 2, 5, 1, 2, 1, 5, 1, 2, 3, 3, 3, 4, 5, 5, 5, 5, 5, 1, 4, 3, 2, 2, 2, 3, 1, 3, 3, 1, 5, 3, 2, 2, 1, 3, 3, 5, 1, 2, 3, 1, 2, 3, 4, 5, 2, 2, 4, 1, 1, 3, 5, 1, 2, 3, 4, 1, 1, 1, 2, 3, 4, 5, 1, 4, 1, 3, 5, 3, 2, 5, 1, 3, 2, 5, 1, 2, 3, 2, 4, 3, 1, 2, 3, 4, 1, 2, 3, 4, 5, 2, 5, 1, 3, 5, 4, 4, 1, 2, 4, 5, 4, 1, 5, 1, 2, 1, 3, 4, 5, 5, 3, 1, 2, 3, 1, 2, 3, 5, 1, 2, 3, 2, 3, 4, 2, 3, 4, 1, 4, 4, 4, 3, 5, 5], \"Freq\": [0.9969959127638567, 0.9955232214201485, 0.0802339044210578, 0.9146665104000589, 0.9938492302304754, 0.9958323479690572, 0.9949159235208751, 0.9051753628227528, 0.09317981676116574, 0.9910074695687603, 0.9940641192108643, 0.9944638280741466, 0.18100467084656255, 0.30001385810041864, 0.2219659725060293, 0.1411504313941084, 0.1560957711887787, 0.569891640990822, 0.4281419434854907, 0.9905995177768407, 0.9612463308434386, 0.03757314648247968, 0.28025630004132895, 0.1757162516132142, 0.5434599680695612, 0.896128097733897, 0.09674110145990933, 0.9926329317611555, 0.26343385690613424, 0.4214941710498148, 0.19913813589853538, 0.11519650013861463, 0.8608305927602922, 0.13728763763849486, 0.09913131856312982, 0.19587393065485892, 0.29301466049182145, 0.04618165844708056, 0.3658702078695434, 0.298045797914375, 0.19012034111564452, 0.49888721089744315, 0.012865286240908276, 0.15842325468793544, 0.7175641535865311, 0.1248748007540197, 0.9938492302304754, 0.41396106839312263, 0.4312094462428361, 0.15523540064742097, 0.996133128996137, 0.9927587466294944, 0.9938492302304754, 0.9985214727247615, 0.9962547877307566, 0.9927587466294944, 0.9968051840381699, 0.992452959351428, 0.8324355901137135, 0.08298423328236396, 0.06223817496177297, 0.02074605832059099, 0.14536294076834852, 0.28613547288085445, 0.5676805371058663, 0.9954980634684669, 0.7731703827201976, 0.22417366126206914, 0.9938492302304754, 0.32724629809753575, 0.010444030790346885, 0.2419533799763695, 0.4177612316138754, 0.99704434359289, 0.9897734177122, 0.9940641192108643, 0.9891460000124264, 0.9884315134052859, 0.9964781563621266, 0.9060582831379854, 0.09180326216816592, 0.9891731270590154, 0.2964047543553738, 0.30280658490300605, 0.18981427573729662, 0.189494184209915, 0.02144613233456808, 0.9939409721037212, 0.9934397688210109, 0.16522222771597384, 0.14043889355857778, 0.6195833539349019, 0.07848055816508757, 0.9906916917601875, 0.2737147327427504, 0.007933760369355083, 0.7140384332419575, 0.9041086904845957, 0.09194325665945041, 0.9968285878477582, 0.9881961141458729, 0.8599861494941025, 0.13953417657354644, 0.6118893217746285, 0.3865911614559368, 0.03930815917770183, 0.9532228600592693, 0.9905349850295735, 0.9892419956839262, 0.9911015275407651, 0.9931183376421623, 0.9954228672647387, 0.9953731966879643, 0.9942316018097094, 0.9978301303547322, 0.9954366244334591, 0.9910239377608232, 0.9973937170774593, 0.9938492302304754, 0.9911785767844056, 0.9938492302304754, 0.4521539207623586, 0.28561802123404434, 0.04208165203134823, 0.06446550949483133, 0.1566870022443817, 0.9891626743629306, 0.9970909966231235, 0.6539551073925389, 0.3442735955794474, 0.3062844065129099, 0.6910075024986382, 0.9783143753337382, 0.014974199622455176, 0.007697379434601218, 0.9852645676289559, 0.007697379434601218, 0.9971303214464998, 0.3371275066823325, 0.6606336999633586, 0.9976074647209897, 0.8205566283240164, 0.1797409757281179, 0.7528283797470207, 0.24615152273351273, 0.5082612765813829, 0.04007444680737826, 0.17202689361216034, 0.28052112765164783, 0.9960182339120619, 0.1231462520066954, 0.3227924484417925, 0.2574876178321813, 0.29667051619794804, 0.9944723351959232, 0.9936697594136855, 0.9895675185372511, 0.8055538557826637, 0.19179853709111042, 0.9902124436034269, 0.993274114796349, 0.9934397688210109, 0.9938492302304754, 0.9976812963282475, 0.29415531231962017, 0.21142413072972702, 0.49332297170269634, 0.9968884624412478, 0.43458406585394177, 0.11066846650934332, 0.18994850830697232, 0.2650218540092169, 0.9983273657935161, 0.9938522583923894, 0.9948222058955266, 0.9938492302304754, 0.14886593764677925, 0.2773317282827036, 0.16816337400839879, 0.12736307998668892, 0.278434438931939, 0.19048831869116456, 0.8067740556331675, 0.990314499071917, 0.9939648074505709, 0.9922751122102356, 0.9902124436034269, 0.9938492302304754, 0.988667044044306, 0.9887930662721693, 0.9959706643354527, 0.9935234709090709, 0.9927078960226683, 0.9928457747888492, 0.9905989538231449, 0.9948453146121617, 0.9912589838440875, 0.9940128232954322, 0.9956460599769344, 0.4648653854311284, 0.15979747624195037, 0.0855481438467007, 0.06295052094379863, 0.22597622902902073, 0.9967276430096841, 0.9934397688210109, 0.9953168616521891, 0.9926970596423882, 0.9301622106864431, 0.06801186056632057, 0.9934660378167025, 0.8842287652076032, 0.11325097485417578, 0.4322821743061508, 0.11799681601370998, 0.22536832632002426, 0.22424987308766683, 0.4522464340134784, 0.33792391537810096, 0.12104737267275259, 0.08910431599522066, 0.2745534778580401, 0.2876274529941372, 0.08280184252861526, 0.35517632453063913, 0.9981167552618997, 0.8458486107484687, 0.15181898141639183, 0.05194326212680569, 0.7460941287304818, 0.07555383582080828, 0.12749709794761396, 0.9954405771848986, 0.9934397688210109, 0.9943579526051576, 0.9982578661500604, 0.9938492302304754, 0.9942316018097094, 0.8273617586479535, 0.17016660284248689, 0.9901748165569432, 0.3145626364766228, 0.2291515894862815, 0.45621998270450587, 0.9957553046957724, 0.992282922441611, 0.043229087492005, 0.95103992482411, 0.9942316018097094, 0.9942676280720014, 0.992603872412967, 0.9951517216757522, 0.9910898726806529, 0.9959696684837475, 0.24143427207276846, 0.7532749288670376, 0.9929042875458334, 0.9936989614730942, 0.9917328094623244, 0.9902454412217794, 0.9922713504390892, 0.9930377968606843, 0.9881066973551863, 0.9933198067365885, 0.997295946647763, 0.9963159716958715, 0.9900804571335063, 0.9944384715451319, 0.994143740610053, 0.9912407583179303, 0.9933319674921246, 0.993441833025571, 0.08151776142900037, 0.9179608787004825, 0.7750854398032094, 0.2244277243609293, 0.9922713504390892, 0.9396853503699004, 0.05760523220658393, 0.9891194788230927, 0.9916496465872088, 0.995622937332159, 0.9901547154864414, 0.9960185504956394, 0.9940878986505824, 0.9979652580498739, 0.6459173421207326, 0.2117258746143969, 0.1411505830762646, 0.37611419215641767, 0.15079073575445368, 0.19357803834839477, 0.1128342576469253, 0.1666634447812383, 0.9978757802939617, 0.12825596819210816, 0.8698086570119334, 0.998151112575049, 0.4370443450693204, 0.38383894653914225, 0.1786181236370266, 0.5643455580836239, 0.02070992873701372, 0.2916648297129432, 0.12253374502733118, 0.9933136068910344, 0.9938861507358223, 0.15859346718640469, 0.3447024676141665, 0.10941215973925461, 0.24460659078340288, 0.14256079427411789, 0.23865202969170968, 0.7609847739226214, 0.9931634587441938, 0.9964014085112511, 0.9969513751336783, 0.9923652100633475, 0.9937896248016852, 0.9928792522086364, 0.9979155517801166, 0.9939268300010368, 0.04002512565509225, 0.9555998750153276, 0.7658882753699588, 0.20374591940931597, 0.027002471247017778, 0.17547294193383178, 0.8238872416512292, 0.9926298187992416, 0.4097273414714798, 0.06140876616648715, 0.09362320087677549, 0.4359015696735891, 0.277629764424012, 0.3374443071657707, 0.200510385417342, 0.1008194808477442, 0.08313845249011742, 0.9929888349628925, 0.988931795112755, 0.4366078404259702, 0.3662454198614543, 0.19484978002481315, 0.9948470708290652, 0.9896428702793926, 0.04885817485699914, 0.614217055345132, 0.05165007056311338, 0.28616930987670924, 0.9959375851548053, 0.0633492588706001, 0.9307468034065092, 0.9394636906551315, 0.05743446143743162, 0.2192412758163807, 0.02810785587389496, 0.0758912108595164, 0.6773993265608685, 0.9867098714171053, 0.9913492830274508, 0.3884359805294344, 0.5943538497257611, 0.01637983050425326, 0.43633170764092477, 0.26585792419051696, 0.09741359054309018, 0.19990080559363296, 0.39754837545215493, 0.6012919178713843, 0.9963362904819228, 0.17461836472061007, 0.3959168863467297, 0.42876588565060686, 0.1828627978210723, 0.08777414295411469, 0.7314511912842891, 0.997163527386248, 0.9923953623681382, 0.9924255868395465, 0.994143740610053, 0.9925365390984042, 0.988931795112755, 0.9947620163811555], \"Term\": [\"18002320233\", \"2\", \"20\", \"20\", \"204344\", \"21\", \"2nd\", \"3\", \"3\", \"30\", \"438829\", \"84\", \"a\", \"a\", \"a\", \"a\", \"a\", \"about\", \"about\", \"action\", \"administered\", \"administered\", \"africa\", \"africa\", \"africa\", \"all\", \"all\", \"america\", \"amp\", \"amp\", \"amp\", \"amp\", \"an\", \"an\", \"and\", \"and\", \"and\", \"and\", \"and\", \"are\", \"are\", \"are\", \"are\", \"as\", \"as\", \"as\", \"ashevaks\", \"at\", \"at\", \"at\", \"australia\", \"bakarwals\", \"beautiful\", \"been\", \"best\", \"bjp4india\", \"blown\", \"bringing\", \"but\", \"but\", \"but\", \"but\", \"by\", \"by\", \"by\", \"call\", \"can\", \"can\", \"capita\", \"cases\", \"cases\", \"cases\", \"cases\", \"cause\", \"centre\", \"code\", \"committed\", \"community\", \"continent\", \"countries\", \"countries\", \"coverage\", \"covid19\", \"covid19\", \"covid19\", \"covid19\", \"covid19\", \"covidvaccination\", \"dailymonitor\", \"days\", \"days\", \"days\", \"days\", \"deadly\", \"deaths\", \"deaths\", \"deaths\", \"delta\", \"delta\", \"desperate\", \"directly\", \"doses\", \"doses\", \"dr\", \"dr\", \"dstv403\", \"dstv403\", \"during\", \"dying\", \"each\", \"easy\", \"education\", \"elsewhere\", \"enable\", \"everyone\", \"experts\", \"failure\", \"far\", \"fastest\", \"find\", \"fish\", \"for\", \"for\", \"for\", \"for\", \"for\", \"forward\", \"free\", \"from\", \"from\", \"full\", \"full\", \"fully\", \"fully\", \"fund\", \"fund\", \"fund\", \"germany\", \"get\", \"get\", \"go\", \"government\", \"government\", \"has\", \"has\", \"have\", \"have\", \"have\", \"have\", \"head\", \"health\", \"health\", \"health\", \"health\", \"helping\", \"hers\", \"hospital\", \"how\", \"how\", \"httpstcocrdhqphfwm\", \"httpstcojzl6kur8uw\", \"httpstcoo1k0iugf6z\", \"httpstcoxo2wlew4j2\", \"huge\", \"i\", \"i\", \"i\", \"if\", \"in\", \"in\", \"in\", \"in\", \"india\", \"indiafightscorona\", \"into\", \"iqalutsiavak\", \"is\", \"is\", \"is\", \"is\", \"is\", \"israel\", \"israel\", \"i\\u2019m\", \"jab\", \"jammu\", \"jriggers\", \"kenojuak\", \"kills\", \"last\", \"leaders\", \"less\", \"lift\", \"little\", \"long\", \"million\", \"millions\", \"moeti\", \"money\", \"more\", \"more\", \"more\", \"more\", \"more\", \"mrna\", \"mulago\", \"must\", \"near\", \"need\", \"need\", \"nft\", \"now\", \"now\", \"of\", \"of\", \"of\", \"of\", \"on\", \"on\", \"on\", \"on\", \"one\", \"one\", \"one\", \"one\", \"ontario\", \"other\", \"other\", \"our\", \"our\", \"our\", \"our\", \"over\", \"overstretched\", \"overwhelm\", \"oxygen\", \"pace\", \"patent\", \"patients\", \"patients\", \"pay\", \"people\", \"people\", \"people\", \"per\", \"pfizer\", \"places\", \"places\", \"plead\", \"pleased\", \"ppes\", \"production\", \"provide\", \"providing\", \"public\", \"public\", \"puts\", \"question\", \"quickly\", \"reach\", \"rebound\", \"remember\", \"reports\", \"request\", \"restrictions\", \"risen\", \"roberts\", \"rural\", \"search\", \"seen\", \"sending\", \"sent\", \"should\", \"should\", \"so\", \"so\", \"sobering\", \"south\", \"south\", \"staff\", \"stand\", \"support\", \"surges\", \"surging\", \"take\", \"technology\", \"that\", \"that\", \"that\", \"the\", \"the\", \"the\", \"the\", \"the\", \"them\", \"there\", \"there\", \"these\", \"third\", \"third\", \"third\", \"this\", \"this\", \"this\", \"this\", \"threat\", \"time\", \"to\", \"to\", \"to\", \"to\", \"to\", \"today\", \"today\", \"total\", \"trajectory\", \"transfer\", \"travel\", \"ugandans\", \"uk\", \"up\", \"urgent\", \"urgently\", \"urgently\", \"vaccinated\", \"vaccinated\", \"vaccinated\", \"vaccination\", \"vaccination\", \"vaccinationdrive\", \"vaccine\", \"vaccine\", \"vaccine\", \"vaccine\", \"vaccines\", \"vaccines\", \"vaccines\", \"vaccines\", \"vaccines\", \"via\", \"warned\", \"wave\", \"wave\", \"wave\", \"way\", \"ways\", \"we\", \"we\", \"we\", \"we\", \"wecandothis\", \"week\", \"week\", \"where\", \"where\", \"who\", \"who\", \"who\", \"who\", \"whoafro\", \"why\", \"will\", \"will\", \"will\", \"with\", \"with\", \"with\", \"with\", \"world\", \"world\", \"yet\", \"you\", \"you\", \"you\", \"your\", \"your\", \"your\", \"youre\", \"zip\", \"\\ud83d\\udcde\", \"\\ud83d\\udd0d\", \"\\ud83d\\udd30\", \"\\ud83d\\udea8africa\", \"\\ud83e\\uddf5\"]}, \"R\": 30, \"lambda.step\": 0.01, \"plot.opts\": {\"xlab\": \"PC1\", \"ylab\": \"PC2\"}, \"topic.order\": [4, 2, 3, 1, 5]};\n",
              "\n",
              "function LDAvis_load_lib(url, callback){\n",
              "  var s = document.createElement('script');\n",
              "  s.src = url;\n",
              "  s.async = true;\n",
              "  s.onreadystatechange = s.onload = callback;\n",
              "  s.onerror = function(){console.warn(\"failed to load library \" + url);};\n",
              "  document.getElementsByTagName(\"head\")[0].appendChild(s);\n",
              "}\n",
              "\n",
              "if(typeof(LDAvis) !== \"undefined\"){\n",
              "   // already loaded: just create the visualization\n",
              "   !function(LDAvis){\n",
              "       new LDAvis(\"#\" + \"ldavis_el2151406504112108323239733013\", ldavis_el2151406504112108323239733013_data);\n",
              "   }(LDAvis);\n",
              "}else if(typeof define === \"function\" && define.amd){\n",
              "   // require.js is available: use it to load d3/LDAvis\n",
              "   require.config({paths: {d3: \"https://d3js.org/d3.v5\"}});\n",
              "   require([\"d3\"], function(d3){\n",
              "      window.d3 = d3;\n",
              "      LDAvis_load_lib(\"https://cdn.jsdelivr.net/gh/bmabey/pyLDAvis@3.3.1/pyLDAvis/js/ldavis.v3.0.0.js\", function(){\n",
              "        new LDAvis(\"#\" + \"ldavis_el2151406504112108323239733013\", ldavis_el2151406504112108323239733013_data);\n",
              "      });\n",
              "    });\n",
              "}else{\n",
              "    // require.js not available: dynamically load d3 & LDAvis\n",
              "    LDAvis_load_lib(\"https://d3js.org/d3.v5.js\", function(){\n",
              "         LDAvis_load_lib(\"https://cdn.jsdelivr.net/gh/bmabey/pyLDAvis@3.3.1/pyLDAvis/js/ldavis.v3.0.0.js\", function(){\n",
              "                 new LDAvis(\"#\" + \"ldavis_el2151406504112108323239733013\", ldavis_el2151406504112108323239733013_data);\n",
              "            })\n",
              "         });\n",
              "}\n",
              "</script>"
            ],
            "text/plain": [
              "PreparedData(topic_coordinates=              x         y  topics  cluster       Freq\n",
              "topic                                                \n",
              "3     -0.130733  0.045423       1        1  28.101745\n",
              "1      0.055109  0.226078       2        1  23.851692\n",
              "2     -0.066829  0.004994       3        1  17.554202\n",
              "0      0.297442 -0.108393       4        1  15.592869\n",
              "4     -0.154988 -0.168101       5        1  14.899492, topic_info=         Term         Freq        Total Category  logprob  loglift\n",
              "266     india   810.000000   810.000000  Default  30.0000  30.0000\n",
              "34     africa  1348.000000  1348.000000  Default  29.0000  29.0000\n",
              "22         of  3576.000000  3576.000000  Default  28.0000  28.0000\n",
              "5         and  2511.000000  2511.000000  Default  27.0000  27.0000\n",
              "16         in  3090.000000  3090.000000  Default  26.0000  26.0000\n",
              "..        ...          ...          ...      ...      ...      ...\n",
              "62   vaccines   221.132478  2658.216426   Topic5  -4.5824  -0.5828\n",
              "50        one   163.005332   458.926986   Topic5  -4.8874   0.8687\n",
              "40        for   174.851201  1116.876304   Topic5  -4.8172   0.0495\n",
              "42     health   159.160015   535.948102   Topic5  -4.9112   0.6897\n",
              "37         dr   150.658186   390.593513   Topic5  -4.9661   0.9512\n",
              "\n",
              "[311 rows x 6 columns], token_table=      Topic      Freq         Term\n",
              "term                              \n",
              "154       4  0.996996  18002320233\n",
              "280       1  0.995523            2\n",
              "1         2  0.080234           20\n",
              "1         5  0.914667           20\n",
              "4728      4  0.993849       204344\n",
              "...     ...       ...          ...\n",
              "177       4  0.992426            📞\n",
              "179       4  0.994144            🔍\n",
              "5654      3  0.992537            🔰\n",
              "32        5  0.988932      🚨africa\n",
              "33        5  0.994762            🧵\n",
              "\n",
              "[384 rows x 3 columns], R=30, lambda_step=0.01, plot_opts={'xlab': 'PC1', 'ylab': 'PC2'}, topic_order=[4, 2, 3, 1, 5])"
            ]
          },
          "metadata": {
            "tags": []
          },
          "execution_count": 39
        }
      ]
    },
    {
      "cell_type": "code",
      "metadata": {
        "id": "uvCIxKWUFEmC"
      },
      "source": [
        ""
      ],
      "execution_count": null,
      "outputs": []
    }
  ]
}