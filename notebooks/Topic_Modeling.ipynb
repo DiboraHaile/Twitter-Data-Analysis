{
  "nbformat": 4,
  "nbformat_minor": 0,
  "metadata": {
    "colab": {
      "name": "Topic Modeling.ipynb",
      "provenance": [],
      "collapsed_sections": []
    },
    "kernelspec": {
      "display_name": "Python 3",
      "name": "python3"
    },
    "language_info": {
      "name": "python"
    }
  },
  "cells": [
    {
      "cell_type": "code",
      "metadata": {
        "colab": {
          "base_uri": "https://localhost:8080/",
          "height": 420
        },
        "id": "Pxx0Pe6V-tE_",
        "outputId": "d33bfaab-1c25-4595-b9d0-8244cb60ffc0"
      },
      "source": [
        "!pip uninstall pandas\n",
        "!pip install pandas==1.1.5"
      ],
      "execution_count": 1,
      "outputs": [
        {
          "output_type": "stream",
          "text": [
            "Uninstalling pandas-1.2.5:\n",
            "  Would remove:\n",
            "    /usr/local/lib/python3.7/dist-packages/pandas-1.2.5.dist-info/*\n",
            "    /usr/local/lib/python3.7/dist-packages/pandas/*\n",
            "Proceed (y/n)? n\n",
            "Collecting pandas==1.1.5\n",
            "  Using cached https://files.pythonhosted.org/packages/fd/70/e8eee0cbddf926bf51958c7d6a86bc69167c300fa2ba8e592330a2377d1b/pandas-1.1.5-cp37-cp37m-manylinux1_x86_64.whl\n",
            "Requirement already satisfied: pytz>=2017.2 in /usr/local/lib/python3.7/dist-packages (from pandas==1.1.5) (2018.9)\n",
            "Requirement already satisfied: numpy>=1.15.4 in /usr/local/lib/python3.7/dist-packages (from pandas==1.1.5) (1.21.0)\n",
            "Requirement already satisfied: python-dateutil>=2.7.3 in /usr/local/lib/python3.7/dist-packages (from pandas==1.1.5) (2.8.1)\n",
            "Requirement already satisfied: six>=1.5 in /usr/local/lib/python3.7/dist-packages (from python-dateutil>=2.7.3->pandas==1.1.5) (1.15.0)\n",
            "\u001b[31mERROR: pyldavis 3.3.1 has requirement pandas>=1.2.0, but you'll have pandas 1.1.5 which is incompatible.\u001b[0m\n",
            "Installing collected packages: pandas\n",
            "  Found existing installation: pandas 1.2.5\n",
            "    Uninstalling pandas-1.2.5:\n",
            "      Successfully uninstalled pandas-1.2.5\n",
            "Successfully installed pandas-1.1.5\n"
          ],
          "name": "stdout"
        },
        {
          "output_type": "display_data",
          "data": {
            "application/vnd.colab-display-data+json": {
              "pip_warning": {
                "packages": [
                  "pandas"
                ]
              }
            }
          },
          "metadata": {
            "tags": []
          }
        }
      ]
    },
    {
      "cell_type": "code",
      "metadata": {
        "colab": {
          "base_uri": "https://localhost:8080/",
          "height": 559
        },
        "id": "OqR6OW2nJ37w",
        "outputId": "a810fefc-ffbe-44e1-9d81-65d9e44408b2"
      },
      "source": [
        "!pip install pyLDAvis "
      ],
      "execution_count": 2,
      "outputs": [
        {
          "output_type": "stream",
          "text": [
            "Requirement already satisfied: pyLDAvis in /usr/local/lib/python3.7/dist-packages (3.3.1)\n",
            "Requirement already satisfied: jinja2 in /usr/local/lib/python3.7/dist-packages (from pyLDAvis) (2.11.3)\n",
            "Requirement already satisfied: joblib in /usr/local/lib/python3.7/dist-packages (from pyLDAvis) (1.0.1)\n",
            "Requirement already satisfied: setuptools in /usr/local/lib/python3.7/dist-packages (from pyLDAvis) (57.0.0)\n",
            "Collecting pandas>=1.2.0\n",
            "  Using cached https://files.pythonhosted.org/packages/e6/0a/90da8840e044c329a0271fb0244ff40a68a2615bc360c296a3dc5e326ab6/pandas-1.2.5-cp37-cp37m-manylinux_2_5_x86_64.manylinux1_x86_64.whl\n",
            "Requirement already satisfied: numexpr in /usr/local/lib/python3.7/dist-packages (from pyLDAvis) (2.7.3)\n",
            "Requirement already satisfied: scikit-learn in /usr/local/lib/python3.7/dist-packages (from pyLDAvis) (0.22.2.post1)\n",
            "Requirement already satisfied: funcy in /usr/local/lib/python3.7/dist-packages (from pyLDAvis) (1.16)\n",
            "Requirement already satisfied: future in /usr/local/lib/python3.7/dist-packages (from pyLDAvis) (0.16.0)\n",
            "Requirement already satisfied: gensim in /usr/local/lib/python3.7/dist-packages (from pyLDAvis) (3.6.0)\n",
            "Requirement already satisfied: sklearn in /usr/local/lib/python3.7/dist-packages (from pyLDAvis) (0.0)\n",
            "Requirement already satisfied: scipy in /usr/local/lib/python3.7/dist-packages (from pyLDAvis) (1.4.1)\n",
            "Requirement already satisfied: numpy>=1.20.0 in /usr/local/lib/python3.7/dist-packages (from pyLDAvis) (1.21.0)\n",
            "Requirement already satisfied: MarkupSafe>=0.23 in /usr/local/lib/python3.7/dist-packages (from jinja2->pyLDAvis) (2.0.1)\n",
            "Requirement already satisfied: pytz>=2017.3 in /usr/local/lib/python3.7/dist-packages (from pandas>=1.2.0->pyLDAvis) (2018.9)\n",
            "Requirement already satisfied: python-dateutil>=2.7.3 in /usr/local/lib/python3.7/dist-packages (from pandas>=1.2.0->pyLDAvis) (2.8.1)\n",
            "Requirement already satisfied: smart-open>=1.2.1 in /usr/local/lib/python3.7/dist-packages (from gensim->pyLDAvis) (5.1.0)\n",
            "Requirement already satisfied: six>=1.5.0 in /usr/local/lib/python3.7/dist-packages (from gensim->pyLDAvis) (1.15.0)\n",
            "\u001b[31mERROR: google-colab 1.0.0 has requirement pandas~=1.1.0; python_version >= \"3.0\", but you'll have pandas 1.2.5 which is incompatible.\u001b[0m\n",
            "Installing collected packages: pandas\n",
            "  Found existing installation: pandas 1.1.5\n",
            "    Uninstalling pandas-1.1.5:\n",
            "      Successfully uninstalled pandas-1.1.5\n",
            "Successfully installed pandas-1.2.5\n"
          ],
          "name": "stdout"
        },
        {
          "output_type": "display_data",
          "data": {
            "application/vnd.colab-display-data+json": {
              "pip_warning": {
                "packages": [
                  "pandas"
                ]
              }
            }
          },
          "metadata": {
            "tags": []
          }
        }
      ]
    },
    {
      "cell_type": "code",
      "metadata": {
        "id": "XmB73mrZCvgA",
        "colab": {
          "base_uri": "https://localhost:8080/"
        },
        "outputId": "1b47f52e-2e52-4795-880e-906cbe9ee7cb"
      },
      "source": [
        "import warnings\n",
        "warnings.filterwarnings('ignore')\n",
        "import matplotlib.pyplot as plt\n",
        "import nltk\n",
        "import seaborn as sns\n",
        "from wordcloud import STOPWORDS,WordCloud\n",
        "from nltk.stem import WordNetLemmatizer \n",
        "import gensim\n",
        "from gensim.models import CoherenceModel\n",
        "from gensim import corpora\n",
        "import pandas as pd\n",
        "from pprint import pprint\n",
        "from nltk import corpus\n",
        "from nltk import wordnet\n",
        "from nltk.tokenize import RegexpTokenizer\n",
        "from nltk.corpus import stopwords\n",
        "import string\n",
        "import os\n",
        "import re\n",
        "import pickle \n",
        "import pyLDAvis\n",
        "import pyLDAvis.gensim_models as gensimvis\n"
      ],
      "execution_count": 3,
      "outputs": [
        {
          "output_type": "stream",
          "text": [
            "/usr/local/lib/python3.7/dist-packages/past/types/oldstr.py:5: DeprecationWarning: Using or importing the ABCs from 'collections' instead of from 'collections.abc' is deprecated since Python 3.3,and in 3.9 it will stop working\n",
            "  from collections import Iterable\n",
            "/usr/local/lib/python3.7/dist-packages/sklearn/decomposition/_lda.py:29: DeprecationWarning: `np.float` is a deprecated alias for the builtin `float`. To silence this warning, use `float` by itself. Doing this will not modify any behavior and is safe. If you specifically wanted the numpy scalar type, use `np.float64` here.\n",
            "Deprecated in NumPy 1.20; for more details and guidance: https://numpy.org/devdocs/release/1.20.0-notes.html#deprecations\n",
            "  EPS = np.finfo(np.float).eps\n"
          ],
          "name": "stderr"
        }
      ]
    },
    {
      "cell_type": "code",
      "metadata": {
        "colab": {
          "base_uri": "https://localhost:8080/"
        },
        "id": "nenkm8blMudT",
        "outputId": "1f67eefc-41be-4e63-d54f-d4ed1c90f257"
      },
      "source": [
        "nltk.download('wordnet')\n",
        "nltk.download('stopwords')"
      ],
      "execution_count": 4,
      "outputs": [
        {
          "output_type": "stream",
          "text": [
            "[nltk_data] Downloading package wordnet to /root/nltk_data...\n",
            "[nltk_data]   Package wordnet is already up-to-date!\n",
            "[nltk_data] Downloading package stopwords to /root/nltk_data...\n",
            "[nltk_data]   Package stopwords is already up-to-date!\n"
          ],
          "name": "stdout"
        },
        {
          "output_type": "execute_result",
          "data": {
            "text/plain": [
              "True"
            ]
          },
          "metadata": {
            "tags": []
          },
          "execution_count": 4
        }
      ]
    },
    {
      "cell_type": "code",
      "metadata": {
        "id": "fAytSxNQCyvf"
      },
      "source": [
        "#data loader class\n",
        "class CsvLoader:\n",
        "  def __init__(self,path,filename):\n",
        "    if os.getcwd() != path:\n",
        "      os.chdir(path)   \n",
        "    self.path = path\n",
        "    self.filename = filename \n",
        " \n",
        "  def load_csv(self):\n",
        "    df = pd.read_csv(self.filename,engine='python',error_bad_lines=False)\n",
        "    return df\n",
        "  "
      ],
      "execution_count": 5,
      "outputs": []
    },
    {
      "cell_type": "code",
      "metadata": {
        "colab": {
          "base_uri": "https://localhost:8080/"
        },
        "id": "eWRTphfMCyyn",
        "outputId": "e7bdb08b-feb7-4b27-e1b1-a247c09fa674"
      },
      "source": [
        "csv_loader = CsvLoader('/content','processed_tweet_data.csv')\n",
        "csv_loaded = csv_loader.load_csv()\n",
        "csv_loaded.dropna(subset = [\"original_text\"], inplace=True)\n",
        "print(csv_loaded)"
      ],
      "execution_count": 6,
      "outputs": [
        {
          "output_type": "stream",
          "text": [
            "                     created_at  ...                                  user_mentions\n",
            "0     2021-06-18 17:55:49+00:00  ...                 ['TelGlobalHealth', 'WHOAFRO']\n",
            "1     2021-06-18 17:55:59+00:00  ...                             ['globalhlthtwit']\n",
            "2     2021-06-18 17:56:07+00:00  ...  ['NHSRDForum', 'Research2note', 'NHSRDForum']\n",
            "3     2021-06-18 17:56:10+00:00  ...                               ['HighWireTalk']\n",
            "4     2021-06-18 17:56:20+00:00  ...                                 ['PeterHotez']\n",
            "...                         ...  ...                                            ...\n",
            "3715  2021-06-19 07:40:29+00:00  ...                               ['pseudofijian']\n",
            "3716  2021-06-19 07:40:29+00:00  ...                                 ['edendomain']\n",
            "3717  2021-06-19 07:41:00+00:00  ...                            ['N_RamchanderRao']\n",
            "3718  2021-06-19 07:41:26+00:00  ...                               ['HighWireTalk']\n",
            "3719  2021-06-19 07:41:45+00:00  ...                                    ['WHOAFRO']\n",
            "\n",
            "[3720 rows x 12 columns]\n"
          ],
          "name": "stdout"
        }
      ]
    },
    {
      "cell_type": "markdown",
      "metadata": {
        "id": "bohWF7jpzR0z"
      },
      "source": [
        "#Data Understanding\n",
        "Display information on the Data"
      ]
    },
    {
      "cell_type": "code",
      "metadata": {
        "id": "5viRAAGzzfQR"
      },
      "source": [
        "class DataInfo:\n",
        "  def __init__(self,df):\n",
        "    self.df = df\n",
        "\n",
        "  def general_info(self):\n",
        "    return self.df.info()\n",
        "\n",
        "  def general_description(self):\n",
        "    return self.df.describe()\n",
        "  \n",
        "  def count_null(self):\n",
        "    return self.df.isnull().sum()"
      ],
      "execution_count": 7,
      "outputs": []
    },
    {
      "cell_type": "code",
      "metadata": {
        "colab": {
          "base_uri": "https://localhost:8080/"
        },
        "id": "hzsY7QzMCy10",
        "outputId": "9667169c-b23a-4381-f6da-607a63d6c956"
      },
      "source": [
        "Get_Info = DataInfo(csv_loaded)\n",
        "print(Get_Info.general_info())"
      ],
      "execution_count": 8,
      "outputs": [
        {
          "output_type": "stream",
          "text": [
            "<class 'pandas.core.frame.DataFrame'>\n",
            "Int64Index: 3720 entries, 0 to 3719\n",
            "Data columns (total 12 columns):\n",
            " #   Column           Non-Null Count  Dtype  \n",
            "---  ------           --------------  -----  \n",
            " 0   created_at       3720 non-null   object \n",
            " 1   source           3720 non-null   object \n",
            " 2   original_text    3720 non-null   object \n",
            " 3   polarity         3720 non-null   float64\n",
            " 4   subjectivity     3720 non-null   float64\n",
            " 5   lang             3720 non-null   object \n",
            " 6   favorite_count   3720 non-null   float64\n",
            " 7   retweet_count    3720 non-null   float64\n",
            " 8   original_author  3720 non-null   object \n",
            " 9   followers_count  3720 non-null   int64  \n",
            " 10  friends_count    3720 non-null   int64  \n",
            " 11  user_mentions    3720 non-null   object \n",
            "dtypes: float64(4), int64(2), object(6)\n",
            "memory usage: 377.8+ KB\n",
            "None\n"
          ],
          "name": "stdout"
        }
      ]
    },
    {
      "cell_type": "code",
      "metadata": {
        "colab": {
          "base_uri": "https://localhost:8080/"
        },
        "id": "SEy_BDhcXVZU",
        "outputId": "f1b7c48c-071a-402a-91db-2e63a2b829e4"
      },
      "source": [
        "print(Get_Info.general_description())"
      ],
      "execution_count": 9,
      "outputs": [
        {
          "output_type": "stream",
          "text": [
            "          polarity  subjectivity  ...  followers_count  friends_count\n",
            "count  3720.000000   3720.000000  ...     3.720000e+03    3720.000000\n",
            "mean      0.145035      0.445425  ...     9.375893e+03    2212.945968\n",
            "std       0.210508      0.218848  ...     2.291726e+05    6351.014588\n",
            "min      -1.000000      0.000000  ...     0.000000e+00       0.000000\n",
            "25%       0.000000      0.288221  ...     1.437500e+02     284.500000\n",
            "50%       0.136364      0.450000  ...     5.940000e+02     834.500000\n",
            "75%       0.278571      0.613636  ...     2.103750e+03    2418.000000\n",
            "max       1.000000      1.000000  ...     1.366658e+07  237298.000000\n",
            "\n",
            "[8 rows x 6 columns]\n"
          ],
          "name": "stdout"
        }
      ]
    },
    {
      "cell_type": "code",
      "metadata": {
        "colab": {
          "base_uri": "https://localhost:8080/"
        },
        "id": "NeNAwcqSYBBv",
        "outputId": "84219cd5-3622-4285-acb7-8b2fcf580cfd"
      },
      "source": [
        "print(Get_Info.count_null())"
      ],
      "execution_count": 10,
      "outputs": [
        {
          "output_type": "stream",
          "text": [
            "created_at         0\n",
            "source             0\n",
            "original_text      0\n",
            "polarity           0\n",
            "subjectivity       0\n",
            "lang               0\n",
            "favorite_count     0\n",
            "retweet_count      0\n",
            "original_author    0\n",
            "followers_count    0\n",
            "friends_count      0\n",
            "user_mentions      0\n",
            "dtype: int64\n"
          ],
          "name": "stdout"
        }
      ]
    },
    {
      "cell_type": "code",
      "metadata": {
        "id": "qWw7cwJI-T28",
        "colab": {
          "base_uri": "https://localhost:8080/"
        },
        "outputId": "30d290cc-1f41-41fd-ad19-92e65223793c"
      },
      "source": [
        "import pandas as pd\n",
        "\n",
        "\n",
        "class Clean_Tweets:\n",
        "    \"\"\"\n",
        "    The PEP8 Standard AMAZING!!!\n",
        "    \"\"\"\n",
        "    def __init__(self, df:pd.DataFrame):\n",
        "        self.df = df\n",
        "        print('Automation in Action...!!!')\n",
        "\n",
        "    def drop_duplicate(self)->pd.DataFrame:\n",
        "        \"\"\"\n",
        "        drop duplicate rows\n",
        "        \"\"\"        \n",
        "        return self.df.drop_duplicates()\n",
        "\n",
        "    def convert_to_datetime(self,df)->pd.DataFrame:\n",
        "        \"\"\"\n",
        "        convert column to datetime\n",
        "        \"\"\"\n",
        "        df['created_at'] = pd.to_datetime(self.df['created_at'])\n",
        "        return df\n",
        "    \n",
        "    def convert_to_numbers(self, df:pd.DataFrame)->pd.DataFrame:\n",
        "        \"\"\"\n",
        "        convert columns like polarity, subjectivity, retweet_count\n",
        "        favorite_count etc to numbers\n",
        "        \"\"\"\n",
        "        df['polarity'] = pd.to_numeric(self.df['polarity'])\n",
        "        df['subjectivity'] = pd.to_numeric(self.df['subjectivity'])\n",
        "        df['retweet_count'] = pd.to_numeric(self.df['retweet_count'])\n",
        "        df['favorite_count'] = pd.to_numeric(self.df['favorite_count'])\n",
        "        df['followers_count'] = pd.to_numeric(self.df['followers_count'])\n",
        "        return df\n",
        "\n",
        "    def drop_null_col(self, df:pd.DataFrame)->pd.DataFrame:\n",
        "        # removed columns containing null values of more than 20%\n",
        "        row,col = df.shape\n",
        "        df.dropna(axis='columns',thresh=row*0.8,inplace=True)\n",
        "        print(df.columns)\n",
        "        return df\n",
        "        \n",
        "\n",
        "    def special_chars(self,x):\n",
        "        special_characters = '@_!#$%^&*()<>?/\\|}{~:;[]'\n",
        "        for char in special_characters:\n",
        "            x = x.replace(char, '')\n",
        "        x = x.encode('ascii', 'ignore').decode('ascii')\n",
        "        return x\n",
        "\n",
        "    def filter_text(self,df:pd.DataFrame) ->pd.DataFrame:\n",
        "        df['clean_text'] = self.df['original_text'].apply(lambda x: self.special_chars(x))\n",
        "        # print(df['original_text'])\n",
        "        return df\n",
        "\n",
        "    def clean_dataframe(self):\n",
        "        df_duplicatedropped = self.drop_duplicate()\n",
        "        df_datetime = self.convert_to_datetime(df_duplicatedropped)\n",
        "        df_numb =  self.convert_to_numbers(df_datetime)\n",
        "        df_nulldroped = self.drop_null_col(df_numb)\n",
        "        df_cleaned = self.filter_text(df_nulldroped)\n",
        "        return df_cleaned\n",
        "    "
      ],
      "execution_count": 11,
      "outputs": [
        {
          "output_type": "stream",
          "text": [
            "<input>:46: DeprecationWarning: invalid escape sequence \\|\n",
            "<input>:46: DeprecationWarning: invalid escape sequence \\|\n",
            "<input>:46: DeprecationWarning: invalid escape sequence \\|\n",
            "<input>:46: DeprecationWarning: invalid escape sequence \\|\n",
            "<input>:46: DeprecationWarning: invalid escape sequence \\|\n",
            "<input>:46: DeprecationWarning: invalid escape sequence \\|\n",
            "<input>:46: DeprecationWarning: invalid escape sequence \\|\n",
            "<input>:46: DeprecationWarning: invalid escape sequence \\|\n",
            "<input>:46: DeprecationWarning: invalid escape sequence \\|\n",
            "<input>:46: DeprecationWarning: invalid escape sequence \\|\n",
            "<input>:46: DeprecationWarning: invalid escape sequence \\|\n",
            "<input>:46: DeprecationWarning: invalid escape sequence \\|\n",
            "<input>:46: DeprecationWarning: invalid escape sequence \\|\n",
            "<input>:46: DeprecationWarning: invalid escape sequence \\|\n",
            "<input>:46: DeprecationWarning: invalid escape sequence \\|\n",
            "<input>:46: DeprecationWarning: invalid escape sequence \\|\n",
            "<ipython-input-11-2cc2fd0ece4b>:46: DeprecationWarning: invalid escape sequence \\|\n",
            "  special_characters = '@_!#$%^&*()<>?/\\|}{~:;[]'\n"
          ],
          "name": "stderr"
        }
      ]
    },
    {
      "cell_type": "code",
      "metadata": {
        "colab": {
          "base_uri": "https://localhost:8080/"
        },
        "id": "Y5mWKS2WjMtD",
        "outputId": "a0f6d20c-082b-48a1-e7df-369478021a28"
      },
      "source": [
        "  cleanData = Clean_Tweets(csv_loaded).clean_dataframe()"
      ],
      "execution_count": 12,
      "outputs": [
        {
          "output_type": "stream",
          "text": [
            "Automation in Action...!!!\n",
            "Index(['created_at', 'source', 'original_text', 'polarity', 'subjectivity',\n",
            "       'lang', 'favorite_count', 'retweet_count', 'original_author',\n",
            "       'followers_count', 'friends_count', 'user_mentions'],\n",
            "      dtype='object')\n"
          ],
          "name": "stdout"
        }
      ]
    },
    {
      "cell_type": "markdown",
      "metadata": {
        "id": "59tRIqqh1DJ2"
      },
      "source": [
        "#Data Preparation\n",
        "Select and clean the data we are going to use for our model"
      ]
    },
    {
      "cell_type": "code",
      "metadata": {
        "id": "HSzAIPaGCy4W"
      },
      "source": [
        "class PreparedData:\n",
        "  def __init__(self,df):\n",
        "    self.df = df\n",
        "\n",
        "  def select_data(self):\n",
        "    df_en = self.df[self.df.lang == \"en\"]\n",
        "    sel_df = df_en['original_text']\n",
        "    sentence_list = sel_df.tolist()\n",
        "    return sentence_list\n",
        "\n",
        "  def tokenize_data(self,sentence_list):\n",
        "    #creating sentences and words from the input tweets\n",
        "    words = []\n",
        "    for sent in sentence_list:\n",
        "      for myWord in sent.split():\n",
        "        words.append(myWord.lower())   \n",
        "    return words \n",
        "\n",
        "  def lemmatize_data(self,word):\n",
        "    wl = WordNetLemmatizer()\n",
        "    return str(wl.lemmatize(word))\n",
        "\n",
        "  def remove_stop_words(self,word):\n",
        "    s_words = stopwords.words('english')\n",
        "    if word not in s_words:\n",
        "      return word\n",
        "\n",
        "  def remove_none(self,wordlist):\n",
        "    cleaned_list = []\n",
        "    for w in wordlist:\n",
        "      if w is not None:\n",
        "        cleaned_list.append(w)\n",
        "    return cleaned_list\n",
        "\n",
        "  def prepare_data(self):\n",
        "    # PreparedData_object = PreparedData(self.df)\n",
        "    prepared_sentencelist = self.select_data()\n",
        "    word_list = self.tokenize_data(prepared_sentencelist)\n",
        "    prepared = [self.remove_stop_words(self.lemmatize_data(word)) for word in word_list]\n",
        "    prepared_wordList = self.remove_none(prepared)\n",
        "    word_id = corpora.Dictionary([prepared_wordList])\n",
        "    myCorpus = [word_id.doc2bow(prepared_word) for prepared_word in [prepared_wordList]]\n",
        "    return prepared_wordList,word_id,myCorpus  \n",
        "  \n",
        "  "
      ],
      "execution_count": 13,
      "outputs": []
    },
    {
      "cell_type": "code",
      "metadata": {
        "id": "SO-4bn1R5-rc"
      },
      "source": [
        "prepared_wordlist,word_id,myCorpus = PreparedData(csv_loaded).prepare_data()"
      ],
      "execution_count": 14,
      "outputs": []
    },
    {
      "cell_type": "code",
      "metadata": {
        "colab": {
          "base_uri": "https://localhost:8080/"
        },
        "id": "atC_HqgcZZYV",
        "outputId": "d11cc2b4-3ae3-4ddb-c243-1fbfc585575b"
      },
      "source": [
        "prepared_wordlist[:10]"
      ],
      "execution_count": 15,
      "outputs": [
        {
          "output_type": "execute_result",
          "data": {
            "text/plain": [
              "['africa',\n",
              " '\"in',\n",
              " 'midst',\n",
              " 'full-blown',\n",
              " 'third',\n",
              " 'wave\"',\n",
              " 'coronavirus,',\n",
              " 'head',\n",
              " 'whoafro',\n",
              " 'ha']"
            ]
          },
          "metadata": {
            "tags": []
          },
          "execution_count": 15
        }
      ]
    },
    {
      "cell_type": "markdown",
      "metadata": {
        "id": "iFTvXYP_bEaL"
      },
      "source": [
        "#Modeling\n",
        "Selecting the right model and assessing it "
      ]
    },
    {
      "cell_type": "code",
      "metadata": {
        "id": "otTcoqGDGjuW"
      },
      "source": [
        "class Modeling:\n",
        "  def __init__(self,prepared_wordlist,word_id,myCorpus):\n",
        "    self.wordList = prepared_wordlist\n",
        "    self.word_id = word_id\n",
        "    self.corpus = myCorpus\n",
        "  \n",
        "  def LDA_model(self,num_topics = 4,chunksize=100,passes=10,alpha='auto'):\n",
        "    return gensim.models.ldamodel.LdaModel(self.corpus,\n",
        "                                           id2word=self.word_id,\n",
        "                                           num_topics=num_topics, \n",
        "                                           random_state=100,\n",
        "                                           update_every=1,\n",
        "                                           chunksize=chunksize,\n",
        "                                           passes=passes,\n",
        "                                           alpha=alpha,\n",
        "                                           per_word_topics=True)\n",
        "    \n",
        "  def display_info_model(self,model):\n",
        "    pprint(model.show_topics(formatted=False))\n"
      ],
      "execution_count": 16,
      "outputs": []
    },
    {
      "cell_type": "code",
      "metadata": {
        "colab": {
          "base_uri": "https://localhost:8080/"
        },
        "id": "NLKSy6QUll6i",
        "outputId": "ffc33c80-1ce0-411d-c853-1f167ca92336"
      },
      "source": [
        "Model = Modeling(prepared_wordlist,word_id,myCorpus)\n",
        "ldaModel = Model.LDA_model(num_topics = 5,chunksize=80,passes=10,alpha=100)\n",
        "Model.display_info_model(ldaModel)"
      ],
      "execution_count": 17,
      "outputs": [
        {
          "output_type": "stream",
          "text": [
            "/usr/local/lib/python3.7/dist-packages/gensim/models/ldamodel.py:1077: DeprecationWarning: Calling np.sum(generator) is deprecated, and in the future will give a different result. Use np.sum(np.fromiter(generator)) or the python sum builtin instead.\n",
            "  score += np.sum(cnt * logsumexp(Elogthetad + Elogbeta[:, int(id)]) for id, cnt in doc)\n",
            "/usr/local/lib/python3.7/dist-packages/gensim/models/ldamodel.py:1077: DeprecationWarning: Calling np.sum(generator) is deprecated, and in the future will give a different result. Use np.sum(np.fromiter(generator)) or the python sum builtin instead.\n",
            "  score += np.sum(cnt * logsumexp(Elogthetad + Elogbeta[:, int(id)]) for id, cnt in doc)\n",
            "/usr/local/lib/python3.7/dist-packages/gensim/models/ldamodel.py:1077: DeprecationWarning: Calling np.sum(generator) is deprecated, and in the future will give a different result. Use np.sum(np.fromiter(generator)) or the python sum builtin instead.\n",
            "  score += np.sum(cnt * logsumexp(Elogthetad + Elogbeta[:, int(id)]) for id, cnt in doc)\n",
            "/usr/local/lib/python3.7/dist-packages/gensim/models/ldamodel.py:1077: DeprecationWarning: Calling np.sum(generator) is deprecated, and in the future will give a different result. Use np.sum(np.fromiter(generator)) or the python sum builtin instead.\n",
            "  score += np.sum(cnt * logsumexp(Elogthetad + Elogbeta[:, int(id)]) for id, cnt in doc)\n",
            "/usr/local/lib/python3.7/dist-packages/gensim/models/ldamodel.py:1077: DeprecationWarning: Calling np.sum(generator) is deprecated, and in the future will give a different result. Use np.sum(np.fromiter(generator)) or the python sum builtin instead.\n",
            "  score += np.sum(cnt * logsumexp(Elogthetad + Elogbeta[:, int(id)]) for id, cnt in doc)\n",
            "/usr/local/lib/python3.7/dist-packages/gensim/models/ldamodel.py:1077: DeprecationWarning: Calling np.sum(generator) is deprecated, and in the future will give a different result. Use np.sum(np.fromiter(generator)) or the python sum builtin instead.\n",
            "  score += np.sum(cnt * logsumexp(Elogthetad + Elogbeta[:, int(id)]) for id, cnt in doc)\n",
            "/usr/local/lib/python3.7/dist-packages/gensim/models/ldamodel.py:1077: DeprecationWarning: Calling np.sum(generator) is deprecated, and in the future will give a different result. Use np.sum(np.fromiter(generator)) or the python sum builtin instead.\n",
            "  score += np.sum(cnt * logsumexp(Elogthetad + Elogbeta[:, int(id)]) for id, cnt in doc)\n",
            "/usr/local/lib/python3.7/dist-packages/gensim/models/ldamodel.py:1077: DeprecationWarning: Calling np.sum(generator) is deprecated, and in the future will give a different result. Use np.sum(np.fromiter(generator)) or the python sum builtin instead.\n",
            "  score += np.sum(cnt * logsumexp(Elogthetad + Elogbeta[:, int(id)]) for id, cnt in doc)\n",
            "/usr/local/lib/python3.7/dist-packages/gensim/models/ldamodel.py:1077: DeprecationWarning: Calling np.sum(generator) is deprecated, and in the future will give a different result. Use np.sum(np.fromiter(generator)) or the python sum builtin instead.\n",
            "  score += np.sum(cnt * logsumexp(Elogthetad + Elogbeta[:, int(id)]) for id, cnt in doc)\n"
          ],
          "name": "stderr"
        },
        {
          "output_type": "stream",
          "text": [
            "[(0,\n",
            "  [('vaccine', 0.018008132),\n",
            "   ('covid19', 0.012284874),\n",
            "   ('amp', 0.005209174),\n",
            "   ('need', 0.003983467),\n",
            "   ('health', 0.003831489),\n",
            "   ('ha', 0.0036092754),\n",
            "   ('one', 0.00319636),\n",
            "   ('case', 0.0030635723),\n",
            "   ('africa', 0.0026451715),\n",
            "   ('third', 0.002605841)]),\n",
            " (1,\n",
            "  [('vaccine', 0.009276815),\n",
            "   ('covid19', 0.0052497704),\n",
            "   ('amp', 0.0017974391),\n",
            "   ('case', 0.0017289855),\n",
            "   ('health', 0.001657009),\n",
            "   ('need', 0.001645703),\n",
            "   ('third', 0.0014867457),\n",
            "   ('ha', 0.0013912953),\n",
            "   ('one', 0.00129257),\n",
            "   ('vaccines.', 0.0012797262)]),\n",
            " (2,\n",
            "  [('vaccine', 0.0024109967),\n",
            "   ('covid19', 0.0023080914),\n",
            "   ('health', 0.0009942118),\n",
            "   ('ha', 0.0008574594),\n",
            "   ('need', 0.0007746557),\n",
            "   ('amp', 0.0007534756),\n",
            "   ('dos', 0.00070106785),\n",
            "   ('africa', 0.00068375305),\n",
            "   ('case', 0.0006366528),\n",
            "   ('today', 0.00058584433)]),\n",
            " (3,\n",
            "  [('covid19', 0.005599586),\n",
            "   ('vaccine', 0.005514818),\n",
            "   ('amp', 0.0017575963),\n",
            "   ('case', 0.0014282905),\n",
            "   ('need', 0.0014253019),\n",
            "   ('dos', 0.0012851944),\n",
            "   ('health', 0.001269099),\n",
            "   ('ha', 0.0012640177),\n",
            "   ('one', 0.0011593954),\n",
            "   ('third', 0.0010997838)]),\n",
            " (4,\n",
            "  [('vaccine', 0.036801208),\n",
            "   ('covid19', 0.028263938),\n",
            "   ('amp', 0.008742792),\n",
            "   ('need', 0.0073877424),\n",
            "   ('health', 0.007217796),\n",
            "   ('ha', 0.006711555),\n",
            "   ('case', 0.005942156),\n",
            "   ('dos', 0.005799437),\n",
            "   ('africa', 0.005797368),\n",
            "   ('one', 0.0053691473)])]\n"
          ],
          "name": "stdout"
        },
        {
          "output_type": "stream",
          "text": [
            "/usr/local/lib/python3.7/dist-packages/gensim/models/ldamodel.py:1077: DeprecationWarning: Calling np.sum(generator) is deprecated, and in the future will give a different result. Use np.sum(np.fromiter(generator)) or the python sum builtin instead.\n",
            "  score += np.sum(cnt * logsumexp(Elogthetad + Elogbeta[:, int(id)]) for id, cnt in doc)\n"
          ],
          "name": "stderr"
        }
      ]
    },
    {
      "cell_type": "code",
      "metadata": {
        "id": "t13obMzmCzVV"
      },
      "source": [
        "# Evaluation using coherence\n",
        "class evaluation:\n",
        "  def __init__(self,model,prepared_wordlist,word_id):\n",
        "    self.model = model\n",
        "    self.prepared_wordlist = prepared_wordlist\n",
        "    self.word_id = word_id\n",
        "\n",
        "  def coherence_eval(self):\n",
        "    lda_coherence_mod = CoherenceModel(model=self.model, texts=[self.prepared_wordlist], dictionary=self.word_id, coherence='c_v')\n",
        "    coherence = lda_coherence_mod.get_coherence()\n",
        "    print(f'Coherence score and accuracy {coherence}', )"
      ],
      "execution_count": 18,
      "outputs": []
    },
    {
      "cell_type": "code",
      "metadata": {
        "colab": {
          "base_uri": "https://localhost:8080/"
        },
        "id": "AXIi3nVanAyQ",
        "outputId": "4802c332-286d-46e6-cfb7-e8a20ce23d03"
      },
      "source": [
        "evaluation(ldaModel,prepared_wordlist,word_id).coherence_eval()"
      ],
      "execution_count": 19,
      "outputs": [
        {
          "output_type": "stream",
          "text": [
            "Coherence score and accuracy 0.2649209804865912\n"
          ],
          "name": "stdout"
        }
      ]
    },
    {
      "cell_type": "markdown",
      "metadata": {
        "id": "QTLYc7rEbA_p"
      },
      "source": [
        "Visualization"
      ]
    },
    {
      "cell_type": "code",
      "metadata": {
        "colab": {
          "base_uri": "https://localhost:8080/",
          "height": 881
        },
        "id": "fqrGC0tFE-vq",
        "outputId": "52ceea36-4dba-4cfb-8606-9865b1e65f37"
      },
      "source": [
        "#Visualizing\n",
        "pyLDAvis.enable_notebook()\n",
        "LDAvis_prepared = gensimvis.prepare(ldaModel, myCorpus, word_id)\n",
        "LDAvis_prepared"
      ],
      "execution_count": 20,
      "outputs": [
        {
          "output_type": "execute_result",
          "data": {
            "text/html": [
              "\n",
              "<link rel=\"stylesheet\" type=\"text/css\" href=\"https://cdn.jsdelivr.net/gh/bmabey/pyLDAvis@3.3.1/pyLDAvis/js/ldavis.v1.0.0.css\">\n",
              "\n",
              "\n",
              "<div id=\"ldavis_el3641398756340425761282562556\"></div>\n",
              "<script type=\"text/javascript\">\n",
              "\n",
              "var ldavis_el3641398756340425761282562556_data = {\"mdsDat\": {\"x\": [-0.14602108466217786, -0.02105777360551448, 0.032782515451572534, 0.045061542061528376, 0.0892348007545915], \"y\": [-1.3294432212575987e-06, 2.2981699684456534e-05, -0.0003138161774307325, 0.0003507481530695782, -5.858423210344193e-05], \"topics\": [1, 2, 3, 4, 5], \"cluster\": [1, 1, 1, 1, 1], \"Freq\": [99.48680342939447, 0.15844461648699001, 0.12228517954770254, 0.11931596021566097, 0.11315081435517167]}, \"tinfo\": {\"Term\": [\"vaccine\", \"covid19\", \"amp\", \"need\", \"health\", \"ha\", \"case\", \"one\", \"third\", \"africa\", \"dos\", \"world\", \"today\", \"africa.\", \"people\", \"ontario.\", \"million\", \"vaccines.\", \"india\", \"midst\", \"way\", \"vaccination\", \"get\", \"africa,\", \"head\", \"administered\", \"covid\", \"far\", \"new\", \"covid-19\", \"covid19\", \"dos\", \"india\", \"africa\", \"2\", \"africa.\", \"administered\", \"patient\", \"vaccination\", \"vaccine\", \"people\", \"dr\", \"call\", \"country\", \"million\", \"ontario.\", \"week\", \"risen\", \"june\", \"2nd\", \"germany\", \"vaccines,\", \"search\", \"new\", \"urgently\", \"south\", \"today\", \"im\", \"patent\", \"head\", \"amp\", \"need\", \"health\", \"ha\", \"case\", \"one\", \"third\", \"world\", \"vaccines.\", \"midst\", \"way\", \"africa,\", \"get\", \"covid\", \"public\", \"20th\", \".the\", \"back.\", \"1,882,900\", \"selfishness\", \"smh\", \"g7summit\", \"vict\", \"clock\", \"malabo,\", \"controversial\", \"httpst.coiujsbb1rhc\", \"httpst.coqk6cifvrp4\", \"poiison\", \"council\", \"ilhanmn\", \"freight\", \"symptoms...\", \"vaccines-\", \"artistofindonesia\", \"staysafe\", \"billblair\", \"rodeo\", \"push\", \"nations,\", \"impacted\", \"efficacyrate\", \"with,\", \"checker\", \"ladenhospital\", \"with.\", \"vaccine\", \"covid19\", \"amp\", \"need\", \"health\", \"one\", \"ha\", \"case\", \"third\", \"fully\", \"world\", \"africa\", \"15\", \"midst\", \"technology\", \"far\", \"dos\", \"get\", \"israel\", \"palestinian\", \"head\", \"ontario.\", \"covid-19\", \"today\", \"ashevak's\", \"vaccinated\", \"million\", \"covid\", \"africa.\", \"way\", \"people\", \"india\", \"vaccination\", \"vaccines.\", \"africa,\", \"populationhealth\", \"'write\", \"96\", \"1,882,900\", \"parliamentarian\", \"fao\", \"checker\", \"countryrisk\", \"poiison\", \"screenshot\", \"httpst.coiujsbb1rhc\", \"medtech\", \"boom\", \"therealredelephants\", \"731-240-1771\", \"g7summit\", \"scrutiny\", \"httpst.cohnul6p5yfb\", \"border\", \"httpst.coqripynlusc\", \"stpiindia\", \"artistofindonesia\", \"nations,\", \"ladenhospital\", \"commrrcmpgrc\", \"414\", \"emergence\", \"blessed\", \"dontletup\", \"delay\", \"accurate\", \"federal\", \"httpst.coiwdbl6nusx\", \"pdt\", \"literate\", \"cnn\", \"horizon\", \"vaccine\", \"covid19\", \"case\", \"third\", \"amp\", \"vaccines.\", \"health\", \"need\", \"one\", \"ha\", \"today\", \"administered\", \"africa,\", \"people\", \"ontario.\", \"world\", \"get\", \"africa.\", \"doses.\", \"fully\", \"world.\", \"request\", \"million\", \"india\", \"way\", \"africa\", \"new\", \"2\", \"2nd\", \"expert\", \"covid-19\", \"dos\", \"vaccination\", \"covid\", \"midst\", \"complex\", \".who\", \"20th\", \"g7summit\", \"ladenhospital\", \"push\", \"back.\", \".the\", \"assist\", \"mis-lead\", \"selfishness\", \"clock\", \"-these\", \"httpst.cos9zmxacm0l\", \"collectively\", \"1,882,900\", \"supporter\", \"more.\\\"\", \"poiison\", \"httpst.coqk6cifvrp4\", \"ppe\", \"kady\", \"togo.\", \"proper\", \"transport\", \"2n\", \"myocarditis.\", \"pnpcbc\", \"httpst.cohnul6p5yfb\", \"httpst.coiujsbb1rhc\", \"swanseauni\", \"pretending\", \"surprise\", \"health,\", \"engineering'\", \"dilgphilippines\", \"astrazenca\", \"133\", \"ability\", \"spend\", \"httpst.cohzvgs1fle0\", \"618\", \"lower-income\", \"covid19\", \"vaccine\", \"solid\", \"httpst.cow5rjrbagiz\", \"amp\", \"case\", \"need\", \"dos\", \"ha\", \"one\", \"health\", \"world\", \"third\", \"people\", \"africa\", \"africa.\", \"palestinian\", \"today\", \"head\", \"africa,\", \"way\", \"million\", \"world.\", \"vaccination\", \"find\", \"ontario.\", \"could\", \"get\", \"risen\", \"vaccines.\", \"doses.\", \"15\", \"midst\", \"india\", \"back.\", \"g7summit\", \"1,882,900\", \"20th\", \".the\", \"selfishness\", \"pnpcbc\", \"smh\", \"vict\", \"blessed\", \"controversial\", \"ladenhospital\", \"httpst.coiujsbb1rhc\", \"httpst.coqk6cifvrp4\", \"ilhanmn\", \"poiison\", \"parliamentarian\", \"more.\\\"\", \"-these\", \"nations,\", \"malabo,\", \"assist\", \"freight\", \"sutar\", \"g\", \"piling\", \"medtech\", \"blockchain\", \"push\", \"strong,\", \"httpst.com8dmeypkaq\", \"procedure\", \"myocarditis.\", \"httpst.cojc34zjcjzv\", \"this,\", \"ppes...,\", \"heavily\", \"httpst.coravadldqhc\", \"covid19\", \"vaccine\", \"performs\", \"httpst.cok3lqapk00a\", \"health\", \"spocougs\", \"ha\", \"need\", \"dos\", \"africa\", \"amp\", \"case\", \"today\", \"africa.\", \"third\", \"way\", \"vaccines.\", \"ontario.\", \"one\", \"africa,\", \"world\", \"get\", \"people\", \"million\", \"midst\", \"far\", \"covid\", \"vaccination\", \"administered\", \"urgently\", \"public\", \"huge\", \"palestinian\", \"india\"], \"Freq\": [3409.0, 2618.0, 810.0, 684.0, 668.0, 621.0, 550.0, 497.0, 477.0, 537.0, 537.0, 439.0, 409.0, 426.0, 420.0, 395.0, 370.0, 348.0, 380.0, 342.0, 336.0, 355.0, 315.0, 327.0, 325.0, 332.0, 303.0, 270.0, 293.0, 267.0, 2614.887897332002, 536.5451070891622, 379.5453203389777, 536.3536961052017, 248.0789101441108, 426.4146886293812, 332.3173203276696, 247.00213181120304, 354.7483784808965, 3404.728456248451, 419.4418230009856, 272.36005906825835, 242.9087672072155, 173.40568551520562, 370.1746691750677, 394.64679826844707, 157.707055290288, 235.01522896285584, 205.64378861177718, 219.36586240216485, 202.6792447599241, 228.16413311752672, 142.96246428207206, 292.71545185861834, 237.9424857999401, 196.7597857654044, 409.23185858262616, 140.9557292757968, 206.44473781463606, 324.79404580188947, 808.8547392934265, 683.4899796418457, 667.7670945477024, 620.9313298061373, 549.7490184646084, 496.73610289855293, 476.8657213297612, 439.12764354000313, 348.26944193895315, 342.180715837528, 336.50059596553643, 326.6381267073448, 315.36443764235713, 303.26453209067245, 273.62129072725816, 0.014246881612124694, 0.014095380092668664, 0.014055869004126224, 0.014040615611973685, 0.013998737395945106, 0.013952617004435248, 0.013935498212905044, 0.013924884733687293, 0.013905527462903891, 0.013868391006327847, 0.013801468195551201, 0.01378988663838056, 0.013793785751907324, 0.013786504261922782, 0.01378734905198577, 0.013785773111132226, 0.013782122717522485, 0.013755388542648444, 0.013751712419392114, 0.013738056409465276, 0.01373433847553324, 0.013731732276747548, 0.013728391710965477, 0.013710361661118596, 0.013712229204633478, 0.01372341516848782, 0.013725760854601804, 0.013721249589899957, 0.013692568538434053, 0.013680186146013344, 0.013696822506670016, 2.6533899078678997, 1.8101023190153425, 0.7675404698695345, 0.5869398951091235, 0.5645468690902344, 0.47096443937881105, 0.5318050361515029, 0.4513989642952146, 0.383955008103468, 0.24297731719992396, 0.3537962944574384, 0.3897501135576899, 0.24719385737664917, 0.2939869076138175, 0.22454715419549545, 0.253849670968549, 0.3629247270864914, 0.2677236281550888, 0.2249774053457481, 0.22383897140279405, 0.2620821801502934, 0.2853489678142296, 0.22966044116822024, 0.2855231403685359, 0.18753323934960298, 0.2095313495995542, 0.26721864095804554, 0.23986315515473344, 0.28360969516414125, 0.25021844594551634, 0.2789782730127256, 0.2594665557374013, 0.2515998878239497, 0.23002341786919284, 0.22926216339212824, 0.014653410108363164, 0.014608812899160436, 0.014597490668905703, 0.014482285900435368, 0.014540287094593275, 0.014575930110883352, 0.01452696419547301, 0.014550182876078704, 0.014503848113270676, 0.01458666984697707, 0.014500075139727736, 0.014526702735025735, 0.014560211042600728, 0.01453788927061796, 0.014580947503770278, 0.014456285479248232, 0.01457125029983974, 0.014515236536043705, 0.014553495811619478, 0.01456150345152048, 0.014549105592843418, 0.014491615735889356, 0.014487020320306573, 0.014482752557689363, 0.014555966447364921, 0.014535287904648881, 0.014516977399274923, 0.014496277343990435, 0.014508076160376908, 0.014530841422232267, 0.014539160166969265, 0.014566613513933024, 0.014506327023080905, 0.014553156574963205, 0.014538041513410043, 0.014555701677291732, 0.014544650836362017, 1.0549397124423978, 0.5969927584069807, 0.19661656182148857, 0.1690695656828444, 0.20440096083528136, 0.1455277464413263, 0.18843155244845752, 0.18714585545006032, 0.14698832407306467, 0.15821515767042818, 0.13269563836722678, 0.11988072710938089, 0.11806958066223698, 0.12269201603098794, 0.11961778394969715, 0.12269409447606246, 0.10247735710242598, 0.11365046223268767, 0.08738647567619785, 0.0869131793126175, 0.08365356184533179, 0.083767916039942, 0.10377145393139509, 0.10455433932230321, 0.10017549904013773, 0.11510603571004276, 0.0921846918965388, 0.08594215492695328, 0.08204233004194904, 0.08352699513109574, 0.08719351786610972, 0.10684312436222776, 0.08911603322528865, 0.08754222667175113, 0.08829132740132037, 0.014758200729083848, 0.014768363224588786, 0.014635869729808956, 0.014663397595373572, 0.014694811880811145, 0.014691191875262676, 0.014641332030777053, 0.01463131162291184, 0.014695154182852303, 0.014726331117346244, 0.014642988643485675, 0.014653989133138543, 0.014675303893729692, 0.01470878006457556, 0.014707515807508453, 0.014612265420659496, 0.014710351101773893, 0.014689733862323215, 0.01464479864625991, 0.014647913271907991, 0.014688810292664996, 0.014704339825834127, 0.014668930940161532, 0.014665218900573694, 0.014685723115765499, 0.014663683385285294, 0.014682354992851088, 0.014651006907336568, 0.014670508435888944, 0.014633620547057385, 0.014681190842984698, 0.01469516225601365, 0.014703713348513517, 0.014707021730033952, 0.01470228116969037, 0.014689244628745523, 0.014700768259253745, 0.014701084727178588, 0.01469796041373689, 0.014726758994897692, 0.014704099245625954, 0.01469645719109388, 0.014711549158917944, 0.6213114790431621, 0.6119058973121013, 0.014700112718552281, 0.014710309121334883, 0.19501705516071885, 0.15847837899643216, 0.1581467722794283, 0.14260091194878866, 0.140251208650642, 0.12864267431915505, 0.14081501240507424, 0.11955943777439959, 0.12202836551933441, 0.11142320243135889, 0.1192685972929389, 0.10748623165130551, 0.08338348552021672, 0.09896335000645441, 0.09186841038967379, 0.0917043637510812, 0.09206545365332817, 0.09482719818962168, 0.07506982792486197, 0.09053960678295749, 0.07123341644256002, 0.09121532392926109, 0.07907283716474248, 0.08442994806973958, 0.07645522116336363, 0.0858731322264352, 0.07302782832759984, 0.07530730803907651, 0.0818760196236033, 0.08028259716348482, 0.015249563039127428, 0.015245217485014364, 0.015218459712595127, 0.015186090081182099, 0.01520386275439927, 0.015213702264875152, 0.015246526663579082, 0.015212302745333453, 0.01521686266786647, 0.015250117334613308, 0.015223895483243956, 0.015227470842248186, 0.015214925696071888, 0.01522132765581351, 0.015231476469295322, 0.015210943037069746, 0.015231609683956294, 0.015252310017308836, 0.015224873921960745, 0.015219262062966954, 0.015217119909970414, 0.0152311196989964, 0.015214307090060022, 0.015242689468861908, 0.015236999518515133, 0.015229877893363667, 0.015227996044877073, 0.015235397880177479, 0.01520312624575643, 0.015249993307170334, 0.015238284197831856, 0.01523998689556749, 0.015236821898967171, 0.015268752075119294, 0.015252452419187806, 0.015240478411730384, 0.015255430609022163, 0.015241668156461129, 0.2428653817385857, 0.2536934368710535, 0.015246269421475138, 0.015243159548182807, 0.1046144103570033, 0.01523650493994624, 0.09022485054504666, 0.08151196248745131, 0.07376879141435909, 0.07194686808835951, 0.07928331489586733, 0.06699081721451498, 0.0616445729426705, 0.06077813253808912, 0.05771611852671664, 0.05249340558807355, 0.051762378651971, 0.05311365917436796, 0.05527068933925136, 0.048771672764293166, 0.051699721825224504, 0.04831225980349012, 0.05078069684722845, 0.04885381568041348, 0.0476614311556983, 0.043721958202958815, 0.04442372691214366, 0.04479494564257171, 0.043668981641576225, 0.04081792452987431, 0.041819061799930675, 0.04094822684274024, 0.04055311215829935, 0.04412599980088779], \"Total\": [3409.0, 2618.0, 810.0, 684.0, 668.0, 621.0, 550.0, 497.0, 477.0, 537.0, 537.0, 439.0, 409.0, 426.0, 420.0, 395.0, 370.0, 348.0, 380.0, 342.0, 336.0, 355.0, 315.0, 327.0, 325.0, 332.0, 303.0, 270.0, 293.0, 267.0, 2618.159169270206, 537.231244643974, 380.0337498310018, 537.0497677198508, 248.40350234559065, 426.9802131509674, 332.75880174654463, 247.33117500475544, 355.2244289543713, 3409.302385202944, 420.00569718930797, 272.7308529399518, 243.24334261586313, 173.64527859487873, 370.6893402838272, 395.1960940033146, 157.92717307894418, 235.3447212043985, 205.93210713249997, 219.6737200174798, 202.96502805701303, 228.4858601375338, 143.16406372521232, 293.12855386257826, 238.2784001864774, 197.03773294032632, 409.81068528431103, 141.15829663572794, 206.74422338706995, 325.2662346203526, 810.100981094188, 684.5037241271717, 668.7655023920032, 621.8518260591549, 550.6225031869361, 497.5379690256632, 477.59849038759353, 439.77539308853625, 348.782628614142, 342.69253152332243, 336.99554876976345, 327.12593448791455, 315.86738083548784, 303.7068837190995, 274.04115749788065, 1.2266017211044, 1.2282366197892582, 1.2284604039235516, 1.2282124267111867, 1.2297425540410036, 1.2303490943606363, 1.229117845752919, 1.2311056614250353, 1.2307162113107297, 1.2324313641925562, 1.2319965247509888, 1.2314467709389039, 1.2319807181967088, 1.231352206765127, 1.2327754836156128, 1.232953773840068, 1.2326455604580167, 1.233664715416793, 1.2339268248001807, 1.2328466937054783, 1.2336590515691888, 1.233468148400508, 1.2333698982981707, 1.2323783812962006, 1.2325577993290453, 1.2337036086935185, 1.2341536446466976, 1.2342459893506104, 1.2331768443612434, 1.2323507849632562, 1.2342125599988867, 3409.302385202944, 2618.159169270206, 810.100981094188, 684.5037241271717, 668.7655023920032, 497.5379690256632, 621.8518260591549, 550.6225031869361, 477.59849038759353, 216.03487338251463, 439.77539308853625, 537.0497677198508, 242.93094655472945, 342.69253152332243, 208.71113305295887, 270.63963253836334, 537.231244643974, 315.86738083548784, 235.4339473878197, 237.10054220942445, 325.2662346203526, 395.1960940033146, 267.92968382460947, 409.81068528431103, 183.08766812950364, 229.7424008228706, 370.6893402838272, 303.7068837190995, 426.9802131509674, 336.99554876976345, 420.00569718930797, 380.0337498310018, 355.2244289543713, 348.782628614142, 327.12593448791455, 1.2350969122632336, 1.2357158568189435, 1.2366474119883715, 1.2282124267111867, 1.2333493074792603, 1.2372032323172455, 1.2331768443612434, 1.235236468481897, 1.231352206765127, 1.2384953935362009, 1.2314467709389039, 1.2343221477754087, 1.2374017848746635, 1.2357237410166808, 1.2394487735010316, 1.229117845752919, 1.2389597819159097, 1.234509124591398, 1.237823819888506, 1.2386540875215504, 1.237642404561738, 1.2328466937054783, 1.2325577993290453, 1.2323507849632562, 1.2385949057643406, 1.2371618127306139, 1.235668208564003, 1.2339414407385887, 1.2349675335153016, 1.2370073519888096, 1.237794790679151, 1.2411151768603652, 1.2351048625917247, 1.2407589859002384, 1.2392733354246779, 1.2416462141160236, 1.2404203698080372, 3409.302385202944, 2618.159169270206, 550.6225031869361, 477.59849038759353, 810.100981094188, 348.782628614142, 668.7655023920032, 684.5037241271717, 497.5379690256632, 621.8518260591549, 409.81068528431103, 332.75880174654463, 327.12593448791455, 420.00569718930797, 395.1960940033146, 439.77539308853625, 315.86738083548784, 426.9802131509674, 208.02822293171502, 216.03487338251463, 195.032766138034, 196.46064078359902, 370.6893402838272, 380.0337498310018, 336.99554876976345, 537.0497677198508, 293.12855386257826, 248.40350234559065, 219.6737200174798, 234.999650909457, 267.92968382460947, 537.231244643974, 355.2244289543713, 303.7068837190995, 342.69253152332243, 1.2336010185112676, 1.2354141292680472, 1.2266017211044, 1.229117845752919, 1.2323507849632562, 1.2323783812962006, 1.2284604039235516, 1.2282366197892582, 1.2336211798087375, 1.236478333079532, 1.2297425540410036, 1.2307162113107297, 1.2328300880433636, 1.2359284851609682, 1.2361531738749163, 1.2282124267111867, 1.236616953476574, 1.2350473785490292, 1.231352206765127, 1.2319807181967088, 1.2355299357170229, 1.2369433752436052, 1.2340181200970748, 1.2339497848180376, 1.235691745414451, 1.2338415147030775, 1.2354166748031277, 1.2328409645085188, 1.234509124591398, 1.2314467709389039, 1.2354869930141705, 1.2366775240489623, 1.237749174011418, 1.238121818793584, 1.2377612408569276, 1.2364504924097226, 1.237843642689855, 1.237906098077537, 1.2376543032107605, 1.2412951773968874, 1.2386073497904582, 1.2378224675623581, 1.2403913534023387, 2618.159169270206, 3409.302385202944, 1.2385750658352954, 1.240809977265311, 810.100981094188, 550.6225031869361, 684.5037241271717, 537.231244643974, 621.8518260591549, 497.5379690256632, 668.7655023920032, 439.77539308853625, 477.59849038759353, 420.00569718930797, 537.0497677198508, 426.9802131509674, 237.10054220942445, 409.81068528431103, 325.2662346203526, 327.12593448791455, 336.99554876976345, 370.6893402838272, 195.032766138034, 355.2244289543713, 168.14613567041565, 395.1960940033146, 249.70644338170717, 315.86738083548784, 235.3447212043985, 348.782628614142, 208.02822293171502, 242.93094655472945, 342.69253152332243, 380.0337498310018, 1.2284604039235516, 1.229117845752919, 1.2282124267111867, 1.2266017211044, 1.2282366197892582, 1.2297425540410036, 1.2328409645085188, 1.2303490943606363, 1.2311056614250353, 1.2339414407385887, 1.2319965247509888, 1.2323507849632562, 1.2314467709389039, 1.2319807181967088, 1.232953773840068, 1.231352206765127, 1.2333493074792603, 1.2350473785490292, 1.2328300880433636, 1.2325577993290453, 1.2324313641925562, 1.2336211798087375, 1.2326455604580167, 1.2353589644112462, 1.2349685282041238, 1.2344401764348911, 1.2343221477754087, 1.2349613678272857, 1.2323783812962006, 1.2362590795890962, 1.2353960512480266, 1.2356403124128044, 1.2354166748031277, 1.2398435736905076, 1.238645045587301, 1.2366150101372473, 1.2396489083980375, 1.2370202910687036, 2618.159169270206, 3409.302385202944, 1.2380760683211298, 1.2374233317516552, 668.7655023920032, 1.2360751978629654, 621.8518260591549, 684.5037241271717, 537.231244643974, 537.0497677198508, 810.100981094188, 550.6225031869361, 409.81068528431103, 426.9802131509674, 477.59849038759353, 336.99554876976345, 348.782628614142, 395.1960940033146, 497.5379690256632, 327.12593448791455, 439.77539308853625, 315.86738083548784, 420.00569718930797, 370.6893402838272, 342.69253152332243, 270.63963253836334, 303.7068837190995, 355.2244289543713, 332.75880174654463, 238.2784001864774, 274.04115749788065, 246.4778538369642, 237.10054220942445, 380.0337498310018], \"Category\": [\"Default\", \"Default\", \"Default\", \"Default\", \"Default\", \"Default\", \"Default\", \"Default\", \"Default\", \"Default\", \"Default\", \"Default\", \"Default\", \"Default\", \"Default\", \"Default\", \"Default\", \"Default\", \"Default\", \"Default\", \"Default\", \"Default\", \"Default\", \"Default\", \"Default\", \"Default\", \"Default\", \"Default\", \"Default\", \"Default\", \"Topic1\", \"Topic1\", \"Topic1\", \"Topic1\", \"Topic1\", \"Topic1\", \"Topic1\", \"Topic1\", \"Topic1\", \"Topic1\", \"Topic1\", \"Topic1\", \"Topic1\", \"Topic1\", \"Topic1\", \"Topic1\", \"Topic1\", \"Topic1\", \"Topic1\", \"Topic1\", \"Topic1\", \"Topic1\", \"Topic1\", \"Topic1\", \"Topic1\", \"Topic1\", \"Topic1\", \"Topic1\", \"Topic1\", \"Topic1\", \"Topic1\", \"Topic1\", \"Topic1\", \"Topic1\", \"Topic1\", \"Topic1\", \"Topic1\", \"Topic1\", \"Topic1\", \"Topic1\", \"Topic1\", \"Topic1\", \"Topic1\", \"Topic1\", \"Topic1\", \"Topic2\", \"Topic2\", \"Topic2\", \"Topic2\", \"Topic2\", \"Topic2\", \"Topic2\", \"Topic2\", \"Topic2\", \"Topic2\", \"Topic2\", \"Topic2\", \"Topic2\", \"Topic2\", \"Topic2\", \"Topic2\", \"Topic2\", \"Topic2\", \"Topic2\", \"Topic2\", \"Topic2\", \"Topic2\", \"Topic2\", \"Topic2\", \"Topic2\", \"Topic2\", \"Topic2\", \"Topic2\", \"Topic2\", \"Topic2\", \"Topic2\", \"Topic2\", \"Topic2\", \"Topic2\", \"Topic2\", \"Topic2\", \"Topic2\", \"Topic2\", \"Topic2\", \"Topic2\", \"Topic2\", \"Topic2\", \"Topic2\", \"Topic2\", \"Topic2\", \"Topic2\", \"Topic2\", \"Topic2\", \"Topic2\", \"Topic2\", \"Topic2\", \"Topic2\", \"Topic2\", \"Topic2\", \"Topic2\", \"Topic2\", \"Topic2\", \"Topic2\", \"Topic2\", \"Topic2\", \"Topic2\", \"Topic2\", \"Topic2\", \"Topic2\", \"Topic2\", \"Topic2\", \"Topic3\", \"Topic3\", \"Topic3\", \"Topic3\", \"Topic3\", \"Topic3\", \"Topic3\", \"Topic3\", \"Topic3\", \"Topic3\", \"Topic3\", \"Topic3\", \"Topic3\", \"Topic3\", \"Topic3\", \"Topic3\", \"Topic3\", \"Topic3\", \"Topic3\", \"Topic3\", \"Topic3\", \"Topic3\", \"Topic3\", \"Topic3\", \"Topic3\", \"Topic3\", \"Topic3\", \"Topic3\", \"Topic3\", \"Topic3\", \"Topic3\", \"Topic3\", \"Topic3\", \"Topic3\", \"Topic3\", \"Topic3\", \"Topic3\", \"Topic3\", \"Topic3\", \"Topic3\", \"Topic3\", \"Topic3\", \"Topic3\", \"Topic3\", \"Topic3\", \"Topic3\", \"Topic3\", \"Topic3\", \"Topic3\", \"Topic3\", \"Topic3\", \"Topic3\", \"Topic3\", \"Topic3\", \"Topic3\", \"Topic3\", \"Topic3\", \"Topic3\", \"Topic3\", \"Topic3\", \"Topic3\", \"Topic3\", \"Topic3\", \"Topic3\", \"Topic3\", \"Topic3\", \"Topic3\", \"Topic3\", \"Topic3\", \"Topic3\", \"Topic3\", \"Topic3\", \"Topic4\", \"Topic4\", \"Topic4\", \"Topic4\", \"Topic4\", \"Topic4\", \"Topic4\", \"Topic4\", \"Topic4\", \"Topic4\", \"Topic4\", \"Topic4\", \"Topic4\", \"Topic4\", \"Topic4\", \"Topic4\", \"Topic4\", \"Topic4\", \"Topic4\", \"Topic4\", \"Topic4\", \"Topic4\", \"Topic4\", \"Topic4\", \"Topic4\", \"Topic4\", \"Topic4\", \"Topic4\", \"Topic4\", \"Topic4\", \"Topic4\", \"Topic4\", \"Topic4\", \"Topic4\", \"Topic4\", \"Topic4\", \"Topic4\", \"Topic4\", \"Topic4\", \"Topic4\", \"Topic4\", \"Topic4\", \"Topic4\", \"Topic4\", \"Topic4\", \"Topic4\", \"Topic4\", \"Topic4\", \"Topic4\", \"Topic4\", \"Topic4\", \"Topic4\", \"Topic4\", \"Topic4\", \"Topic4\", \"Topic4\", \"Topic4\", \"Topic4\", \"Topic4\", \"Topic4\", \"Topic4\", \"Topic4\", \"Topic4\", \"Topic4\", \"Topic4\", \"Topic4\", \"Topic4\", \"Topic4\", \"Topic4\", \"Topic4\", \"Topic4\", \"Topic4\", \"Topic4\", \"Topic4\", \"Topic4\", \"Topic4\", \"Topic4\", \"Topic5\", \"Topic5\", \"Topic5\", \"Topic5\", \"Topic5\", \"Topic5\", \"Topic5\", \"Topic5\", \"Topic5\", \"Topic5\", \"Topic5\", \"Topic5\", \"Topic5\", \"Topic5\", \"Topic5\", \"Topic5\", \"Topic5\", \"Topic5\", \"Topic5\", \"Topic5\", \"Topic5\", \"Topic5\", \"Topic5\", \"Topic5\", \"Topic5\", \"Topic5\", \"Topic5\", \"Topic5\", \"Topic5\", \"Topic5\", \"Topic5\", \"Topic5\", \"Topic5\", \"Topic5\", \"Topic5\", \"Topic5\", \"Topic5\", \"Topic5\", \"Topic5\", \"Topic5\", \"Topic5\", \"Topic5\", \"Topic5\", \"Topic5\", \"Topic5\", \"Topic5\", \"Topic5\", \"Topic5\", \"Topic5\", \"Topic5\", \"Topic5\", \"Topic5\", \"Topic5\", \"Topic5\", \"Topic5\", \"Topic5\", \"Topic5\", \"Topic5\", \"Topic5\", \"Topic5\", \"Topic5\", \"Topic5\", \"Topic5\", \"Topic5\", \"Topic5\", \"Topic5\", \"Topic5\", \"Topic5\", \"Topic5\", \"Topic5\", \"Topic5\", \"Topic5\"], \"logprob\": [30.0, 29.0, 28.0, 27.0, 26.0, 25.0, 24.0, 23.0, 22.0, 21.0, 20.0, 19.0, 18.0, 17.0, 16.0, 15.0, 14.0, 13.0, 12.0, 11.0, 10.0, 9.0, 8.0, 7.0, 6.0, 5.0, 4.0, 3.0, 2.0, 1.0, -3.5662, -5.15, -5.4962, -5.1504, -5.9214, -5.3797, -5.6291, -5.9257, -5.5637, -3.3022, -5.3962, -5.828, -5.9425, -6.2795, -5.5212, -5.4572, -6.3744, -5.9755, -6.109, -6.0444, -6.1235, -6.0051, -6.4726, -5.7559, -5.9631, -6.1532, -5.4209, -6.4867, -6.1051, -5.652, -4.7395, -4.9079, -4.9312, -5.0039, -5.1257, -5.2271, -5.2679, -5.3504, -5.5822, -5.5998, -5.6165, -5.6463, -5.6814, -5.7205, -5.8234, -9.244, -9.2547, -9.2575, -9.2586, -9.2616, -9.2649, -9.2661, -9.2668, -9.2682, -9.2709, -9.2758, -9.2766, -9.2763, -9.2768, -9.2768, -9.2769, -9.2772, -9.2791, -9.2794, -9.2804, -9.2806, -9.2808, -9.2811, -9.2824, -9.2822, -9.2814, -9.2813, -9.2816, -9.2837, -9.2846, -9.2834, -4.0169, -4.3994, -5.2573, -5.5256, -5.5645, -5.7457, -5.6242, -5.7882, -5.95, -6.4076, -6.0318, -5.935, -6.3904, -6.217, -6.4864, -6.3638, -6.0063, -6.3106, -6.4845, -6.4896, -6.3319, -6.2468, -6.4639, -6.2462, -6.6666, -6.5557, -6.3125, -6.4205, -6.2529, -6.3782, -6.2694, -6.3419, -6.3727, -6.4623, -6.4657, -8.9568, -8.9599, -8.9606, -8.9685, -8.9646, -8.9621, -8.9655, -8.9639, -8.9671, -8.9614, -8.9673, -8.9655, -8.9632, -8.9647, -8.9618, -8.9703, -8.9624, -8.9663, -8.9636, -8.9631, -8.9639, -8.9679, -8.9682, -8.9685, -8.9635, -8.9649, -8.9662, -8.9676, -8.9668, -8.9652, -8.9646, -8.9627, -8.9669, -8.9637, -8.9647, -8.9635, -8.9643, -4.6802, -5.2496, -6.3602, -6.5112, -6.3214, -6.6611, -6.4027, -6.4096, -6.6511, -6.5775, -6.7534, -6.855, -6.8702, -6.8318, -6.8572, -6.8318, -7.0118, -6.9083, -7.1711, -7.1766, -7.2148, -7.2134, -6.9993, -6.9918, -7.0346, -6.8956, -7.1177, -7.1878, -7.2342, -7.2163, -7.1733, -6.9701, -7.1515, -7.1694, -7.1608, -8.9251, -8.9244, -8.9334, -8.9315, -8.9294, -8.9296, -8.933, -8.9337, -8.9294, -8.9273, -8.9329, -8.9322, -8.9307, -8.9285, -8.9285, -8.935, -8.9283, -8.9297, -8.9328, -8.9326, -8.9298, -8.9288, -8.9312, -8.9314, -8.93, -8.9315, -8.9302, -8.9324, -8.9311, -8.9336, -8.9303, -8.9294, -8.9288, -8.9286, -8.9289, -8.9298, -8.929, -8.929, -8.9292, -8.9272, -8.9288, -8.9293, -8.9283, -5.1851, -5.2003, -8.929, -8.9283, -6.3438, -6.5513, -6.5534, -6.6568, -6.6735, -6.7599, -6.6694, -6.8331, -6.8126, -6.9036, -6.8355, -6.9395, -7.1934, -7.0221, -7.0965, -7.0983, -7.0944, -7.0648, -7.2985, -7.1111, -7.3509, -7.1037, -7.2465, -7.181, -7.2802, -7.164, -7.3261, -7.2953, -7.2117, -7.2313, -8.8393, -8.8396, -8.8413, -8.8435, -8.8423, -8.8416, -8.8395, -8.8417, -8.8414, -8.8393, -8.841, -8.8407, -8.8416, -8.8411, -8.8405, -8.8418, -8.8405, -8.8391, -8.8409, -8.8413, -8.8414, -8.8405, -8.8416, -8.8397, -8.8401, -8.8406, -8.8407, -8.8402, -8.8423, -8.8393, -8.84, -8.8399, -8.8401, -8.838, -8.8391, -8.8399, -8.8389, -8.8398, -6.0713, -6.0277, -8.8395, -8.8397, -6.9136, -8.8401, -7.0615, -7.1631, -7.2629, -7.2879, -7.1908, -7.3593, -7.4425, -7.4566, -7.5083, -7.6032, -7.6172, -7.5914, -7.5516, -7.6767, -7.6184, -7.6862, -7.6363, -7.675, -7.6997, -7.786, -7.7701, -7.7617, -7.7872, -7.8547, -7.8305, -7.8515, -7.8612, -7.7768], \"loglift\": [30.0, 29.0, 28.0, 27.0, 26.0, 25.0, 24.0, 23.0, 22.0, 21.0, 20.0, 19.0, 18.0, 17.0, 16.0, 15.0, 14.0, 13.0, 12.0, 11.0, 10.0, 9.0, 8.0, 7.0, 6.0, 5.0, 4.0, 3.0, 2.0, 1.0, 0.0039, 0.0039, 0.0039, 0.0038, 0.0038, 0.0038, 0.0038, 0.0038, 0.0038, 0.0038, 0.0038, 0.0038, 0.0038, 0.0038, 0.0038, 0.0038, 0.0038, 0.0037, 0.0037, 0.0037, 0.0037, 0.0037, 0.0037, 0.0037, 0.0037, 0.0037, 0.0037, 0.0037, 0.0037, 0.0037, 0.0036, 0.0037, 0.0037, 0.0037, 0.0036, 0.0035, 0.0036, 0.0037, 0.0037, 0.0037, 0.0037, 0.0037, 0.0036, 0.0037, 0.0036, 1.9921, 1.98, 1.977, 1.9762, 1.9719, 1.9681, 1.9679, 1.9655, 1.9645, 1.9604, 1.9559, 1.9555, 1.9554, 1.9553, 1.9542, 1.954, 1.954, 1.9512, 1.9507, 1.9506, 1.9497, 1.9496, 1.9495, 1.949, 1.949, 1.9488, 1.9487, 1.9483, 1.947, 1.9468, 1.9465, -0.7109, -0.8293, -0.5142, -0.614, -0.6296, -0.5151, -0.6167, -0.6589, -0.6785, -0.3427, -0.6778, -0.7808, -0.4428, -0.6135, -0.3871, -0.5243, -0.8525, -0.6256, -0.5057, -0.5178, -0.6762, -0.7859, -0.6144, -0.8216, -0.4362, -0.5523, -0.7875, -0.6962, -0.8694, -0.758, -0.8694, -0.8419, -0.8051, -0.8765, -0.8157, 2.2723, 2.2688, 2.2673, 2.2662, 2.266, 2.2653, 2.2652, 2.2652, 2.2651, 2.265, 2.2648, 2.2643, 2.2641, 2.2639, 2.2639, 2.2636, 2.2636, 2.2633, 2.2633, 2.2632, 2.2631, 2.2631, 2.263, 2.2628, 2.2628, 2.2626, 2.2625, 2.2625, 2.2625, 2.2624, 2.2623, 2.2615, 2.2622, 2.2609, 2.2611, 2.2604, 2.2606, -1.3742, -1.6795, -1.231, -1.2396, -1.5783, -1.0753, -1.4679, -1.498, -1.4205, -1.5699, -1.3288, -1.2221, -1.2203, -1.4318, -1.3963, -1.4778, -1.3269, -1.5248, -1.0685, -1.1117, -1.0477, -1.0536, -1.4744, -1.4917, -1.4143, -1.7414, -1.358, -1.2626, -1.1861, -1.2356, -1.3238, -1.8163, -1.584, -1.4451, -1.5574, 2.3053, 2.3045, 2.3026, 2.3025, 2.302, 2.3017, 2.3015, 2.301, 2.301, 2.3008, 2.3006, 2.3005, 2.3002, 2.3, 2.2997, 2.2997, 2.2996, 2.2994, 2.2994, 2.2991, 2.299, 2.2989, 2.2989, 2.2987, 2.2986, 2.2986, 2.2986, 2.2986, 2.2986, 2.2985, 2.2985, 2.2985, 2.2982, 2.2981, 2.2981, 2.2983, 2.2979, 2.2979, 2.2979, 2.2969, 2.2975, 2.2976, 2.2966, -1.615, -1.8943, 2.2973, 2.2962, -1.6007, -1.422, -1.6418, -1.503, -1.6659, -1.5292, -1.7346, -1.4791, -1.5411, -1.5035, -1.6813, -1.556, -1.2216, -1.5976, -1.4409, -1.4484, -1.4742, -1.5399, -1.1314, -1.5436, -1.0355, -1.6428, -1.3265, -1.496, -1.301, -1.5782, -1.2234, -1.3478, -1.6082, -1.7313, 2.3952, 2.3944, 2.3934, 2.3926, 2.3924, 2.3918, 2.3915, 2.3913, 2.3909, 2.3908, 2.3907, 2.3906, 2.3905, 2.3905, 2.3904, 2.3904, 2.3901, 2.3901, 2.3901, 2.3899, 2.3899, 2.3898, 2.3895, 2.3892, 2.3891, 2.3891, 2.3891, 2.389, 2.389, 2.3889, 2.3889, 2.3888, 2.3888, 2.3873, 2.3872, 2.388, 2.3866, 2.3878, -2.5013, -2.7217, 2.3872, 2.3875, -1.9787, 2.3882, -2.0539, -2.2515, -2.109, -2.1337, -2.4477, -2.23, -2.0179, -2.0731, -2.2368, -1.9829, -2.0313, -2.1305, -2.321, -2.0267, -2.2644, -2.0012, -2.2363, -2.1501, -2.0963, -1.9465, -2.0458, -2.1942, -2.1543, -1.8879, -2.0035, -1.9185, -1.8894, -2.2768]}, \"token.table\": {\"Topic\": [1, 1, 1, 1, 1, 1, 1, 1, 1, 1, 1, 1, 1, 1, 1, 1, 1, 1, 1, 1, 1, 1, 2, 1, 1, 1, 1, 1, 1, 1, 1, 1, 1, 1, 1, 1, 1, 1, 1, 1, 1, 1, 1, 1, 1, 1, 1, 1, 1, 2, 3, 4, 1, 1, 1, 1, 1, 1, 1, 1, 1, 1, 1, 1, 1, 1, 1, 1, 1, 1, 1, 1, 1, 2, 1, 1, 2, 1, 1, 1, 1, 1, 1, 1, 1, 1, 1, 1, 1, 1, 1, 1, 1, 1, 1, 1, 1, 1, 1, 1, 1, 1, 1, 1, 1, 1, 1, 1, 1, 1, 1, 1, 2, 1, 1, 1, 1, 1, 1, 1, 1, 1, 1, 1, 1, 1, 1, 1, 1, 1, 1, 1, 1, 1, 1, 1, 1, 1, 1, 1, 1, 1, 1, 1, 1, 1, 1, 1, 1, 1, 1, 1, 1, 1, 1, 1, 1, 1, 1, 1, 1, 1, 1, 1, 1, 2, 3, 4, 1, 1, 1, 1, 1, 1, 1, 1, 1, 1], \"Freq\": [0.80924752602452, 0.8111417864461027, 0.8141753664465571, 0.8094451700924578, 0.8141914039069964, 0.8078157152250852, 1.0002842513325283, 0.9983756173251161, 0.8152605550721275, 0.8104768627765364, 0.9969330877747862, 0.8083017029056532, 0.8078702933622609, 0.8068102703230984, 0.8086379272747819, 0.8079800614806327, 0.8078883572060613, 0.9977196643858497, 0.9980453064446749, 0.9996150275027516, 0.9977043124698126, 0.9986409335133739, 0.001234414009287236, 0.8111308608813089, 0.9995211685724151, 0.8106216206137459, 0.8078564735583109, 0.8140270511008111, 0.8107221911621664, 0.8104112294027822, 0.8097419288178527, 0.8081449471169868, 0.8078694107615998, 0.9989995918768169, 0.9988694556010095, 0.8109137019337859, 0.8125350026347554, 0.8053823936570684, 0.8089612364666289, 0.8073664725618236, 0.8106348689682653, 0.8116906013205841, 0.9971709044743099, 0.8111777150751696, 0.9962839266342266, 0.8095615904451055, 0.9976724804178186, 1.0002624426468423, 0.9987933624100148, 0.0007638954970631088, 0.0003819477485315544, 0.0003819477485315544, 0.8084026326862497, 0.8087667125685692, 0.8097378861074405, 0.9995695621833625, 0.999864331236804, 0.9973202410652355, 0.8102718849777176, 0.8092787311912166, 0.8079102552182676, 1.000001485493879, 0.8082746422566559, 0.9976365895402527, 0.8057269934686389, 0.9991309008093883, 0.8112632147301353, 0.9998385752171924, 0.8097372339149305, 0.8135916368437652, 1.0001723052652063, 0.9972539714826091, 0.9986301784067225, 0.0016081001262588125, 0.999181487065009, 0.9988553500602749, 0.0014952924402099924, 0.8076749676977601, 0.8066800149828479, 0.8061783120787965, 0.8100385651916372, 0.807358361121606, 0.8120529637164587, 0.8096478528160076, 0.8065533598108742, 0.8081308751342464, 0.8094570150113205, 0.8117010154702204, 0.8073278973316284, 0.8083941768942741, 0.8091083036003974, 0.8059251765560064, 0.9980612707002866, 0.8110604154164457, 0.9988785878017752, 0.8105674596015743, 0.9999111925427234, 0.9981568189607556, 1.0003296856835264, 0.8084444445996234, 0.8114572670392838, 0.8069244866446812, 0.8061971709630547, 0.8114042120756666, 0.8101612709471978, 0.9979791461452515, 0.9981403827709224, 0.8087485022963833, 0.8096855370640356, 0.8094435022575335, 0.8113209786545991, 0.9978031907290363, 0.001460912431521283, 0.9995614420332503, 0.9989187377463539, 0.9995038058161755, 0.9995759511619521, 0.8108003093169254, 0.9964002699815385, 0.9986610058163955, 0.8059582975935051, 0.9976055153631531, 0.8077048136113572, 0.8100838089116938, 0.811134630328136, 0.8121153269600173, 0.8096530645255732, 0.8093693006472269, 0.8086591152480138, 0.808618237619404, 0.8092970016875903, 0.8104057493291458, 0.9998498127133295, 0.8114390962848701, 0.9976553024475452, 0.9985352498979609, 0.8107867731974169, 0.8074313438863592, 0.8071287015092727, 0.9988540160083245, 0.813178332907114, 0.812777450386681, 0.8073794052406502, 0.9998084989115371, 0.8056101547877548, 0.8090122686135012, 0.810596735563218, 0.8079878293715302, 0.8088919357683316, 0.8086578444429708, 0.8079181315541523, 0.8094813158024763, 0.8093974324734395, 0.8105930140525666, 0.9965927402024193, 0.8092423628417618, 0.998746875462048, 0.8073337907114884, 0.9980218054008313, 0.8103608721088588, 0.809263316446773, 0.9988316180305914, 0.9967685511241655, 0.9993682051793793, 0.9987380452899639, 0.0008799454143523911, 0.0002933151381174637, 0.0002933151381174637, 0.9978735658423619, 0.810420828773163, 0.9977561135505753, 0.8122779638934283, 1.0000132085727922, 1.0004611424344272, 0.8102112614732034, 0.8102332065077202, 0.998236842941369, 0.9998319967527364], \"Term\": [\"'write\", \"-these\", \".the\", \".who\", \"1,882,900\", \"133\", \"15\", \"2\", \"20th\", \"2n\", \"2nd\", \"414\", \"618\", \"731-240-1771\", \"96\", \"ability\", \"accurate\", \"administered\", \"africa\", \"africa,\", \"africa.\", \"amp\", \"amp\", \"artistofindonesia\", \"ashevak's\", \"assist\", \"astrazenca\", \"back.\", \"billblair\", \"blessed\", \"blockchain\", \"boom\", \"border\", \"call\", \"case\", \"checker\", \"clock\", \"cnn\", \"collectively\", \"commrrcmpgrc\", \"complex\", \"controversial\", \"could\", \"council\", \"country\", \"countryrisk\", \"covid\", \"covid-19\", \"covid19\", \"covid19\", \"covid19\", \"covid19\", \"delay\", \"dilgphilippines\", \"dontletup\", \"dos\", \"doses.\", \"dr\", \"efficacyrate\", \"emergence\", \"engineering'\", \"expert\", \"fao\", \"far\", \"federal\", \"find\", \"freight\", \"fully\", \"g\", \"g7summit\", \"germany\", \"get\", \"ha\", \"ha\", \"head\", \"health\", \"health\", \"health,\", \"heavily\", \"horizon\", \"httpst.cohnul6p5yfb\", \"httpst.cohzvgs1fle0\", \"httpst.coiujsbb1rhc\", \"httpst.coiwdbl6nusx\", \"httpst.cojc34zjcjzv\", \"httpst.cok3lqapk00a\", \"httpst.com8dmeypkaq\", \"httpst.coqk6cifvrp4\", \"httpst.coqripynlusc\", \"httpst.coravadldqhc\", \"httpst.cos9zmxacm0l\", \"httpst.cow5rjrbagiz\", \"huge\", \"ilhanmn\", \"im\", \"impacted\", \"india\", \"israel\", \"june\", \"kady\", \"ladenhospital\", \"literate\", \"lower-income\", \"malabo,\", \"medtech\", \"midst\", \"million\", \"mis-lead\", \"more.\\\"\", \"myocarditis.\", \"nations,\", \"need\", \"need\", \"new\", \"one\", \"ontario.\", \"palestinian\", \"parliamentarian\", \"patent\", \"patient\", \"pdt\", \"people\", \"performs\", \"piling\", \"pnpcbc\", \"poiison\", \"populationhealth\", \"ppe\", \"ppes...,\", \"pretending\", \"procedure\", \"proper\", \"public\", \"push\", \"request\", \"risen\", \"rodeo\", \"screenshot\", \"scrutiny\", \"search\", \"selfishness\", \"smh\", \"solid\", \"south\", \"spend\", \"spocougs\", \"staysafe\", \"stpiindia\", \"strong,\", \"supporter\", \"surprise\", \"sutar\", \"swanseauni\", \"symptoms...\", \"technology\", \"therealredelephants\", \"third\", \"this,\", \"today\", \"togo.\", \"transport\", \"urgently\", \"vaccinated\", \"vaccination\", \"vaccine\", \"vaccine\", \"vaccine\", \"vaccine\", \"vaccines,\", \"vaccines-\", \"vaccines.\", \"vict\", \"way\", \"week\", \"with,\", \"with.\", \"world\", \"world.\"]}, \"R\": 30, \"lambda.step\": 0.01, \"plot.opts\": {\"xlab\": \"PC1\", \"ylab\": \"PC2\"}, \"topic.order\": [5, 1, 2, 4, 3]};\n",
              "\n",
              "function LDAvis_load_lib(url, callback){\n",
              "  var s = document.createElement('script');\n",
              "  s.src = url;\n",
              "  s.async = true;\n",
              "  s.onreadystatechange = s.onload = callback;\n",
              "  s.onerror = function(){console.warn(\"failed to load library \" + url);};\n",
              "  document.getElementsByTagName(\"head\")[0].appendChild(s);\n",
              "}\n",
              "\n",
              "if(typeof(LDAvis) !== \"undefined\"){\n",
              "   // already loaded: just create the visualization\n",
              "   !function(LDAvis){\n",
              "       new LDAvis(\"#\" + \"ldavis_el3641398756340425761282562556\", ldavis_el3641398756340425761282562556_data);\n",
              "   }(LDAvis);\n",
              "}else if(typeof define === \"function\" && define.amd){\n",
              "   // require.js is available: use it to load d3/LDAvis\n",
              "   require.config({paths: {d3: \"https://d3js.org/d3.v5\"}});\n",
              "   require([\"d3\"], function(d3){\n",
              "      window.d3 = d3;\n",
              "      LDAvis_load_lib(\"https://cdn.jsdelivr.net/gh/bmabey/pyLDAvis@3.3.1/pyLDAvis/js/ldavis.v3.0.0.js\", function(){\n",
              "        new LDAvis(\"#\" + \"ldavis_el3641398756340425761282562556\", ldavis_el3641398756340425761282562556_data);\n",
              "      });\n",
              "    });\n",
              "}else{\n",
              "    // require.js not available: dynamically load d3 & LDAvis\n",
              "    LDAvis_load_lib(\"https://d3js.org/d3.v5.js\", function(){\n",
              "         LDAvis_load_lib(\"https://cdn.jsdelivr.net/gh/bmabey/pyLDAvis@3.3.1/pyLDAvis/js/ldavis.v3.0.0.js\", function(){\n",
              "                 new LDAvis(\"#\" + \"ldavis_el3641398756340425761282562556\", ldavis_el3641398756340425761282562556_data);\n",
              "            })\n",
              "         });\n",
              "}\n",
              "</script>"
            ],
            "text/plain": [
              "PreparedData(topic_coordinates=              x         y  topics  cluster       Freq\n",
              "topic                                                \n",
              "4     -0.146021 -0.000001       1        1  99.486803\n",
              "0     -0.021058  0.000023       2        1   0.158445\n",
              "1      0.032783 -0.000314       3        1   0.122285\n",
              "3      0.045062  0.000351       4        1   0.119316\n",
              "2      0.089235 -0.000059       5        1   0.113151, topic_info=             Term         Freq        Total Category  logprob  loglift\n",
              "6096      vaccine  3409.000000  3409.000000  Default  30.0000  30.0000\n",
              "1489      covid19  2618.000000  2618.000000  Default  29.0000  29.0000\n",
              "674           amp   810.000000   810.000000  Default  28.0000  28.0000\n",
              "4254         need   684.000000   684.000000  Default  27.0000  27.0000\n",
              "2543       health   668.000000   668.000000  Default  26.0000  26.0000\n",
              "...           ...          ...          ...      ...      ...      ...\n",
              "6044     urgently     0.040818   238.278400   Topic5  -7.8547  -1.8879\n",
              "4854       public     0.041819   274.041157   Topic5  -7.8305  -2.0035\n",
              "3365         huge     0.040948   246.477854   Topic5  -7.8515  -1.9185\n",
              "4470  palestinian     0.040553   237.100542   Topic5  -7.8612  -1.8894\n",
              "3471        india     0.044126   380.033750   Topic5  -7.7768  -2.2768\n",
              "\n",
              "[362 rows x 6 columns], token_table=      Topic      Freq       Term\n",
              "term                            \n",
              "62        1  0.809248     'write\n",
              "100       1  0.811142     -these\n",
              "125       1  0.814175       .the\n",
              "127       1  0.809445       .who\n",
              "153       1  0.814191  1,882,900\n",
              "...     ...       ...        ...\n",
              "6251      1  1.000461       week\n",
              "6307      1  0.810211      with,\n",
              "6308      1  0.810233      with.\n",
              "6335      1  0.998237      world\n",
              "6338      1  0.999832     world.\n",
              "\n",
              "[178 rows x 3 columns], R=30, lambda_step=0.01, plot_opts={'xlab': 'PC1', 'ylab': 'PC2'}, topic_order=[5, 1, 2, 4, 3])"
            ]
          },
          "metadata": {
            "tags": []
          },
          "execution_count": 20
        }
      ]
    },
    {
      "cell_type": "code",
      "metadata": {
        "id": "uvCIxKWUFEmC"
      },
      "source": [
        ""
      ],
      "execution_count": null,
      "outputs": []
    }
  ]
}