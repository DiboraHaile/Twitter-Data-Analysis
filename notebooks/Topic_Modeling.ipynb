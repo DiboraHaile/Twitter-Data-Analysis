{
  "nbformat": 4,
  "nbformat_minor": 0,
  "metadata": {
    "colab": {
      "name": "Topic Modeling.ipynb",
      "provenance": [],
      "collapsed_sections": []
    },
    "kernelspec": {
      "display_name": "Python 3",
      "name": "python3"
    },
    "language_info": {
      "name": "python"
    }
  },
  "cells": [
    {
      "cell_type": "code",
      "metadata": {
        "id": "XmB73mrZCvgA",
        "colab": {
          "base_uri": "https://localhost:8080/"
        },
        "outputId": "3fb96c95-92e3-48b4-9c10-cd34ad96de7f"
      },
      "source": [
        "import warnings\n",
        "warnings.filterwarnings('ignore')\n",
        "import matplotlib.pyplot as plt\n",
        "import nltk\n",
        "import seaborn as sns\n",
        "from wordcloud import STOPWORDS,WordCloud\n",
        "from nltk.stem import WordNetLemmatizer \n",
        "import gensim\n",
        "from gensim.models import CoherenceModel\n",
        "from gensim import corpora\n",
        "import pandas as pd\n",
        "from pprint import pprint\n",
        "from nltk import corpus\n",
        "from nltk import wordnet\n",
        "from nltk.tokenize import RegexpTokenizer\n",
        "from nltk.corpus import stopwords\n",
        "import string\n",
        "import os\n",
        "import re\n",
        "import pyLDAvis.gensim_models as gensimvis\n",
        "import pickle \n",
        "import pyLDAvis"
      ],
      "execution_count": 20,
      "outputs": [
        {
          "output_type": "stream",
          "text": [
            "/usr/local/lib/python3.7/dist-packages/past/types/oldstr.py:5: DeprecationWarning: Using or importing the ABCs from 'collections' instead of from 'collections.abc' is deprecated since Python 3.3,and in 3.9 it will stop working\n",
            "  from collections import Iterable\n",
            "/usr/local/lib/python3.7/dist-packages/sklearn/decomposition/_lda.py:29: DeprecationWarning: `np.float` is a deprecated alias for the builtin `float`. To silence this warning, use `float` by itself. Doing this will not modify any behavior and is safe. If you specifically wanted the numpy scalar type, use `np.float64` here.\n",
            "Deprecated in NumPy 1.20; for more details and guidance: https://numpy.org/devdocs/release/1.20.0-notes.html#deprecations\n",
            "  EPS = np.finfo(np.float).eps\n"
          ],
          "name": "stderr"
        }
      ]
    },
    {
      "cell_type": "code",
      "metadata": {
        "colab": {
          "base_uri": "https://localhost:8080/"
        },
        "id": "nenkm8blMudT",
        "outputId": "9a4ba1eb-e539-4c0d-a040-5b6a5c7adbd5"
      },
      "source": [
        "nltk.download('wordnet')\n",
        "nltk.download('stopwords')"
      ],
      "execution_count": 2,
      "outputs": [
        {
          "output_type": "stream",
          "text": [
            "[nltk_data] Downloading package wordnet to /root/nltk_data...\n",
            "[nltk_data]   Package wordnet is already up-to-date!\n",
            "[nltk_data] Downloading package stopwords to /root/nltk_data...\n",
            "[nltk_data]   Package stopwords is already up-to-date!\n"
          ],
          "name": "stdout"
        },
        {
          "output_type": "execute_result",
          "data": {
            "text/plain": [
              "True"
            ]
          },
          "metadata": {
            "tags": []
          },
          "execution_count": 2
        }
      ]
    },
    {
      "cell_type": "code",
      "metadata": {
        "colab": {
          "base_uri": "https://localhost:8080/"
        },
        "id": "OqR6OW2nJ37w",
        "outputId": "5332fa26-51f5-4378-8ecc-63e321c44bbc"
      },
      "source": [
        "!pip install pyLDAvis "
      ],
      "execution_count": 18,
      "outputs": [
        {
          "output_type": "stream",
          "text": [
            "Requirement already satisfied: pyLDAvis in /usr/local/lib/python3.7/dist-packages (3.3.1)\n",
            "Requirement already satisfied: scikit-learn in /usr/local/lib/python3.7/dist-packages (from pyLDAvis) (0.22.2.post1)\n",
            "Requirement already satisfied: numpy>=1.20.0 in /usr/local/lib/python3.7/dist-packages (from pyLDAvis) (1.21.0)\n",
            "Requirement already satisfied: setuptools in /usr/local/lib/python3.7/dist-packages (from pyLDAvis) (57.0.0)\n",
            "Requirement already satisfied: numexpr in /usr/local/lib/python3.7/dist-packages (from pyLDAvis) (2.7.3)\n",
            "Requirement already satisfied: future in /usr/local/lib/python3.7/dist-packages (from pyLDAvis) (0.16.0)\n",
            "Requirement already satisfied: funcy in /usr/local/lib/python3.7/dist-packages (from pyLDAvis) (1.16)\n",
            "Requirement already satisfied: gensim in /usr/local/lib/python3.7/dist-packages (from pyLDAvis) (3.6.0)\n",
            "Requirement already satisfied: pandas>=1.2.0 in /usr/local/lib/python3.7/dist-packages (from pyLDAvis) (1.2.5)\n",
            "Requirement already satisfied: scipy in /usr/local/lib/python3.7/dist-packages (from pyLDAvis) (1.4.1)\n",
            "Requirement already satisfied: sklearn in /usr/local/lib/python3.7/dist-packages (from pyLDAvis) (0.0)\n",
            "Requirement already satisfied: jinja2 in /usr/local/lib/python3.7/dist-packages (from pyLDAvis) (2.11.3)\n",
            "Requirement already satisfied: joblib in /usr/local/lib/python3.7/dist-packages (from pyLDAvis) (1.0.1)\n",
            "Requirement already satisfied: smart-open>=1.2.1 in /usr/local/lib/python3.7/dist-packages (from gensim->pyLDAvis) (5.1.0)\n",
            "Requirement already satisfied: six>=1.5.0 in /usr/local/lib/python3.7/dist-packages (from gensim->pyLDAvis) (1.15.0)\n",
            "Requirement already satisfied: pytz>=2017.3 in /usr/local/lib/python3.7/dist-packages (from pandas>=1.2.0->pyLDAvis) (2018.9)\n",
            "Requirement already satisfied: python-dateutil>=2.7.3 in /usr/local/lib/python3.7/dist-packages (from pandas>=1.2.0->pyLDAvis) (2.8.1)\n",
            "Requirement already satisfied: MarkupSafe>=0.23 in /usr/local/lib/python3.7/dist-packages (from jinja2->pyLDAvis) (2.0.1)\n"
          ],
          "name": "stdout"
        }
      ]
    },
    {
      "cell_type": "code",
      "metadata": {
        "id": "fAytSxNQCyvf"
      },
      "source": [
        "#data loader class\n",
        "class CsvLoader:\n",
        "  def __init__(self,path,filename):\n",
        "    if os.getcwd() != path:\n",
        "      os.chdir(path)   \n",
        "    self.path = path\n",
        "    self.filename = filename \n",
        " \n",
        "  def load_csv(self):\n",
        "    df = pd.read_csv(self.filename,engine='python',error_bad_lines=False)\n",
        "    return df\n",
        "  "
      ],
      "execution_count": 3,
      "outputs": []
    },
    {
      "cell_type": "code",
      "metadata": {
        "colab": {
          "base_uri": "https://localhost:8080/",
          "height": 965
        },
        "id": "eWRTphfMCyyn",
        "outputId": "8a46f52c-1384-4b83-9c66-78d6e2d62834"
      },
      "source": [
        "csv_loader = CsvLoader('/content','processed_tweet_data.csv')\n",
        "csv_loaded = csv_loader.load_csv()\n",
        "csv_loaded.dropna(subset = [\"original_text\"], inplace=True)\n",
        "csv_loaded"
      ],
      "execution_count": 4,
      "outputs": [
        {
          "output_type": "execute_result",
          "data": {
            "text/html": [
              "<div>\n",
              "<style scoped>\n",
              "    .dataframe tbody tr th:only-of-type {\n",
              "        vertical-align: middle;\n",
              "    }\n",
              "\n",
              "    .dataframe tbody tr th {\n",
              "        vertical-align: top;\n",
              "    }\n",
              "\n",
              "    .dataframe thead th {\n",
              "        text-align: right;\n",
              "    }\n",
              "</style>\n",
              "<table border=\"1\" class=\"dataframe\">\n",
              "  <thead>\n",
              "    <tr style=\"text-align: right;\">\n",
              "      <th></th>\n",
              "      <th>created_at</th>\n",
              "      <th>source</th>\n",
              "      <th>original_text</th>\n",
              "      <th>polarity</th>\n",
              "      <th>subjectivity</th>\n",
              "      <th>lang</th>\n",
              "      <th>favorite_count</th>\n",
              "      <th>retweet_count</th>\n",
              "      <th>original_author</th>\n",
              "      <th>followers_count</th>\n",
              "      <th>friends_count</th>\n",
              "      <th>possibly_sensitive</th>\n",
              "      <th>hashtags</th>\n",
              "      <th>user_mentions</th>\n",
              "      <th>place</th>\n",
              "    </tr>\n",
              "  </thead>\n",
              "  <tbody>\n",
              "    <tr>\n",
              "      <th>0</th>\n",
              "      <td>Fri Jun 18 17:55:49 +0000 2021</td>\n",
              "      <td>&lt;a href=\"http://twitter.com/download/iphone\" r...</td>\n",
              "      <td>🚨Africa is \"in the midst of a full-blown third...</td>\n",
              "      <td>0.166667</td>\n",
              "      <td>0.188889</td>\n",
              "      <td>en</td>\n",
              "      <td>548.0</td>\n",
              "      <td>612.0</td>\n",
              "      <td>ketuesriche</td>\n",
              "      <td>551</td>\n",
              "      <td>351</td>\n",
              "      <td>NaN</td>\n",
              "      <td>NaN</td>\n",
              "      <td>TelGlobalHealthWHOAFRO</td>\n",
              "      <td>Mass</td>\n",
              "    </tr>\n",
              "    <tr>\n",
              "      <th>1</th>\n",
              "      <td>Fri Jun 18 17:55:59 +0000 2021</td>\n",
              "      <td>&lt;a href=\"https://mobile.twitter.com\" rel=\"nofo...</td>\n",
              "      <td>Dr Moeti is head of WHO in Africa, and one of ...</td>\n",
              "      <td>0.133333</td>\n",
              "      <td>0.455556</td>\n",
              "      <td>en</td>\n",
              "      <td>195.0</td>\n",
              "      <td>92.0</td>\n",
              "      <td>Grid1949</td>\n",
              "      <td>66</td>\n",
              "      <td>92</td>\n",
              "      <td>NaN</td>\n",
              "      <td>NaN</td>\n",
              "      <td>globalhlthtwit</td>\n",
              "      <td>Edinburgh, Scotland</td>\n",
              "    </tr>\n",
              "    <tr>\n",
              "      <th>2</th>\n",
              "      <td>Fri Jun 18 17:56:07 +0000 2021</td>\n",
              "      <td>&lt;a href=\"http://twitter.com/download/iphone\" r...</td>\n",
              "      <td>Thank you @research2note for creating this ama...</td>\n",
              "      <td>0.316667</td>\n",
              "      <td>0.483333</td>\n",
              "      <td>en</td>\n",
              "      <td>2.0</td>\n",
              "      <td>1.0</td>\n",
              "      <td>LeeTomlinson8</td>\n",
              "      <td>1195</td>\n",
              "      <td>1176</td>\n",
              "      <td>NaN</td>\n",
              "      <td>red4research</td>\n",
              "      <td>NHSRDForumResearch2noteNHSRDForum</td>\n",
              "      <td>NaN</td>\n",
              "    </tr>\n",
              "    <tr>\n",
              "      <th>3</th>\n",
              "      <td>Fri Jun 18 17:56:10 +0000 2021</td>\n",
              "      <td>&lt;a href=\"https://mobile.twitter.com\" rel=\"nofo...</td>\n",
              "      <td>Former Pfizer VP and Virologist, Dr. Michael Y...</td>\n",
              "      <td>0.086111</td>\n",
              "      <td>0.197222</td>\n",
              "      <td>en</td>\n",
              "      <td>1580.0</td>\n",
              "      <td>899.0</td>\n",
              "      <td>RIPNY08</td>\n",
              "      <td>2666</td>\n",
              "      <td>2704</td>\n",
              "      <td>NaN</td>\n",
              "      <td>NaN</td>\n",
              "      <td>HighWireTalk</td>\n",
              "      <td>NaN</td>\n",
              "    </tr>\n",
              "    <tr>\n",
              "      <th>4</th>\n",
              "      <td>Fri Jun 18 17:56:20 +0000 2021</td>\n",
              "      <td>&lt;a href=\"http://twitter.com/download/android\" ...</td>\n",
              "      <td>I think it’s important that we don’t sell COVA...</td>\n",
              "      <td>0.280000</td>\n",
              "      <td>0.620000</td>\n",
              "      <td>en</td>\n",
              "      <td>72.0</td>\n",
              "      <td>20.0</td>\n",
              "      <td>pash22</td>\n",
              "      <td>28250</td>\n",
              "      <td>30819</td>\n",
              "      <td>NaN</td>\n",
              "      <td>NaN</td>\n",
              "      <td>PeterHotez</td>\n",
              "      <td>United Kingdom</td>\n",
              "    </tr>\n",
              "    <tr>\n",
              "      <th>...</th>\n",
              "      <td>...</td>\n",
              "      <td>...</td>\n",
              "      <td>...</td>\n",
              "      <td>...</td>\n",
              "      <td>...</td>\n",
              "      <td>...</td>\n",
              "      <td>...</td>\n",
              "      <td>...</td>\n",
              "      <td>...</td>\n",
              "      <td>...</td>\n",
              "      <td>...</td>\n",
              "      <td>...</td>\n",
              "      <td>...</td>\n",
              "      <td>...</td>\n",
              "      <td>...</td>\n",
              "    </tr>\n",
              "    <tr>\n",
              "      <th>6521</th>\n",
              "      <td>Sat Jun 19 07:40:29 +0000 2021</td>\n",
              "      <td>&lt;a href=\"http://twitter.com/download/iphone\" r...</td>\n",
              "      <td>Australia is sending vaccines.\\nAustralia is s...</td>\n",
              "      <td>0.100000</td>\n",
              "      <td>0.400000</td>\n",
              "      <td>en</td>\n",
              "      <td>78.0</td>\n",
              "      <td>12.0</td>\n",
              "      <td>ravaifiji</td>\n",
              "      <td>1577</td>\n",
              "      <td>538</td>\n",
              "      <td>NaN</td>\n",
              "      <td>NaN</td>\n",
              "      <td>pseudofijian</td>\n",
              "      <td>Fiji</td>\n",
              "    </tr>\n",
              "    <tr>\n",
              "      <th>6522</th>\n",
              "      <td>Sat Jun 19 07:40:29 +0000 2021</td>\n",
              "      <td>&lt;a href=\"https://mobile.twitter.com\" rel=\"nofo...</td>\n",
              "      <td>The Truth Behind COVID-19 Vaccines (6) —— Bell...</td>\n",
              "      <td>-0.386111</td>\n",
              "      <td>0.622222</td>\n",
              "      <td>en</td>\n",
              "      <td>2.0</td>\n",
              "      <td>2.0</td>\n",
              "      <td>Hhuatakedownccp</td>\n",
              "      <td>697</td>\n",
              "      <td>303</td>\n",
              "      <td>NaN</td>\n",
              "      <td>DrLiMengYanCCPVirus</td>\n",
              "      <td>edendomain</td>\n",
              "      <td>Osaka-shi Chuo, Osaka</td>\n",
              "    </tr>\n",
              "    <tr>\n",
              "      <th>6524</th>\n",
              "      <td>Sat Jun 19 07:41:00 +0000 2021</td>\n",
              "      <td>&lt;a href=\"http://twitter.com/download/android\" ...</td>\n",
              "      <td>Covid19 vaccines reach the remotest places of ...</td>\n",
              "      <td>-0.050000</td>\n",
              "      <td>0.400000</td>\n",
              "      <td>en</td>\n",
              "      <td>113.0</td>\n",
              "      <td>87.0</td>\n",
              "      <td>bitu_50</td>\n",
              "      <td>410</td>\n",
              "      <td>483</td>\n",
              "      <td>NaN</td>\n",
              "      <td>NaN</td>\n",
              "      <td>N_RamchanderRao</td>\n",
              "      <td>Jehanabad, India</td>\n",
              "    </tr>\n",
              "    <tr>\n",
              "      <th>6528</th>\n",
              "      <td>Sat Jun 19 07:41:26 +0000 2021</td>\n",
              "      <td>&lt;a href=\"http://twitter.com/download/android\" ...</td>\n",
              "      <td>Former Pfizer VP and Virologist, Dr. Michael Y...</td>\n",
              "      <td>0.086111</td>\n",
              "      <td>0.197222</td>\n",
              "      <td>en</td>\n",
              "      <td>1595.0</td>\n",
              "      <td>908.0</td>\n",
              "      <td>wayno_af007</td>\n",
              "      <td>2224</td>\n",
              "      <td>2739</td>\n",
              "      <td>NaN</td>\n",
              "      <td>NaN</td>\n",
              "      <td>HighWireTalk</td>\n",
              "      <td>The boro, MA</td>\n",
              "    </tr>\n",
              "    <tr>\n",
              "      <th>6530</th>\n",
              "      <td>Sat Jun 19 07:41:45 +0000 2021</td>\n",
              "      <td>&lt;a href=\"http://twitter.com/download/iphone\" r...</td>\n",
              "      <td>\"Africa needs millions more doses here &amp;amp; n...</td>\n",
              "      <td>0.125000</td>\n",
              "      <td>0.325000</td>\n",
              "      <td>en</td>\n",
              "      <td>143.0</td>\n",
              "      <td>122.0</td>\n",
              "      <td>DrAmirKhanGP</td>\n",
              "      <td>135163</td>\n",
              "      <td>1284</td>\n",
              "      <td>NaN</td>\n",
              "      <td>COVID19</td>\n",
              "      <td>WHOAFRO</td>\n",
              "      <td>Yorkshire and The Humber</td>\n",
              "    </tr>\n",
              "  </tbody>\n",
              "</table>\n",
              "<p>3720 rows × 15 columns</p>\n",
              "</div>"
            ],
            "text/plain": [
              "                          created_at  ...                     place\n",
              "0     Fri Jun 18 17:55:49 +0000 2021  ...                      Mass\n",
              "1     Fri Jun 18 17:55:59 +0000 2021  ...       Edinburgh, Scotland\n",
              "2     Fri Jun 18 17:56:07 +0000 2021  ...                       NaN\n",
              "3     Fri Jun 18 17:56:10 +0000 2021  ...                       NaN\n",
              "4     Fri Jun 18 17:56:20 +0000 2021  ...            United Kingdom\n",
              "...                              ...  ...                       ...\n",
              "6521  Sat Jun 19 07:40:29 +0000 2021  ...                      Fiji\n",
              "6522  Sat Jun 19 07:40:29 +0000 2021  ...     Osaka-shi Chuo, Osaka\n",
              "6524  Sat Jun 19 07:41:00 +0000 2021  ...          Jehanabad, India\n",
              "6528  Sat Jun 19 07:41:26 +0000 2021  ...              The boro, MA\n",
              "6530  Sat Jun 19 07:41:45 +0000 2021  ...  Yorkshire and The Humber\n",
              "\n",
              "[3720 rows x 15 columns]"
            ]
          },
          "metadata": {
            "tags": []
          },
          "execution_count": 4
        }
      ]
    },
    {
      "cell_type": "markdown",
      "metadata": {
        "id": "bohWF7jpzR0z"
      },
      "source": [
        "#Data Understanding\n",
        "Display information on the Data"
      ]
    },
    {
      "cell_type": "code",
      "metadata": {
        "id": "5viRAAGzzfQR"
      },
      "source": [
        "class DataInfo:\n",
        "  def __init__(self,df):\n",
        "    self.df = df\n",
        "\n",
        "  def general_info(self):\n",
        "    return self.df.info()"
      ],
      "execution_count": 5,
      "outputs": []
    },
    {
      "cell_type": "code",
      "metadata": {
        "colab": {
          "base_uri": "https://localhost:8080/"
        },
        "id": "hzsY7QzMCy10",
        "outputId": "363adfa2-fae6-432f-b353-46d56d866088"
      },
      "source": [
        "Get_Info = DataInfo(csv_loaded)\n",
        "Get_Info.general_info()"
      ],
      "execution_count": 6,
      "outputs": [
        {
          "output_type": "stream",
          "text": [
            "<class 'pandas.core.frame.DataFrame'>\n",
            "Int64Index: 3720 entries, 0 to 6530\n",
            "Data columns (total 15 columns):\n",
            " #   Column              Non-Null Count  Dtype  \n",
            "---  ------              --------------  -----  \n",
            " 0   created_at          3720 non-null   object \n",
            " 1   source              3720 non-null   object \n",
            " 2   original_text       3720 non-null   object \n",
            " 3   polarity            3720 non-null   float64\n",
            " 4   subjectivity        3720 non-null   float64\n",
            " 5   lang                3720 non-null   object \n",
            " 6   favorite_count      3720 non-null   float64\n",
            " 7   retweet_count       3720 non-null   float64\n",
            " 8   original_author     3720 non-null   object \n",
            " 9   followers_count     3720 non-null   int64  \n",
            " 10  friends_count       3720 non-null   int64  \n",
            " 11  possibly_sensitive  47 non-null     object \n",
            " 12  hashtags            2060 non-null   object \n",
            " 13  user_mentions       3720 non-null   object \n",
            " 14  place               2478 non-null   object \n",
            "dtypes: float64(4), int64(2), object(9)\n",
            "memory usage: 465.0+ KB\n"
          ],
          "name": "stdout"
        }
      ]
    },
    {
      "cell_type": "code",
      "metadata": {
        "id": "5VyCYLzyMmU_"
      },
      "source": [
        "\n",
        "  # def remove_symbols(self,sentence_list):\n",
        "  #    regrex_pattern = re.compile(pattern = \"[\"\n",
        "  #       u\"\\U0001F600-\\U0001F64F\"  # emoticons\n",
        "  #       u\"\\U0001F300-\\U0001F5FF\"  # symbols & pictographs\n",
        "  #       u\"\\U0001F680-\\U0001F6FF\"  # transport & map symbols\n",
        "  #       u\"\\U0001F1E0-\\U0001F1FF\"  # flags (iOS)\n",
        "  #                          \"]+\", flags = re.UNICODE)\n",
        "  #    return regrex_pattern.sub(r'',sentence_list)\n"
      ],
      "execution_count": 7,
      "outputs": []
    },
    {
      "cell_type": "markdown",
      "metadata": {
        "id": "59tRIqqh1DJ2"
      },
      "source": [
        "#Data Preparation\n",
        "Select and clean the data we are going to use for our model"
      ]
    },
    {
      "cell_type": "code",
      "metadata": {
        "id": "HSzAIPaGCy4W"
      },
      "source": [
        "class PreparedData:\n",
        "  def __init__(self,df):\n",
        "    self.df = df\n",
        "      \n",
        "  def clean_df(self):\n",
        "    df = self.df[self.df['lang'] ==\"en\"]\n",
        "    df['original_text'] = df['original_text'].astype(str)\n",
        "    df['original_text'] = df['original_text'].apply(lambda x: x.lower())\n",
        "    # df['original_text']= df['original_text'].apply(lambda x: x.translate(str.maketrans(' ', ' ', string.punctuation)))\n",
        "    \n",
        "    return df\n",
        "\n",
        "  def select_data(self,df):\n",
        "    sel_df = self.df['original_text']\n",
        "    sentence_list = sel_df.tolist()\n",
        "    return sentence_list\n",
        "\n",
        "  def tokenize_data(self,sentence_list):\n",
        "    #creating sentences and words from the input tweets\n",
        "    words = []\n",
        "    tokenizer1 = RegexpTokenizer(\"[a-zA-Z0-9]+\")    \n",
        "    for sent in sentence_list:\n",
        "      for myWord in tokenizer1.tokenize(sent):\n",
        "        words.append(myWord.lower())   \n",
        "    return words \n",
        "\n",
        "  def lemmatize_data(self,word):\n",
        "    wl = WordNetLemmatizer()\n",
        "    return str(wl.lemmatize(word))\n",
        "\n",
        "  def remove_stop_words(self,word):\n",
        "    s_words = stopwords.words('english')\n",
        "    if word not in s_words:\n",
        "      return word\n",
        "\n",
        "  def remove_none(self,wordlist):\n",
        "    cleaned_list = []\n",
        "    for w in wordlist:\n",
        "      if w is not None:\n",
        "        cleaned_list.append(w)\n",
        "    return cleaned_list\n",
        "  \n",
        "  "
      ],
      "execution_count": 23,
      "outputs": []
    },
    {
      "cell_type": "code",
      "metadata": {
        "id": "0xafoCQ64kRb"
      },
      "source": [
        "def prepare_data(df):\n",
        "    PreparedData_object = PreparedData(df)\n",
        "    cleaned_df = PreparedData_object.clean_df()\n",
        "    selected = PreparedData_object.select_data(cleaned_df)\n",
        "    word_list = PreparedData_object.tokenize_data(selected)\n",
        "    prepared_wordList = [PreparedData_object.remove_stop_words(PreparedData_object.lemmatize_data(word)) for word in word_list]\n",
        "    prepared = PreparedData_object.remove_none(prepared_wordList)\n",
        "    return prepared,selected  \n",
        "\n",
        "    "
      ],
      "execution_count": 24,
      "outputs": []
    },
    {
      "cell_type": "code",
      "metadata": {
        "id": "SO-4bn1R5-rc"
      },
      "source": [
        "prepared_wordlist,prepared_sentencelist = prepare_data(csv_loaded)"
      ],
      "execution_count": 30,
      "outputs": []
    },
    {
      "cell_type": "code",
      "metadata": {
        "colab": {
          "base_uri": "https://localhost:8080/"
        },
        "id": "atC_HqgcZZYV",
        "outputId": "7a5ebdf7-3d0d-4138-aefe-bd828fa107c5"
      },
      "source": [
        "prepared_wordlist[:10]"
      ],
      "execution_count": 31,
      "outputs": [
        {
          "output_type": "execute_result",
          "data": {
            "text/plain": [
              "['africa',\n",
              " 'midst',\n",
              " 'full',\n",
              " 'blown',\n",
              " 'third',\n",
              " 'wave',\n",
              " 'coronavirus',\n",
              " 'head',\n",
              " 'whoafro',\n",
              " 'ha']"
            ]
          },
          "metadata": {
            "tags": []
          },
          "execution_count": 31
        }
      ]
    },
    {
      "cell_type": "markdown",
      "metadata": {
        "id": "iFTvXYP_bEaL"
      },
      "source": [
        "#Modeling\n",
        "Selecting the right model and assessing it "
      ]
    },
    {
      "cell_type": "code",
      "metadata": {
        "id": "otTcoqGDGjuW",
        "colab": {
          "base_uri": "https://localhost:8080/"
        },
        "outputId": "e103ac45-650e-456e-ca6a-5271febf7ed4"
      },
      "source": [
        "word_id = corpora.Dictionary([prepared_wordlist])\n",
        "myCorpus = [word_id.doc2bow(prepared_word) for prepared_word in [prepared_wordlist]]\n",
        "# Modeling\n",
        "model = gensim.models.ldamodel.LdaModel(myCorpus,\n",
        "                                           id2word=word_id,\n",
        "                                           num_topics=7, \n",
        "                                           random_state=100,\n",
        "                                           update_every=1,\n",
        "                                           chunksize=100,\n",
        "                                           passes=10,\n",
        "                                           alpha='auto',\n",
        "                                           per_word_topics=True)"
      ],
      "execution_count": 32,
      "outputs": [
        {
          "output_type": "stream",
          "text": [
            "/usr/local/lib/python3.7/dist-packages/gensim/models/ldamodel.py:1077: DeprecationWarning: Calling np.sum(generator) is deprecated, and in the future will give a different result. Use np.sum(np.fromiter(generator)) or the python sum builtin instead.\n",
            "  score += np.sum(cnt * logsumexp(Elogthetad + Elogbeta[:, int(id)]) for id, cnt in doc)\n",
            "/usr/local/lib/python3.7/dist-packages/gensim/models/ldamodel.py:1077: DeprecationWarning: Calling np.sum(generator) is deprecated, and in the future will give a different result. Use np.sum(np.fromiter(generator)) or the python sum builtin instead.\n",
            "  score += np.sum(cnt * logsumexp(Elogthetad + Elogbeta[:, int(id)]) for id, cnt in doc)\n",
            "/usr/local/lib/python3.7/dist-packages/gensim/models/ldamodel.py:1077: DeprecationWarning: Calling np.sum(generator) is deprecated, and in the future will give a different result. Use np.sum(np.fromiter(generator)) or the python sum builtin instead.\n",
            "  score += np.sum(cnt * logsumexp(Elogthetad + Elogbeta[:, int(id)]) for id, cnt in doc)\n",
            "/usr/local/lib/python3.7/dist-packages/gensim/models/ldamodel.py:1077: DeprecationWarning: Calling np.sum(generator) is deprecated, and in the future will give a different result. Use np.sum(np.fromiter(generator)) or the python sum builtin instead.\n",
            "  score += np.sum(cnt * logsumexp(Elogthetad + Elogbeta[:, int(id)]) for id, cnt in doc)\n",
            "/usr/local/lib/python3.7/dist-packages/gensim/models/ldamodel.py:1077: DeprecationWarning: Calling np.sum(generator) is deprecated, and in the future will give a different result. Use np.sum(np.fromiter(generator)) or the python sum builtin instead.\n",
            "  score += np.sum(cnt * logsumexp(Elogthetad + Elogbeta[:, int(id)]) for id, cnt in doc)\n",
            "/usr/local/lib/python3.7/dist-packages/gensim/models/ldamodel.py:1077: DeprecationWarning: Calling np.sum(generator) is deprecated, and in the future will give a different result. Use np.sum(np.fromiter(generator)) or the python sum builtin instead.\n",
            "  score += np.sum(cnt * logsumexp(Elogthetad + Elogbeta[:, int(id)]) for id, cnt in doc)\n",
            "/usr/local/lib/python3.7/dist-packages/gensim/models/ldamodel.py:1077: DeprecationWarning: Calling np.sum(generator) is deprecated, and in the future will give a different result. Use np.sum(np.fromiter(generator)) or the python sum builtin instead.\n",
            "  score += np.sum(cnt * logsumexp(Elogthetad + Elogbeta[:, int(id)]) for id, cnt in doc)\n",
            "/usr/local/lib/python3.7/dist-packages/gensim/models/ldamodel.py:1077: DeprecationWarning: Calling np.sum(generator) is deprecated, and in the future will give a different result. Use np.sum(np.fromiter(generator)) or the python sum builtin instead.\n",
            "  score += np.sum(cnt * logsumexp(Elogthetad + Elogbeta[:, int(id)]) for id, cnt in doc)\n",
            "/usr/local/lib/python3.7/dist-packages/gensim/models/ldamodel.py:1077: DeprecationWarning: Calling np.sum(generator) is deprecated, and in the future will give a different result. Use np.sum(np.fromiter(generator)) or the python sum builtin instead.\n",
            "  score += np.sum(cnt * logsumexp(Elogthetad + Elogbeta[:, int(id)]) for id, cnt in doc)\n",
            "/usr/local/lib/python3.7/dist-packages/gensim/models/ldamodel.py:1077: DeprecationWarning: Calling np.sum(generator) is deprecated, and in the future will give a different result. Use np.sum(np.fromiter(generator)) or the python sum builtin instead.\n",
            "  score += np.sum(cnt * logsumexp(Elogthetad + Elogbeta[:, int(id)]) for id, cnt in doc)\n"
          ],
          "name": "stderr"
        }
      ]
    },
    {
      "cell_type": "code",
      "metadata": {
        "colab": {
          "base_uri": "https://localhost:8080/"
        },
        "id": "NLKSy6QUll6i",
        "outputId": "9406d021-656c-4ad8-dd2f-187043ad3479"
      },
      "source": [
        "pprint(model.show_topics(formatted=False))"
      ],
      "execution_count": 33,
      "outputs": [
        {
          "output_type": "stream",
          "text": [
            "[(0,\n",
            "  [('vaccine', 0.010447516),\n",
            "   ('http', 0.006845243),\n",
            "   ('co', 0.0057316404),\n",
            "   ('covid19', 0.005173532),\n",
            "   ('africa', 0.0032421679),\n",
            "   ('world', 0.0021081867),\n",
            "   ('amp', 0.0018113299),\n",
            "   ('dos', 0.0014354363),\n",
            "   ('need', 0.0014221477),\n",
            "   ('wave', 0.0013317144)]),\n",
            " (1,\n",
            "  [('vaccine', 0.0043484517),\n",
            "   ('http', 0.0041330243),\n",
            "   ('co', 0.0033837405),\n",
            "   ('covid19', 0.002858383),\n",
            "   ('africa', 0.0016686914),\n",
            "   ('covid', 0.0012082566),\n",
            "   ('world', 0.00109886),\n",
            "   ('dos', 0.0010873323),\n",
            "   ('amp', 0.001030495),\n",
            "   ('health', 0.00094260153)]),\n",
            " (2,\n",
            "  [('vaccine', 0.0016380927),\n",
            "   ('covid19', 0.0012531837),\n",
            "   ('http', 0.0011097183),\n",
            "   ('co', 0.0009871629),\n",
            "   ('africa', 0.00070974627),\n",
            "   ('amp', 0.0004854707),\n",
            "   ('world', 0.0004327206),\n",
            "   ('need', 0.00041754084),\n",
            "   ('dos', 0.00041509373),\n",
            "   ('ha', 0.00039204842)]),\n",
            " (3,\n",
            "  [('vaccine', 0.010832202),\n",
            "   ('http', 0.01029136),\n",
            "   ('co', 0.0098110745),\n",
            "   ('covid19', 0.008276451),\n",
            "   ('africa', 0.0052778944),\n",
            "   ('amp', 0.0026802411),\n",
            "   ('covid', 0.0026252219),\n",
            "   ('dos', 0.0025565508),\n",
            "   ('world', 0.0022975644),\n",
            "   ('health', 0.0021383064)]),\n",
            " (4,\n",
            "  [('http', 0.0021799318),\n",
            "   ('vaccine', 0.0021756333),\n",
            "   ('co', 0.001779278),\n",
            "   ('covid19', 0.001765575),\n",
            "   ('africa', 0.0010089657),\n",
            "   ('amp', 0.0007832655),\n",
            "   ('world', 0.0007597703),\n",
            "   ('need', 0.0006669046),\n",
            "   ('dos', 0.00062015635),\n",
            "   ('case', 0.0005970854)]),\n",
            " (5,\n",
            "  [('co', 0.0040918756),\n",
            "   ('covid19', 0.0038287058),\n",
            "   ('http', 0.0037646915),\n",
            "   ('vaccine', 0.003256666),\n",
            "   ('africa', 0.0020488678),\n",
            "   ('amp', 0.0011239151),\n",
            "   ('need', 0.00101717),\n",
            "   ('case', 0.0010097672),\n",
            "   ('world', 0.0010077485),\n",
            "   ('covid', 0.00095965253)]),\n",
            " (6,\n",
            "  [('vaccine', 0.04184865),\n",
            "   ('co', 0.035107423),\n",
            "   ('http', 0.03509431),\n",
            "   ('covid19', 0.027518636),\n",
            "   ('africa', 0.014240282),\n",
            "   ('amp', 0.008707261),\n",
            "   ('world', 0.007682368),\n",
            "   ('dos', 0.0074614924),\n",
            "   ('need', 0.0068664644),\n",
            "   ('covid', 0.0068305046)])]\n"
          ],
          "name": "stdout"
        }
      ]
    },
    {
      "cell_type": "code",
      "metadata": {
        "colab": {
          "base_uri": "https://localhost:8080/"
        },
        "id": "t13obMzmCzVV",
        "outputId": "d2fcf011-79a4-45fb-be35-c82c3ef2d302"
      },
      "source": [
        "# Evaluation using coherence\n",
        "lda_coherence_mod = CoherenceModel(model=model, texts=[prepared_wordlist], dictionary=word_id, coherence='c_v')\n",
        "coherence = lda_coherence_mod.get_coherence()\n",
        "print(f'Coherence score and accuracy {coherence}', )"
      ],
      "execution_count": 34,
      "outputs": [
        {
          "output_type": "stream",
          "text": [
            "Coherence score and accuracy 0.29324383799962356\n"
          ],
          "name": "stdout"
        }
      ]
    },
    {
      "cell_type": "code",
      "metadata": {
        "colab": {
          "base_uri": "https://localhost:8080/"
        },
        "id": "S2mAPxoqCzRV",
        "outputId": "9634064e-ff76-47be-ae78-1d0cc931c0d2"
      },
      "source": [
        "pprint(model.show_topics(formatted=False))"
      ],
      "execution_count": 35,
      "outputs": [
        {
          "output_type": "stream",
          "text": [
            "[(0,\n",
            "  [('vaccine', 0.010447516),\n",
            "   ('http', 0.006845243),\n",
            "   ('co', 0.0057316404),\n",
            "   ('covid19', 0.005173532),\n",
            "   ('africa', 0.0032421679),\n",
            "   ('world', 0.0021081867),\n",
            "   ('amp', 0.0018113299),\n",
            "   ('dos', 0.0014354363),\n",
            "   ('need', 0.0014221477),\n",
            "   ('wave', 0.0013317144)]),\n",
            " (1,\n",
            "  [('vaccine', 0.0043484517),\n",
            "   ('http', 0.0041330243),\n",
            "   ('co', 0.0033837405),\n",
            "   ('covid19', 0.002858383),\n",
            "   ('africa', 0.0016686914),\n",
            "   ('covid', 0.0012082566),\n",
            "   ('world', 0.00109886),\n",
            "   ('dos', 0.0010873323),\n",
            "   ('amp', 0.001030495),\n",
            "   ('health', 0.00094260153)]),\n",
            " (2,\n",
            "  [('vaccine', 0.0016380927),\n",
            "   ('covid19', 0.0012531837),\n",
            "   ('http', 0.0011097183),\n",
            "   ('co', 0.0009871629),\n",
            "   ('africa', 0.00070974627),\n",
            "   ('amp', 0.0004854707),\n",
            "   ('world', 0.0004327206),\n",
            "   ('need', 0.00041754084),\n",
            "   ('dos', 0.00041509373),\n",
            "   ('ha', 0.00039204842)]),\n",
            " (3,\n",
            "  [('vaccine', 0.010832202),\n",
            "   ('http', 0.01029136),\n",
            "   ('co', 0.0098110745),\n",
            "   ('covid19', 0.008276451),\n",
            "   ('africa', 0.0052778944),\n",
            "   ('amp', 0.0026802411),\n",
            "   ('covid', 0.0026252219),\n",
            "   ('dos', 0.0025565508),\n",
            "   ('world', 0.0022975644),\n",
            "   ('health', 0.0021383064)]),\n",
            " (4,\n",
            "  [('http', 0.0021799318),\n",
            "   ('vaccine', 0.0021756333),\n",
            "   ('co', 0.001779278),\n",
            "   ('covid19', 0.001765575),\n",
            "   ('africa', 0.0010089657),\n",
            "   ('amp', 0.0007832655),\n",
            "   ('world', 0.0007597703),\n",
            "   ('need', 0.0006669046),\n",
            "   ('dos', 0.00062015635),\n",
            "   ('case', 0.0005970854)]),\n",
            " (5,\n",
            "  [('co', 0.0040918756),\n",
            "   ('covid19', 0.0038287058),\n",
            "   ('http', 0.0037646915),\n",
            "   ('vaccine', 0.003256666),\n",
            "   ('africa', 0.0020488678),\n",
            "   ('amp', 0.0011239151),\n",
            "   ('need', 0.00101717),\n",
            "   ('case', 0.0010097672),\n",
            "   ('world', 0.0010077485),\n",
            "   ('covid', 0.00095965253)]),\n",
            " (6,\n",
            "  [('vaccine', 0.04184865),\n",
            "   ('co', 0.035107423),\n",
            "   ('http', 0.03509431),\n",
            "   ('covid19', 0.027518636),\n",
            "   ('africa', 0.014240282),\n",
            "   ('amp', 0.008707261),\n",
            "   ('world', 0.007682368),\n",
            "   ('dos', 0.0074614924),\n",
            "   ('need', 0.0068664644),\n",
            "   ('covid', 0.0068305046)])]\n"
          ],
          "name": "stdout"
        }
      ]
    },
    {
      "cell_type": "markdown",
      "metadata": {
        "id": "QTLYc7rEbA_p"
      },
      "source": [
        "Visualization"
      ]
    },
    {
      "cell_type": "code",
      "metadata": {
        "colab": {
          "base_uri": "https://localhost:8080/",
          "height": 881
        },
        "id": "fqrGC0tFE-vq",
        "outputId": "d7a44bf5-0468-48bf-f1f1-a90bb16420ed"
      },
      "source": [
        "#Visualizing\n",
        "pyLDAvis.enable_notebook()\n",
        "LDAvis_prepared = gensimvis.prepare(model, myCorpus, word_id)\n",
        "LDAvis_prepared"
      ],
      "execution_count": 36,
      "outputs": [
        {
          "output_type": "execute_result",
          "data": {
            "text/html": [
              "\n",
              "<link rel=\"stylesheet\" type=\"text/css\" href=\"https://cdn.jsdelivr.net/gh/bmabey/pyLDAvis@3.3.1/pyLDAvis/js/ldavis.v1.0.0.css\">\n",
              "\n",
              "\n",
              "<div id=\"ldavis_el10271405992346583845531551980\"></div>\n",
              "<script type=\"text/javascript\">\n",
              "\n",
              "var ldavis_el10271405992346583845531551980_data = {\"mdsDat\": {\"x\": [-0.20713879668041218, -0.023610443297193036, 0.0030263534611075413, 0.037549799779187494, 0.0384118793963565, 0.06659930288264591, 0.08516190445830776], \"y\": [1.5660808340609477e-06, -0.00014655715792734065, 0.00036866006498985067, 0.00015957471521110643, -0.00047134407277340097, -1.9331276055908088e-05, 0.00010743164573042441], \"topics\": [1, 2, 3, 4, 5, 6, 7], \"cluster\": [1, 1, 1, 1, 1, 1, 1], \"Freq\": [99.99847122376077, 0.0002721969543277934, 0.0002661861040179331, 0.000256902391643835, 0.00025657019871363736, 0.0002442447950844267, 0.00023267579543939716]}, \"tinfo\": {\"Term\": [\"vaccine\", \"http\", \"co\", \"covid19\", \"africa\", \"amp\", \"world\", \"dos\", \"covid\", \"need\", \"health\", \"ha\", \"case\", \"wave\", \"one\", \"people\", \"third\", \"ontario\", \"today\", \"india\", \"1\", \"day\", \"vaccinated\", \"full\", \"million\", \"vaccination\", \"19\", \"2\", \"administered\", \"midst\", \"co\", \"vaccine\", \"http\", \"covid19\", \"ha\", \"case\", \"need\", \"amp\", \"health\", \"way\", \"dos\", \"today\", \"one\", \"vaccinated\", \"third\", \"dr\", \"1\", \"day\", \"africa\", \"full\", \"people\", \"covid\", \"world\", \"vaccination\", \"wave\", \"head\", \"variant\", \"new\", \"blown\", \"midst\", \"ontario\", \"india\", \"million\", \"19\", \"administered\", \"216\", \"iwd2021\", \"dgvcaxmwfi\", \"lining\", \"spainmfa\", \"vairavanathan\", \"q2llvj3mfk\", \"drlimengyan1\", \"vote\", \"philanthropy\", \"ineffective\", \"coastguardph\", \"depth\", \"chemoprophylaxis\", \"establish\", \"clock\", \"filtration\", \"five\", \"touch\", \"buck\", \"commissioner\", \"livelihood\", \"20th\", \"hongkong\", \"sntuwpx8em\", \"microfinance\", \"michaelshermer\", \"solid\", \"toddctv\", \"debate\", \"http\", \"vaccine\", \"co\", \"covid19\", \"africa\", \"covid\", \"dos\", \"amp\", \"world\", \"health\", \"ontario\", \"2\", \"19\", \"one\", \"need\", \"people\", \"india\", \"million\", \"get\", \"full\", \"risk\", \"coronavirus\", \"wave\", \"1\", \"vaccinated\", \"ha\", \"third\", \"case\", \"today\", \"midst\", \"day\", \"greeting\", \"216\", \"6c2yityrw3\", \"34\", \"172\", \"sahi\", \"advance\", \"stpbhi25be\", \"b5kzlqtesy\", \"nihdirector\", \"zelenskyyua\", \"thromboembolic\", \"sonangol\", \"ineffective\", \"8afthzo23o\", \"fekhwpfs1u\", \"redefiningtrade\", \"porque\", \"commended\", \"filtration\", \"gbnews\", \"leonaalleslev\", \"hongkong\", \"3dwfoywjir\", \"faring\", \"janephilpott\", \"ykbo781dn3\", \"uninterrupted\", \"offspring\", \"tax\", \"universally\", \"vaccine\", \"http\", \"covid19\", \"co\", \"africa\", \"world\", \"amp\", \"wave\", \"need\", \"dos\", \"ha\", \"india\", \"health\", \"one\", \"million\", \"case\", \"day\", \"2\", \"ontario\", \"coronavirus\", \"third\", \"people\", \"patient\", \"blown\", \"palestinian\", \"today\", \"covid\", \"death\", \"dr\", \"vaccination\", \"full\", \"vq0jc7adzo\", \"governing\", \"feat\", \"ineffective\", \"jankaari\", \"iwd2021\", \"gozaimasu\", \"4secnbcgut\", \"monicagandhi9\", \"diverse\", \"chinaglobalthreat\", \"careless\", \"employer\", \"pretending\", \"6l2wqj4ebk\", \"365\", \"172\", \"se1qydppge\", \"whoindonesia\", \"ohiostudentlife\", \"chhattisgarh\", \"216\", \"c1blnxin55\", \"drlimengyan1\", \"zi4xn9ff47\", \"stpbhi25be\", \"massive\", \"valuechcs\", \"0yec9c1o1m\", \"commended\", \"overshadowed\", \"tampa\", \"tulikuki\", \"reporter\", \"amyremeikis\", \"punjab\", \"portfolio\", \"bd\", \"compensate\", \"http\", \"vaccine\", \"co\", \"covid19\", \"africa\", \"covid\", \"world\", \"dos\", \"amp\", \"health\", \"ha\", \"need\", \"1\", \"million\", \"case\", \"administered\", \"palestinian\", \"third\", \"people\", \"19\", \"today\", \"one\", \"wave\", \"call\", \"head\", \"way\", \"restriction\", \"system\", \"full\", \"could\", \"day\", \"midst\", \"vaccinated\", \"stpbhi25be\", \"216\", \"stampede2021\", \"mgthquc9pa\", \"vairavanathan\", \"till\", \"conservative\", \"appreciated\", \"existance\", \"vucjqq2rzz\", \"drlimengyan1\", \"thromboembolic\", \"spark\", \"qycgg0ujtb\", \"365\", \"powerplay\", \"iwd2021\", \"dal\", \"menstruation\", \"suppression\", \"mnhifd6uk1\", \"religion\", \"address\", \"314\", \"typical\", \"rid\", \"rzrkeodwhh\", \"domsitzr\", \"unworthy\", \"buck\", \"dfaphl\", \"qrf8suf8zz\", \"xpm4r1z8tl\", \"nato\", \"emergence\", \"designated\", \"0vexmme0cd\", \"earlyvaccinationforall\", \"covid19\", \"co\", \"http\", \"vaccine\", \"africa\", \"case\", \"amp\", \"wave\", \"need\", \"world\", \"covid\", \"third\", \"people\", \"ha\", \"health\", \"today\", \"dos\", \"vaccinated\", \"ontario\", \"india\", \"day\", \"patient\", \"vaccination\", \"public\", \"one\", \"system\", \"midst\", \"1\", \"expert\", \"far\", \"palestinian\", \"dr\", \"216\", \"iwd2021\", \"stpbhi25be\", \"clock\", \"ttdzwrzinb\", \"monicagandhi9\", \"ineffective\", \"q2llvj3mfk\", \"172\", \"vairavanathan\", \"colorado\", \"dg\", \"drlimengyan1\", \"livelihood\", \"geography\", \"murdering\", \"reminds\", \"gozaimasu\", \"jrs7gzqpvs\", \"heavy\", \"collected\", \"vote\", \"massive\", \"coastguardph\", \"c1blnxin55\", \"vq0jc7adzo\", \"do0z0hr1qw\", \"7pnwdpwsfc\", \"lnp8y2pnbf\", \"dgvcaxmwfi\", \"sporting\", \"destroyed\", \"ykhpxdw3vd\", \"creative\", \"dock\", \"yale\", \"extra\", \"religion\", \"israhell\", \"b4\", \"hhsgov\", \"presence\", \"erosion\", \"maureenferran\", \"http\", \"vaccine\", \"covid19\", \"co\", \"africa\", \"amp\", \"world\", \"need\", \"case\", \"dos\", \"people\", \"health\", \"covid\", \"one\", \"wave\", \"vaccination\", \"system\", \"19\", \"1\", \"third\", \"ontario\", \"ha\", \"today\", \"full\", \"day\", \"patient\", \"administered\", \"midst\", \"india\", \"get\", \"vaccinated\", \"216\", \"iwd2021\", \"stpbhi25be\", \"dgvcaxmwfi\", \"drlimengyan1\", \"thromboembolic\", \"greeting\", \"ineffective\", \"registration\", \"vote\", \"chemoprophylaxis\", \"ttdzwrzinb\", \"q2llvj3mfk\", \"zelenskyyua\", \"do0z0hr1qw\", \"gozaimasu\", \"feat\", \"nihdirector\", \"commended\", \"advance\", \"drpetermoloney\", \"hongkong\", \"gttcpwttcq\", \"suppression\", \"governing\", \"c1blnxin55\", \"clock\", \"writer\", \"monicagandhi9\", \"evaunicef\", \"offspring\", \"vanuatu\", \"existance\", \"6l2wqj4ebk\", \"lnp8y2pnbf\", \"4uwpt4qxat\", \"homogeneous\", \"mgthquc9pa\", \"stakeholder\", \"hate\", \"reporter\", \"vaccine\", \"authentic\", \"hxtxc5wau3\", \"earth\", \"covid19\", \"http\", \"co\", \"africa\", \"amp\", \"ekivkla3xp\", \"world\", \"need\", \"vaccination\", \"dos\", \"third\", \"ha\", \"covid\", \"health\", \"people\", \"day\", \"case\", \"one\", \"india\", \"today\", \"wave\", \"1\", \"ontario\", \"israel\", \"full\", \"19\", \"palestinian\", \"production\", \"system\", \"vaccinated\", \"2\"], \"Freq\": [4236.0, 3552.0, 3553.0, 2785.0, 1441.0, 881.0, 777.0, 755.0, 691.0, 695.0, 682.0, 629.0, 585.0, 511.0, 528.0, 514.0, 484.0, 442.0, 471.0, 416.0, 441.0, 436.0, 442.0, 424.0, 378.0, 388.0, 351.0, 330.0, 347.0, 346.0, 3553.940377019685, 4236.357726029969, 3552.6129398470994, 2785.7240132254788, 629.8907637970996, 585.080849931652, 695.0953167905595, 881.4399665847645, 682.1306018397996, 359.90913423035863, 755.330276869152, 471.8478664593698, 528.2909570009315, 442.05204009717363, 484.6424092441839, 341.92879502953843, 441.9745434099673, 436.02247728661155, 1441.5501959931066, 424.0606939155367, 514.2401570907833, 691.4550937515475, 777.6896267186203, 388.3316806411929, 511.09852435626124, 328.82426549589894, 285.2310354778598, 303.03507442919596, 318.8575268597941, 346.5439961594805, 442.4251932455468, 416.7065222786374, 378.0228535263433, 351.19245392739344, 347.4510703708967, 3.87682597095609e-05, 3.873116918461281e-05, 3.875247718997218e-05, 3.867863697192686e-05, 3.866339978329953e-05, 3.855818699582784e-05, 3.850866613278903e-05, 3.849566239523155e-05, 3.8476619919233875e-05, 3.845870018345084e-05, 3.840502919140432e-05, 3.843253632666313e-05, 3.8430451237693074e-05, 3.8414436150488455e-05, 3.8415759380027146e-05, 3.840029363357041e-05, 3.838977997341755e-05, 3.839289156772671e-05, 3.83910069680807e-05, 3.838101057038388e-05, 3.837745388977534e-05, 3.8374907675359986e-05, 3.837724538087834e-05, 3.8356707254523295e-05, 3.837189231592637e-05, 3.8366330742077394e-05, 3.837237349030407e-05, 3.8373107281230076e-05, 3.83563503835265e-05, 3.837120263265166e-05, 0.0028357887486274917, 0.0029848178202639655, 0.0027034457779044896, 0.002280579726350233, 0.0014543260753038898, 0.0007233810070431831, 0.0007044586642484728, 0.0007385415927095792, 0.0006330948582554483, 0.000589211241756078, 0.00048005147709894835, 0.0004178883988517734, 0.00040956866931321007, 0.00045944877714241633, 0.0005008919413546503, 0.00043844801766235484, 0.00040332081248846104, 0.00037941526744677786, 0.000355106466198286, 0.0003939324267353067, 0.00030915793797443213, 0.00032243754884179543, 0.0003958262328510782, 0.0003723986222796235, 0.000368899810909579, 0.0004099666967584477, 0.00036421131192980466, 0.00038067341013130917, 0.00035128109781723895, 0.0003135399609539002, 0.0003201441113661939, 4.20654689465235e-05, 4.190004361694618e-05, 4.195080406190264e-05, 4.191986548247379e-05, 4.1892024682227295e-05, 4.189666742976136e-05, 4.1871971463570875e-05, 4.18321708829368e-05, 4.1905482376092926e-05, 4.185031445797068e-05, 4.1852035882098594e-05, 4.1846122652975814e-05, 4.1871312695339687e-05, 4.1802738059464934e-05, 4.18337707486411e-05, 4.1864756382943615e-05, 4.187270473535201e-05, 4.1859948943351754e-05, 4.180371836933277e-05, 4.179504458762217e-05, 4.18558512481042e-05, 4.185174963161719e-05, 4.1790770436598414e-05, 4.184532664136314e-05, 4.186243500917658e-05, 4.181572520459401e-05, 4.184349934376949e-05, 4.181266271656689e-05, 4.179724440296559e-05, 4.183920950778785e-05, 4.183186894749751e-05, 0.0028152454085695463, 0.0018445569448613552, 0.001394088467824662, 0.0015444794829396298, 0.000873652467913167, 0.000568083639495949, 0.0004880909503090623, 0.0003588511322724052, 0.0003832197847617377, 0.00038680059790713165, 0.00035015645819790324, 0.0002894108122020456, 0.00033411413423209315, 0.0003063500334296558, 0.0002737381513236775, 0.00031058660329432044, 0.0002805266010964571, 0.00025300445645435915, 0.0002761312994579927, 0.00024332305736424767, 0.0002766883664222488, 0.00027795903623045677, 0.00022912219450905137, 0.00023200934039196568, 0.00023192241435536506, 0.000259565223378475, 0.0002900086286868879, 0.00022535027583678235, 0.0002331894295683858, 0.00023622564529104245, 0.00023404703601068307, 4.410243699481332e-05, 4.410282301170107e-05, 4.409053480744091e-05, 4.40415560764477e-05, 4.407274397029062e-05, 4.399624450588815e-05, 4.4063214651434114e-05, 4.410955181588172e-05, 4.404499995260315e-05, 4.410917336795255e-05, 4.40861183201075e-05, 4.408316642625997e-05, 4.40832421158458e-05, 4.407799304306821e-05, 4.406511824451784e-05, 4.406430458147012e-05, 4.4052099635754384e-05, 4.406099694656918e-05, 4.404457609092248e-05, 4.408459695943223e-05, 4.406689694978494e-05, 4.3932214900751835e-05, 4.4021941120278806e-05, 4.399657375558653e-05, 4.403821438123313e-05, 4.3988172211558944e-05, 4.402895376040633e-05, 4.4068634025779834e-05, 4.4101922305629646e-05, 4.401579512590908e-05, 4.407452267555772e-05, 4.4064463529600374e-05, 4.408352216731339e-05, 4.406796038846591e-05, 4.408133473828279e-05, 4.408738990514951e-05, 4.408745424129747e-05, 4.4074299391279514e-05, 4.406867187057275e-05, 0.001074865023052577, 0.001130890696693615, 0.0008800007310827687, 0.0007433723697636901, 0.000433972295546389, 0.0003142281917943178, 0.0002857777177885063, 0.00028277971384528826, 0.0002679982038002538, 0.00024513996401628803, 0.00024008791123062272, 0.00023672646103414674, 0.00018886057888353424, 0.0001766282183998047, 0.0001926439682452007, 0.00016811389688933245, 0.00015993042969645804, 0.00017083573980967637, 0.00017274830967828263, 0.0001570396173446982, 0.0001669857587503931, 0.0001692943970837518, 0.0001657194568414723, 0.00014168032327724087, 0.0001488899379829401, 0.0001508127562214683, 0.00013198197443764948, 0.0001405220152693881, 0.00014870405949804884, 0.00013343021897299816, 0.00014847287322707731, 0.00014097288299428436, 0.0001423897769031806, 4.417565773262141e-05, 4.406005910420752e-05, 4.4197061526399654e-05, 4.4180469145208325e-05, 4.409808173627696e-05, 4.4149495440455934e-05, 4.413726848073977e-05, 4.415085609130534e-05, 4.4129478754626936e-05, 4.412733194995343e-05, 4.405364136770117e-05, 4.408920726907029e-05, 4.412679902837075e-05, 4.411160887347144e-05, 4.410422356302773e-05, 4.4120362393935936e-05, 4.401480612470779e-05, 4.410164966517095e-05, 4.4085197128650245e-05, 4.407204417043935e-05, 4.410463175828256e-05, 4.414161500428647e-05, 4.408751401467993e-05, 4.410698266058347e-05, 4.409015216549349e-05, 4.415089766674796e-05, 4.408887088594364e-05, 4.4112277860139066e-05, 4.413025734927965e-05, 4.406227772100919e-05, 4.4107870863221274e-05, 4.4142522104852745e-05, 4.411232321516738e-05, 4.41086948129023e-05, 4.4120445544821175e-05, 4.4118276062633514e-05, 4.412517380652285e-05, 4.410665761621389e-05, 0.0009944341526945766, 0.0010627875668717136, 0.0009778076645219507, 0.0008458576110638192, 0.0005321547803375853, 0.00026226799110406113, 0.0002919157567220482, 0.00024825829152666496, 0.0002641907419376956, 0.00026174368697675775, 0.00024925165735678595, 0.00020673225565018635, 0.00020965129015409667, 0.00021942160988000714, 0.00022045059452569698, 0.0001947203241232551, 0.00021786584169879947, 0.0001915237622010948, 0.00018726572631462952, 0.00018294815439433146, 0.00017401265443790095, 0.00014860856228074656, 0.0001589594868424402, 0.00014447493523694506, 0.00016024447038627386, 0.00014186112495524143, 0.0001451786638562564, 0.00015214224812836065, 0.00013416198795229256, 0.00013724384700784814, 0.00013833322943290868, 0.0001386202058153906, 4.402222949380473e-05, 4.404658807407635e-05, 4.404274179308516e-05, 4.406348076748481e-05, 4.407094305633021e-05, 4.4058788952318756e-05, 4.402629525387961e-05, 4.402888222865292e-05, 4.405954813406725e-05, 4.402590666796095e-05, 4.4088235129710626e-05, 4.407011911026194e-05, 4.4010611494440316e-05, 4.403965829186023e-05, 4.407445831968698e-05, 4.406613610459566e-05, 4.404672479875144e-05, 4.403724761995743e-05, 4.4065096277461466e-05, 4.405426984200544e-05, 4.409390920372663e-05, 4.4015393260050505e-05, 4.403303793917193e-05, 4.403409575639495e-05, 4.401902006195801e-05, 4.401197154515563e-05, 4.4013641025398764e-05, 4.4062527292776987e-05, 4.405593572423081e-05, 4.398184174438834e-05, 4.402286994096697e-05, 4.405656177932198e-05, 4.406289429058905e-05, 4.406072468587653e-05, 4.4045022936348414e-05, 4.407291477006564e-05, 4.406712915749891e-05, 4.407346526678374e-05, 4.406113485990178e-05, 4.405945458560535e-05, 4.407493325803202e-05, 4.408262222199663e-05, 4.405883572654971e-05, 4.406214590289385e-05, 0.0005389966473690045, 0.0005379338217052533, 0.00043654530787875275, 0.0004399334316797715, 0.0002494706917891387, 0.0001936654506401661, 0.00018785616311653886, 0.0001648947651035687, 0.00014763169174634142, 0.00015333607546400124, 0.0001412163109341004, 0.0001465407439757361, 0.00014372281963810366, 0.0001265302530370068, 0.00012523816168124566, 0.00011561225522488501, 0.00010952342330899436, 0.00010720141375996426, 0.00011082865462563467, 0.00011121773707074732, 0.00010932847551043054, 0.00011495767504886496, 0.00010870000974735162, 0.00010671162279759861, 0.00010651938070839436, 9.923900764121388e-05, 0.00010221661200727386, 0.00010130391723280099, 0.00010281522861497119, 9.860200737999547e-05, 0.0001025259839668123, 4.2999244797773896e-05, 4.3020461595799234e-05, 4.303709913014738e-05, 4.3025147114846186e-05, 4.301593374601063e-05, 4.304730992842161e-05, 4.301794574285084e-05, 4.300774179976175e-05, 4.304454728880797e-05, 4.302046845098438e-05, 4.3023635546521604e-05, 4.303195774128825e-05, 4.3009140257531434e-05, 4.303789775921683e-05, 4.301770238377817e-05, 4.303362697887118e-05, 4.3039721238465536e-05, 4.302738876038877e-05, 4.301728764507687e-05, 4.302213083338217e-05, 4.303618739052303e-05, 4.3014192528983674e-05, 4.3035265368120955e-05, 4.3019834346358424e-05, 4.3044029722329486e-05, 4.301259527084477e-05, 4.300498944292583e-05, 4.301626622249019e-05, 4.3008941457162214e-05, 4.304727222490331e-05, 4.3029969737596055e-05, 4.304327222437091e-05, 4.3037311640886885e-05, 4.303140589888404e-05, 4.304029707401776e-05, 4.304974009155569e-05, 4.304707685212666e-05, 4.3042350201968836e-05, 4.304023537735145e-05, 4.304943503581672e-05, 4.303644103237341e-05, 0.00038584022959034254, 4.3045921753429645e-05, 4.30371334060731e-05, 4.303744531699723e-05, 0.0002951778559121611, 0.0002613856868899827, 0.00023251869418744407, 0.000167175316167153, 0.00011434891667663205, 4.3040893475125416e-05, 0.00010192403755929179, 9.834855807739516e-05, 9.073475757813282e-05, 9.777216039999079e-05, 8.962096822680201e-05, 9.23440122910402e-05, 9.14070250197971e-05, 9.08456127771208e-05, 8.764308964306538e-05, 8.403559644653924e-05, 8.577517508424781e-05, 8.393379009194335e-05, 8.070501159878066e-05, 7.952923080817902e-05, 7.968423339950405e-05, 7.824722206856265e-05, 7.768047649184315e-05, 7.38260115400799e-05, 7.566241966796872e-05, 7.418520953133408e-05, 7.311425823197751e-05, 6.943997496657873e-05, 7.147612262405214e-05, 7.379318891360322e-05, 7.159471732706937e-05], \"Total\": [4236.0, 3552.0, 3553.0, 2785.0, 1441.0, 881.0, 777.0, 755.0, 691.0, 695.0, 682.0, 629.0, 585.0, 511.0, 528.0, 514.0, 484.0, 442.0, 471.0, 416.0, 441.0, 436.0, 442.0, 424.0, 378.0, 388.0, 351.0, 330.0, 347.0, 346.0, 3553.94724018537, 4236.366426615557, 3552.6204732478145, 2785.7301574233593, 629.8921907314631, 585.0822295104916, 695.0969650628118, 881.4420611456353, 682.132228142091, 359.9100004628594, 755.3321198822056, 471.8490272410145, 528.2922628026527, 442.0531399177127, 484.64362855056305, 341.92966119572645, 441.9756662600732, 436.0235909978288, 1441.5539067447335, 424.0617871083903, 514.2414847568375, 691.4569057508769, 777.6916651987235, 388.33271076302333, 511.09989793376985, 328.8251549644476, 285.2318102465627, 303.03590184880704, 318.85840335480424, 346.5449629402343, 442.4264621880739, 416.70771915795285, 378.0239614914524, 351.1935113081541, 347.4520655364694, 1.131766717901016, 1.1325754986605072, 1.1332716040558852, 1.1338603991843947, 1.1343329418547576, 1.1336812160995413, 1.1336808498147728, 1.1334336308272834, 1.1339139042072104, 1.134499200494951, 1.133443209827084, 1.134442225067918, 1.1344071588103144, 1.1340432255948598, 1.134359296737314, 1.1339050795679493, 1.1338748826076128, 1.1345996189575005, 1.1346238257500916, 1.134369707290938, 1.1343628934794219, 1.1343545233106074, 1.1345123657414549, 1.1340635710425766, 1.13452460654684, 1.1343822205346321, 1.1346300010135977, 1.1348055230155916, 1.1344218933288335, 1.1348856862966545, 3552.6204732478145, 4236.366426615557, 3553.94724018537, 2785.7301574233593, 1441.5539067447335, 691.4569057508769, 755.3321198822056, 881.4420611456353, 777.6916651987235, 682.132228142091, 442.4264621880739, 330.0468799150716, 351.1935113081541, 528.2922628026527, 695.0969650628118, 514.2414847568375, 416.70771915795285, 378.0239614914524, 319.6326049584671, 424.0617871083903, 255.8781048640588, 295.615475238957, 511.09989793376985, 441.9756662600732, 442.0531399177127, 629.8921907314631, 484.64362855056305, 585.0822295104916, 471.8490272410145, 346.5449629402343, 436.0235909978288, 1.1336367865682133, 1.131766717901016, 1.1356236431927589, 1.1352599702882775, 1.1345178450010847, 1.1348234994336375, 1.134217038445823, 1.133340061769444, 1.1356311777429469, 1.1343315259622522, 1.1344643542940636, 1.1343543779357907, 1.1352863025912945, 1.133443209827084, 1.134672095894486, 1.135529479975357, 1.1357515042183386, 1.135456675876744, 1.1340849398403232, 1.1338748826076128, 1.135546409304562, 1.1356063471340505, 1.1340635710425766, 1.1355546992889762, 1.1360194360859674, 1.134849012666208, 1.1357741441482323, 1.1349423142447463, 1.1346614219448583, 1.135870684239485, 1.135834784578628, 4236.366426615557, 3552.6204732478145, 2785.7301574233593, 3553.94724018537, 1441.5539067447335, 777.6916651987235, 881.4420611456353, 511.09989793376985, 695.0969650628118, 755.3321198822056, 629.8921907314631, 416.70771915795285, 682.132228142091, 528.2922628026527, 378.0239614914524, 585.0822295104916, 436.0235909978288, 330.0468799150716, 442.4264621880739, 295.615475238957, 484.64362855056305, 514.2414847568375, 279.69710514703223, 318.85840335480424, 322.65493684797457, 471.8490272410145, 691.4569057508769, 300.87608564187315, 341.92966119572645, 388.33271076302333, 424.0617871083903, 1.1339090504497238, 1.1349090321601345, 1.134609046765429, 1.133443209827084, 1.134528131724215, 1.1325754986605072, 1.1344085703195839, 1.1356044995187038, 1.134036169017304, 1.1357149520798364, 1.1351291869518736, 1.1350956705506032, 1.1351428967116148, 1.135009986182405, 1.1347980121594834, 1.134813576587565, 1.1345178450010847, 1.1349171984677153, 1.1345556476598706, 1.1356021025306693, 1.1352061289856004, 1.131766717901016, 1.1340834640923831, 1.1334336308272834, 1.1345248057229447, 1.133340061769444, 1.1343968881557616, 1.1354241008387715, 1.1362935347882956, 1.1340849398403232, 1.1356019207259849, 1.1353473205593911, 1.135885129981072, 1.1354703010831015, 1.135848970377657, 1.136123235937403, 1.1363266818563453, 1.1359465360635825, 1.1358211774215468, 3552.6204732478145, 4236.366426615557, 3553.94724018537, 2785.7301574233593, 1441.5539067447335, 691.4569057508769, 777.6916651987235, 755.3321198822056, 881.4420611456353, 682.132228142091, 629.8921907314631, 695.0969650628118, 441.9756662600732, 378.0239614914524, 585.0822295104916, 347.4520655364694, 322.65493684797457, 484.64362855056305, 514.2414847568375, 351.1935113081541, 471.8490272410145, 528.2922628026527, 511.09989793376985, 248.4171645130623, 328.8251549644476, 359.9100004628594, 206.35528411573048, 308.5848025670268, 424.0617871083903, 252.2937016335272, 436.0235909978288, 346.5449629402343, 442.0531399177127, 1.133340061769444, 1.131766717901016, 1.1357218655930188, 1.1355605172734937, 1.1336812160995413, 1.1350238045756627, 1.134843673684635, 1.135270935010607, 1.1349242116942857, 1.135000128756151, 1.1334336308272834, 1.1343543779357907, 1.1353579089523658, 1.1349749907806366, 1.134813576587565, 1.1352903635703657, 1.1325754986605072, 1.1348536810638863, 1.134577011856419, 1.1342427921474574, 1.1350827852080465, 1.1360528610208858, 1.1346829427431395, 1.135185878385985, 1.1347994720675307, 1.136374166882051, 1.1348254333138426, 1.1355459360620355, 1.1360349656239561, 1.134369707290938, 1.135544762333324, 1.136482872122745, 1.1356806325036493, 1.1355895807532321, 1.1361324780465198, 1.1361023644788104, 1.1365991121967696, 1.135785344376727, 2785.7301574233593, 3553.94724018537, 3552.6204732478145, 4236.366426615557, 1441.5539067447335, 585.0822295104916, 881.4420611456353, 511.09989793376985, 695.0969650628118, 777.6916651987235, 691.4569057508769, 484.64362855056305, 514.2414847568375, 629.8921907314631, 682.132228142091, 471.8490272410145, 755.3321198822056, 442.0531399177127, 442.4264621880739, 416.70771915795285, 436.0235909978288, 279.69710514703223, 388.33271076302333, 291.06204752025576, 528.2922628026527, 308.5848025670268, 346.5449629402343, 441.9756662600732, 238.14369367405456, 286.1590375046774, 322.65493684797457, 341.92966119572645, 1.131766717901016, 1.1325754986605072, 1.133340061769444, 1.1339050795679493, 1.1342780443875324, 1.134036169017304, 1.133443209827084, 1.1336808498147728, 1.1345178450010847, 1.1336812160995413, 1.135322751835499, 1.1349353306287213, 1.1334336308272834, 1.1343545233106074, 1.1352833429087508, 1.135104875057544, 1.1346069073210434, 1.1344085703195839, 1.1351337857271069, 1.1348896741540584, 1.1359291482595475, 1.1339139042072104, 1.1343968881557616, 1.134442225067918, 1.1340834640923831, 1.1339090504497238, 1.1339648215260023, 1.1352363990161713, 1.1351627658763175, 1.1332716040558852, 1.1343386945039993, 1.1352447831096455, 1.1354507814791512, 1.1354331819419563, 1.1349405788247287, 1.1359346553683953, 1.1357663051471678, 1.1360528610208858, 1.135555175719977, 1.1356267467887182, 1.13642600018739, 1.1372772924642207, 1.1358579801373416, 1.1361543597640353, 3552.6204732478145, 4236.366426615557, 2785.7301574233593, 3553.94724018537, 1441.5539067447335, 881.4420611456353, 777.6916651987235, 695.0969650628118, 585.0822295104916, 755.3321198822056, 514.2414847568375, 682.132228142091, 691.4569057508769, 528.2922628026527, 511.09989793376985, 388.33271076302333, 308.5848025670268, 351.1935113081541, 441.9756662600732, 484.64362855056305, 442.4264621880739, 629.8921907314631, 471.8490272410145, 424.0617871083903, 436.0235909978288, 279.69710514703223, 347.4520655364694, 346.5449629402343, 416.70771915795285, 319.6326049584671, 442.0531399177127, 1.131766717901016, 1.1325754986605072, 1.133340061769444, 1.1332716040558852, 1.1334336308272834, 1.1343543779357907, 1.1336367865682133, 1.133443209827084, 1.1344939912028382, 1.1339139042072104, 1.1340432255948598, 1.1342780443875324, 1.1336808498147728, 1.1344643542940636, 1.1339648215260023, 1.1344085703195839, 1.134609046765429, 1.1343315259622522, 1.1340849398403232, 1.134217038445823, 1.1345963504390546, 1.1340635710425766, 1.134621364229945, 1.1342427921474574, 1.1349090321601345, 1.1340834640923831, 1.1339050795679493, 1.1342189574562562, 1.134036169017304, 1.1350769658459747, 1.1346614219448583, 1.1350636371624878, 1.1349242116942857, 1.1347980121594834, 1.1351627658763175, 1.1356697321184832, 1.1357778899055562, 1.1355605172734937, 1.1356117382420492, 1.1362548614262158, 1.1354703010831015, 4236.366426615557, 1.1364159321898615, 1.1355909700730298, 1.135645086918418, 2785.7301574233593, 3552.6204732478145, 3553.94724018537, 1441.5539067447335, 881.4420611456353, 1.1362856330186333, 777.6916651987235, 695.0969650628118, 388.33271076302333, 755.3321198822056, 484.64362855056305, 629.8921907314631, 691.4569057508769, 682.132228142091, 514.2414847568375, 436.0235909978288, 585.0822295104916, 528.2922628026527, 416.70771915795285, 471.8490272410145, 511.09989793376985, 441.9756662600732, 442.4264621880739, 258.0889912987423, 424.0617871083903, 351.1935113081541, 322.65493684797457, 220.52379265597864, 308.5848025670268, 442.0531399177127, 330.0468799150716], \"Category\": [\"Default\", \"Default\", \"Default\", \"Default\", \"Default\", \"Default\", \"Default\", \"Default\", \"Default\", \"Default\", \"Default\", \"Default\", \"Default\", \"Default\", \"Default\", \"Default\", \"Default\", \"Default\", \"Default\", \"Default\", \"Default\", \"Default\", \"Default\", \"Default\", \"Default\", \"Default\", \"Default\", \"Default\", \"Default\", \"Default\", \"Topic1\", \"Topic1\", \"Topic1\", \"Topic1\", \"Topic1\", \"Topic1\", \"Topic1\", \"Topic1\", \"Topic1\", \"Topic1\", \"Topic1\", \"Topic1\", \"Topic1\", \"Topic1\", \"Topic1\", \"Topic1\", \"Topic1\", \"Topic1\", \"Topic1\", \"Topic1\", \"Topic1\", \"Topic1\", \"Topic1\", \"Topic1\", \"Topic1\", \"Topic1\", \"Topic1\", \"Topic1\", \"Topic1\", \"Topic1\", \"Topic1\", \"Topic1\", \"Topic1\", \"Topic1\", \"Topic1\", \"Topic2\", \"Topic2\", \"Topic2\", \"Topic2\", \"Topic2\", \"Topic2\", \"Topic2\", \"Topic2\", \"Topic2\", \"Topic2\", \"Topic2\", \"Topic2\", \"Topic2\", \"Topic2\", \"Topic2\", \"Topic2\", \"Topic2\", \"Topic2\", \"Topic2\", \"Topic2\", \"Topic2\", \"Topic2\", \"Topic2\", \"Topic2\", \"Topic2\", \"Topic2\", \"Topic2\", \"Topic2\", \"Topic2\", \"Topic2\", \"Topic2\", \"Topic2\", \"Topic2\", \"Topic2\", \"Topic2\", \"Topic2\", \"Topic2\", \"Topic2\", \"Topic2\", \"Topic2\", \"Topic2\", \"Topic2\", \"Topic2\", \"Topic2\", \"Topic2\", \"Topic2\", \"Topic2\", \"Topic2\", \"Topic2\", \"Topic2\", \"Topic2\", \"Topic2\", \"Topic2\", \"Topic2\", \"Topic2\", \"Topic2\", \"Topic2\", \"Topic2\", \"Topic2\", \"Topic2\", \"Topic2\", \"Topic3\", \"Topic3\", \"Topic3\", \"Topic3\", \"Topic3\", \"Topic3\", \"Topic3\", \"Topic3\", \"Topic3\", \"Topic3\", \"Topic3\", \"Topic3\", \"Topic3\", \"Topic3\", \"Topic3\", \"Topic3\", \"Topic3\", \"Topic3\", \"Topic3\", \"Topic3\", \"Topic3\", \"Topic3\", \"Topic3\", \"Topic3\", \"Topic3\", \"Topic3\", \"Topic3\", \"Topic3\", \"Topic3\", \"Topic3\", \"Topic3\", \"Topic3\", \"Topic3\", \"Topic3\", \"Topic3\", \"Topic3\", \"Topic3\", \"Topic3\", \"Topic3\", \"Topic3\", \"Topic3\", \"Topic3\", \"Topic3\", \"Topic3\", \"Topic3\", \"Topic3\", \"Topic3\", \"Topic3\", \"Topic3\", \"Topic3\", \"Topic3\", \"Topic3\", \"Topic3\", \"Topic3\", \"Topic3\", \"Topic3\", \"Topic3\", \"Topic3\", \"Topic3\", \"Topic3\", \"Topic3\", \"Topic3\", \"Topic4\", \"Topic4\", \"Topic4\", \"Topic4\", \"Topic4\", \"Topic4\", \"Topic4\", \"Topic4\", \"Topic4\", \"Topic4\", \"Topic4\", \"Topic4\", \"Topic4\", \"Topic4\", \"Topic4\", \"Topic4\", \"Topic4\", \"Topic4\", \"Topic4\", \"Topic4\", \"Topic4\", \"Topic4\", \"Topic4\", \"Topic4\", \"Topic4\", \"Topic4\", \"Topic4\", \"Topic4\", \"Topic4\", \"Topic4\", \"Topic4\", \"Topic4\", \"Topic4\", \"Topic4\", \"Topic4\", \"Topic4\", \"Topic4\", \"Topic4\", \"Topic4\", \"Topic4\", \"Topic4\", \"Topic4\", \"Topic4\", \"Topic4\", \"Topic4\", \"Topic4\", \"Topic4\", \"Topic4\", \"Topic4\", \"Topic4\", \"Topic4\", \"Topic4\", \"Topic4\", \"Topic4\", \"Topic4\", \"Topic4\", \"Topic4\", \"Topic4\", \"Topic4\", \"Topic4\", \"Topic4\", \"Topic4\", \"Topic4\", \"Topic4\", \"Topic4\", \"Topic4\", \"Topic4\", \"Topic4\", \"Topic4\", \"Topic4\", \"Topic4\", \"Topic4\", \"Topic5\", \"Topic5\", \"Topic5\", \"Topic5\", \"Topic5\", \"Topic5\", \"Topic5\", \"Topic5\", \"Topic5\", \"Topic5\", \"Topic5\", \"Topic5\", \"Topic5\", \"Topic5\", \"Topic5\", \"Topic5\", \"Topic5\", \"Topic5\", \"Topic5\", \"Topic5\", \"Topic5\", \"Topic5\", \"Topic5\", \"Topic5\", \"Topic5\", \"Topic5\", \"Topic5\", \"Topic5\", \"Topic5\", \"Topic5\", \"Topic5\", \"Topic5\", \"Topic5\", \"Topic5\", \"Topic5\", \"Topic5\", \"Topic5\", \"Topic5\", \"Topic5\", \"Topic5\", \"Topic5\", \"Topic5\", \"Topic5\", \"Topic5\", \"Topic5\", \"Topic5\", \"Topic5\", \"Topic5\", \"Topic5\", \"Topic5\", \"Topic5\", \"Topic5\", \"Topic5\", \"Topic5\", \"Topic5\", \"Topic5\", \"Topic5\", \"Topic5\", \"Topic5\", \"Topic5\", \"Topic5\", \"Topic5\", \"Topic5\", \"Topic5\", \"Topic5\", \"Topic5\", \"Topic5\", \"Topic5\", \"Topic5\", \"Topic5\", \"Topic6\", \"Topic6\", \"Topic6\", \"Topic6\", \"Topic6\", \"Topic6\", \"Topic6\", \"Topic6\", \"Topic6\", \"Topic6\", \"Topic6\", \"Topic6\", \"Topic6\", \"Topic6\", \"Topic6\", \"Topic6\", \"Topic6\", \"Topic6\", \"Topic6\", \"Topic6\", \"Topic6\", \"Topic6\", \"Topic6\", \"Topic6\", \"Topic6\", \"Topic6\", \"Topic6\", \"Topic6\", \"Topic6\", \"Topic6\", \"Topic6\", \"Topic6\", \"Topic6\", \"Topic6\", \"Topic6\", \"Topic6\", \"Topic6\", \"Topic6\", \"Topic6\", \"Topic6\", \"Topic6\", \"Topic6\", \"Topic6\", \"Topic6\", \"Topic6\", \"Topic6\", \"Topic6\", \"Topic6\", \"Topic6\", \"Topic6\", \"Topic6\", \"Topic6\", \"Topic6\", \"Topic6\", \"Topic6\", \"Topic6\", \"Topic6\", \"Topic6\", \"Topic6\", \"Topic6\", \"Topic6\", \"Topic6\", \"Topic6\", \"Topic6\", \"Topic6\", \"Topic6\", \"Topic6\", \"Topic6\", \"Topic6\", \"Topic6\", \"Topic6\", \"Topic6\", \"Topic6\", \"Topic6\", \"Topic6\", \"Topic7\", \"Topic7\", \"Topic7\", \"Topic7\", \"Topic7\", \"Topic7\", \"Topic7\", \"Topic7\", \"Topic7\", \"Topic7\", \"Topic7\", \"Topic7\", \"Topic7\", \"Topic7\", \"Topic7\", \"Topic7\", \"Topic7\", \"Topic7\", \"Topic7\", \"Topic7\", \"Topic7\", \"Topic7\", \"Topic7\", \"Topic7\", \"Topic7\", \"Topic7\", \"Topic7\", \"Topic7\", \"Topic7\", \"Topic7\", \"Topic7\", \"Topic7\", \"Topic7\", \"Topic7\", \"Topic7\", \"Topic7\", \"Topic7\", \"Topic7\", \"Topic7\", \"Topic7\", \"Topic7\", \"Topic7\", \"Topic7\", \"Topic7\", \"Topic7\", \"Topic7\", \"Topic7\", \"Topic7\", \"Topic7\", \"Topic7\", \"Topic7\", \"Topic7\", \"Topic7\", \"Topic7\", \"Topic7\", \"Topic7\", \"Topic7\", \"Topic7\", \"Topic7\", \"Topic7\", \"Topic7\", \"Topic7\", \"Topic7\", \"Topic7\", \"Topic7\", \"Topic7\", \"Topic7\", \"Topic7\", \"Topic7\", \"Topic7\", \"Topic7\", \"Topic7\", \"Topic7\", \"Topic7\", \"Topic7\", \"Topic7\"], \"logprob\": [30.0, 29.0, 28.0, 27.0, 26.0, 25.0, 24.0, 23.0, 22.0, 21.0, 20.0, 19.0, 18.0, 17.0, 16.0, 15.0, 14.0, 13.0, 12.0, 11.0, 10.0, 9.0, 8.0, 7.0, 6.0, 5.0, 4.0, 3.0, 2.0, 1.0, -3.3493, -3.1737, -3.3497, -3.5929, -5.0796, -5.1534, -4.9811, -4.7436, -4.9999, -5.6393, -4.898, -5.3685, -5.2555, -5.4337, -5.3417, -5.6906, -5.4339, -5.4475, -4.2517, -5.4753, -5.2825, -4.9864, -4.8688, -5.5633, -5.2886, -5.7296, -5.8719, -5.8113, -5.7604, -5.6771, -5.4329, -5.4928, -5.5902, -5.6638, -5.6745, -8.8689, -8.8699, -8.8693, -8.8712, -8.8716, -8.8744, -8.8756, -8.876, -8.8765, -8.8769, -8.8783, -8.8776, -8.8777, -8.8781, -8.8781, -8.8785, -8.8787, -8.8787, -8.8787, -8.879, -8.8791, -8.8791, -8.8791, -8.8796, -8.8792, -8.8793, -8.8792, -8.8792, -8.8796, -8.8792, -4.5765, -4.5252, -4.6242, -4.7943, -5.2442, -5.9426, -5.9691, -5.9218, -6.0759, -6.1477, -6.3526, -6.4913, -6.5114, -6.3965, -6.3101, -6.4433, -6.5268, -6.5879, -6.6541, -6.5503, -6.7927, -6.7506, -6.5456, -6.6066, -6.616, -6.5105, -6.6288, -6.5846, -6.6649, -6.7786, -6.7578, -8.765, -8.7689, -8.7677, -8.7684, -8.7691, -8.769, -8.7696, -8.7705, -8.7688, -8.7701, -8.7701, -8.7702, -8.7696, -8.7712, -8.7705, -8.7698, -8.7696, -8.7699, -8.7712, -8.7714, -8.77, -8.7701, -8.7715, -8.7702, -8.7698, -8.7709, -8.7703, -8.771, -8.7714, -8.7704, -8.7705, -4.5614, -4.9842, -5.2642, -5.1618, -5.7315, -6.1619, -6.3137, -6.6213, -6.5556, -6.5463, -6.6458, -6.8363, -6.6927, -6.7795, -6.892, -6.7657, -6.8675, -6.9708, -6.8833, -7.0098, -6.8813, -6.8767, -7.0699, -7.0574, -7.0578, -6.9452, -6.8343, -7.0865, -7.0523, -7.0394, -7.0487, -8.6822, -8.6822, -8.6825, -8.6836, -8.6829, -8.6846, -8.6831, -8.682, -8.6835, -8.682, -8.6826, -8.6826, -8.6826, -8.6827, -8.683, -8.683, -8.6833, -8.6831, -8.6835, -8.6826, -8.683, -8.686, -8.684, -8.6846, -8.6836, -8.6848, -8.6838, -8.6829, -8.6822, -8.6841, -8.6828, -8.683, -8.6826, -8.683, -8.6827, -8.6825, -8.6825, -8.6828, -8.6829, -5.4887, -5.4379, -5.6888, -5.8575, -6.3957, -6.7186, -6.8135, -6.824, -6.8777, -6.9669, -6.9877, -7.0018, -7.2277, -7.2946, -7.2079, -7.3441, -7.394, -7.328, -7.3169, -7.4122, -7.3508, -7.3371, -7.3584, -7.5151, -7.4655, -7.4527, -7.586, -7.5233, -7.4667, -7.5751, -7.4683, -7.5201, -7.5101, -8.6792, -8.6818, -8.6787, -8.6791, -8.681, -8.6798, -8.6801, -8.6798, -8.6803, -8.6803, -8.682, -8.6812, -8.6803, -8.6807, -8.6808, -8.6805, -8.6829, -8.6809, -8.6813, -8.6816, -8.6808, -8.68, -8.6812, -8.6808, -8.6812, -8.6798, -8.6812, -8.6807, -8.6803, -8.6818, -8.6808, -8.68, -8.6807, -8.6807, -8.6805, -8.6805, -8.6804, -8.6808, -5.5652, -5.4988, -5.5821, -5.7271, -6.1905, -6.898, -6.7909, -6.9529, -6.8907, -6.9, -6.9489, -7.136, -7.122, -7.0764, -7.0717, -7.1958, -7.0835, -7.2124, -7.2349, -7.2582, -7.3083, -7.4661, -7.3988, -7.4943, -7.3907, -7.5126, -7.4894, -7.4426, -7.5684, -7.5456, -7.5377, -7.5357, -8.6335, -8.6329, -8.633, -8.6325, -8.6324, -8.6326, -8.6334, -8.6333, -8.6326, -8.6334, -8.632, -8.6324, -8.6337, -8.6331, -8.6323, -8.6325, -8.6329, -8.6331, -8.6325, -8.6327, -8.6318, -8.6336, -8.6332, -8.6332, -8.6335, -8.6337, -8.6337, -8.6326, -8.6327, -8.6344, -8.6335, -8.6327, -8.6326, -8.6326, -8.633, -8.6323, -8.6325, -8.6323, -8.6326, -8.6326, -8.6323, -8.6321, -8.6326, -8.6326, -6.1285, -6.1304, -6.3393, -6.3315, -6.8988, -7.152, -7.1825, -7.3129, -7.4235, -7.3855, -7.4679, -7.4309, -7.4503, -7.5777, -7.588, -7.6679, -7.722, -7.7435, -7.7102, -7.7067, -7.7238, -7.6736, -7.7296, -7.748, -7.7498, -7.8206, -7.7911, -7.8, -7.7852, -7.8271, -7.7881, -8.6085, -8.608, -8.6076, -8.6079, -8.6081, -8.6073, -8.608, -8.6083, -8.6074, -8.608, -8.6079, -8.6077, -8.6082, -8.6076, -8.608, -8.6077, -8.6075, -8.6078, -8.608, -8.6079, -8.6076, -8.6081, -8.6076, -8.608, -8.6074, -8.6082, -8.6083, -8.6081, -8.6082, -8.6073, -8.6077, -8.6074, -8.6076, -8.6077, -8.6075, -8.6073, -8.6074, -8.6075, -8.6075, -8.6073, -8.6076, -6.4142, -8.6074, -8.6076, -8.6076, -6.6821, -6.8036, -6.9207, -7.2506, -7.6304, -8.6075, -7.7454, -7.7811, -7.8617, -7.787, -7.8741, -7.8441, -7.8543, -7.8605, -7.8964, -7.9384, -7.9179, -7.9396, -7.9788, -7.9935, -7.9916, -8.0098, -8.017, -8.0679, -8.0434, -8.0631, -8.0776, -8.1292, -8.1003, -8.0684, -8.0986], \"loglift\": [30.0, 29.0, 28.0, 27.0, 26.0, 25.0, 24.0, 23.0, 22.0, 21.0, 20.0, 19.0, 18.0, 17.0, 16.0, 15.0, 14.0, 13.0, 12.0, 11.0, 10.0, 9.0, 8.0, 7.0, 6.0, 5.0, 4.0, 3.0, 2.0, 1.0, 0.0, 0.0, 0.0, 0.0, 0.0, 0.0, 0.0, 0.0, 0.0, 0.0, 0.0, 0.0, 0.0, 0.0, 0.0, 0.0, 0.0, 0.0, 0.0, 0.0, 0.0, 0.0, 0.0, 0.0, 0.0, 0.0, 0.0, 0.0, 0.0, 0.0, 0.0, 0.0, 0.0, 0.0, 0.0, 2.5325, 2.5308, 2.5307, 2.5283, 2.5275, 2.5253, 2.5241, 2.5239, 2.523, 2.522, 2.5216, 2.5214, 2.5214, 2.5213, 2.521, 2.521, 2.5208, 2.5202, 2.5202, 2.5201, 2.52, 2.52, 2.5199, 2.5198, 2.5198, 2.5197, 2.5197, 2.5195, 2.5194, 2.5194, -1.2267, -1.3515, -1.2749, -1.2014, -0.9925, -0.9562, -1.0711, -1.1782, -1.2071, -1.1478, -0.9197, -0.7654, -0.8476, -1.141, -1.329, -1.1608, -1.034, -0.9977, -0.8961, -1.0751, -0.8122, -0.9145, -1.2569, -1.1726, -1.1823, -1.4308, -1.287, -1.4312, -1.2964, -1.1014, -1.3103, 2.6348, 2.6325, 2.6303, 2.6299, 2.6299, 2.6297, 2.6296, 2.6295, 2.6292, 2.629, 2.629, 2.6289, 2.6287, 2.6287, 2.6283, 2.6283, 2.6283, 2.6283, 2.6281, 2.6281, 2.6281, 2.6279, 2.6278, 2.6278, 2.6278, 2.6277, 2.6276, 2.6276, 2.6275, 2.6274, 2.6273, -1.3877, -1.6345, -1.6713, -1.8124, -1.4798, -1.2931, -1.5701, -1.3327, -1.5745, -1.6483, -1.5662, -1.3436, -1.6928, -1.5239, -1.3018, -1.6123, -1.4201, -1.2449, -1.4504, -1.1737, -1.5395, -1.5942, -1.1785, -1.297, -1.3092, -1.5767, -1.8479, -1.2681, -1.3618, -1.4761, -1.5734, 2.7173, 2.7164, 2.7164, 2.7163, 2.7161, 2.7161, 2.716, 2.716, 2.7159, 2.7159, 2.7159, 2.7158, 2.7158, 2.7158, 2.7157, 2.7157, 2.7156, 2.7155, 2.7154, 2.7154, 2.7154, 2.7153, 2.7153, 2.7153, 2.7153, 2.7152, 2.7152, 2.7152, 2.7152, 2.7152, 2.7152, 2.7152, 2.7151, 2.7152, 2.7151, 2.715, 2.7148, 2.7149, 2.7149, -2.139, -2.2642, -2.3394, -2.2646, -2.144, -1.7322, -1.9446, -1.926, -2.1341, -1.9669, -1.9081, -2.0207, -1.7938, -1.7044, -2.0544, -1.6695, -1.6454, -1.9862, -2.0344, -1.7484, -1.9823, -2.0815, -2.0698, -1.5051, -1.7358, -1.8133, -1.3905, -1.7302, -1.9914, -1.5805, -2.0208, -1.843, -2.0764, 2.7208, 2.7195, 2.7192, 2.7189, 2.7187, 2.7187, 2.7186, 2.7185, 2.7183, 2.7182, 2.7179, 2.7179, 2.7179, 2.7179, 2.7179, 2.7178, 2.7178, 2.7178, 2.7176, 2.7176, 2.7176, 2.7176, 2.7176, 2.7176, 2.7175, 2.7175, 2.7175, 2.7174, 2.7174, 2.7173, 2.7173, 2.7173, 2.7173, 2.7173, 2.7171, 2.717, 2.7168, 2.7171, -1.9723, -2.1494, -2.2324, -2.5533, -1.9388, -1.7446, -2.0473, -1.6643, -1.9096, -2.0312, -1.9626, -1.7942, -1.8395, -1.9968, -2.0718, -1.8273, -2.1855, -1.7787, -1.802, -1.7654, -1.8608, -1.5746, -1.8354, -1.6427, -2.1352, -1.7194, -1.8123, -2.0087, -1.5161, -1.677, -1.7892, -1.8451, 2.7679, 2.7678, 2.767, 2.767, 2.7668, 2.7667, 2.7665, 2.7664, 2.7663, 2.7663, 2.7663, 2.7662, 2.7662, 2.766, 2.766, 2.766, 2.766, 2.7659, 2.7659, 2.7659, 2.7659, 2.7659, 2.7658, 2.7658, 2.7658, 2.7658, 2.7658, 2.7658, 2.7657, 2.7657, 2.7657, 2.7656, 2.7656, 2.7656, 2.7656, 2.7654, 2.7654, 2.7653, 2.7655, 2.7654, 2.765, 2.7644, 2.7651, 2.765, -2.7787, -2.9567, -2.7464, -2.9822, -2.6471, -2.4084, -2.3137, -2.3317, -2.27, -2.4875, -2.1854, -2.4309, -2.4639, -2.3222, -2.2993, -2.1046, -1.9289, -2.0796, -2.2763, -2.3649, -2.2909, -2.594, -2.3611, -2.2727, -2.3024, -1.9292, -2.1165, -2.1229, -2.2925, -2.0691, -2.3543, 2.7929, 2.7927, 2.7924, 2.7922, 2.7918, 2.7918, 2.7917, 2.7916, 2.7916, 2.7915, 2.7915, 2.7915, 2.7915, 2.7914, 2.7914, 2.7914, 2.7914, 2.7913, 2.7913, 2.7913, 2.7913, 2.7912, 2.7912, 2.7912, 2.7912, 2.7912, 2.7912, 2.7912, 2.7911, 2.7911, 2.7911, 2.791, 2.791, 2.791, 2.7909, 2.7907, 2.7905, 2.7906, 2.7905, 2.7901, 2.7905, -3.2405, 2.7899, 2.7904, 2.7904, -3.0892, -3.4539, -3.5713, -2.9989, -2.8868, 2.7899, -2.8766, -2.8, -2.2984, -2.889, -2.5323, -2.7645, -2.868, -2.8605, -2.6139, -2.4909, -2.7645, -2.6841, -2.4861, -2.625, -2.703, -2.5759, -2.5841, -2.0961, -2.5681, -2.3992, -2.329, -2.0, -2.3071, -2.6346, -2.3727]}, \"token.table\": {\"Topic\": [1, 1, 1, 1, 1, 1, 1, 1, 1, 1, 1, 1, 1, 1, 1, 1, 1, 1, 1, 1, 1, 1, 1, 1, 1, 1, 1, 1, 1, 1, 1, 1, 1, 1, 1, 1, 1, 1, 1, 1, 1, 1, 1, 1, 1, 1, 1, 1, 1, 1, 1, 1, 1, 1, 1, 1, 1, 1, 1, 1, 1, 1, 1, 1, 1, 1, 1, 1, 1, 1, 1, 1, 1, 1, 1, 1, 1, 1, 1, 1, 1, 1, 1, 1, 1, 1, 1, 1, 1, 1, 1, 1, 1, 1, 1, 1, 1, 1, 1, 1, 1, 1, 1, 1, 1, 1, 1, 1, 1, 1, 1, 1, 1, 1, 1, 1, 1, 1, 1, 1, 1, 1, 1, 1, 1, 1, 1, 1, 1, 1, 1, 1, 1, 1, 1, 1, 1, 1, 1, 1, 1, 1, 1, 1, 1, 1, 1, 1, 1, 1, 1, 1, 1, 1, 1, 1, 1, 1, 1, 1, 1, 1, 1, 1, 1, 1, 1, 1, 1, 1, 1, 1, 1, 1, 1, 1, 1, 1, 1, 1, 1, 1, 1, 1, 1, 1, 1, 1, 1, 1, 1, 1, 1, 1, 1, 1, 1, 1, 1, 1, 1, 1, 1, 1, 1, 1, 1, 1, 1], \"Freq\": [0.8798176852938441, 0.8800542900090612, 1.0000550567413196, 0.8814317063466234, 0.9994489895116989, 0.9998579598295744, 0.8814359633237272, 0.8835743127829455, 0.8809130020378749, 0.8808555099023435, 0.8812020058898524, 0.8806268871293885, 0.8805882685598937, 0.880537687778819, 0.8805734241218696, 0.8812140920982341, 0.8808737993836604, 0.8813118817482498, 0.8813034569661033, 0.9986989125082005, 0.8816654715135158, 1.0003094530514463, 0.9994984796334081, 0.8803987379303704, 0.8808470023859608, 0.8799595039758116, 0.8805710175704841, 0.8805675817984214, 0.8803231210733907, 1.0004440737446654, 0.8815468128007093, 0.8817693156299644, 0.998320709787184, 0.8809830095774464, 0.9998594564894572, 0.8818006028610172, 0.8808972876966247, 0.8809569972253716, 0.8819080344723643, 1.0000148454130195, 0.8814904610414435, 0.8803365962852384, 0.8808067999899413, 0.8817681682121604, 0.881552108014313, 0.880420280831638, 0.8811786356028918, 1.0013007599170245, 0.9988358740958432, 0.9993392129761424, 1.0000968660140759, 0.8807211343688918, 0.8811708651837252, 0.9999458951343095, 1.0004118451549997, 0.8811460150345081, 0.8815177092576962, 0.880202375477629, 0.8808672938895301, 0.8806345933428412, 0.8811074719526345, 0.882401002920291, 0.8805026280306503, 0.8818615719086217, 0.881103397532526, 0.8806336830968761, 0.999560299537828, 1.0002057113267904, 0.8822748618021053, 0.8813707179765122, 0.8804480573296705, 0.8805567967660636, 0.8800604099370863, 0.8801790454220729, 0.8809463574118209, 0.8803917545035741, 0.8815549031741855, 0.8809975271189636, 0.8811161042261471, 0.9993966093670688, 0.8804628165742461, 0.9994442338565847, 0.8802666294560877, 0.8813608553984513, 0.8806464452351354, 0.8819315211394965, 0.8813681789518191, 0.9998542969202397, 0.8806333160900275, 0.8808373753092014, 1.0011494291753518, 0.8811278892517449, 0.8815166124126527, 0.8821167518983188, 0.8813512873333643, 1.000171155112134, 0.8800842433754782, 1.0005317264598304, 0.9998061546770028, 0.8811429187999226, 0.8799517081051523, 0.8804538359900221, 0.8817847830881931, 1.000106830086423, 0.8805987599000458, 1.0007014049143073, 0.8822674054861189, 0.9996551914194616, 0.8806265176555328, 0.8829433456601314, 0.8811744900324717, 0.8814237144390911, 0.8809534281982918, 0.8805868358553274, 0.8819427865364353, 0.881558612806079, 0.8809309378889157, 0.8815256903831459, 0.8801620936504501, 0.8813857407209219, 0.8806223752839016, 0.8813445785028345, 0.8815370885561852, 1.0013130678798645, 0.9999366138290339, 0.8809930104055912, 0.8818060898944231, 0.880975865731618, 0.8805998372552026, 0.9998605013865899, 0.9998815260878727, 0.8815764854562259, 0.8813201723964116, 0.8805901272739084, 0.9994467781884554, 0.9990360834522312, 0.8805902682523685, 1.001069449472543, 1.0010829388198657, 0.9995304059201842, 0.8814461919089298, 0.8807029112122213, 0.8800286185011189, 0.8808319281906947, 0.8792930331293505, 0.8810495168976357, 1.0021594374842095, 0.9997868237347178, 0.8801862054822872, 0.8820824662985052, 0.8799076735157306, 0.8810766828546586, 0.8804742906224304, 0.8814502392734209, 0.8802407302608919, 0.8813625173154744, 0.8806923431164344, 0.9982782892269857, 0.8799918452421086, 1.0004763797043361, 0.8811927990368226, 0.8811943006988094, 0.8811215490875713, 0.8814264531852744, 0.8812082596695827, 0.8808350789730282, 0.8815753850583686, 0.8807795252183822, 0.8815709142649496, 0.8805826554311784, 0.8804972681210541, 0.8823477028057538, 0.8816454527400646, 1.001345488920774, 0.8807877394798406, 0.8803819077957309, 1.0007353268018868, 0.8815587257834908, 0.8810387905246249, 1.0003199598818042, 0.8815062596029529, 0.8813493752776672, 0.8816180520711414, 0.8803707114439149, 0.8812129584252142, 0.8811020502530611, 0.8804097335080119, 0.8802545962577479, 0.999879788394394, 0.9991432327130785, 0.9999135045039411, 0.8820821813035988, 0.880728178361962, 0.8810078723866712, 0.9991872917457477, 0.8819011710586282, 0.8819049460830976, 0.8810571687739824, 0.9998045432327932, 1.0002500612292653, 0.8814023376134926, 1.0003964743549074, 0.8816639798039765, 0.8805292362831474, 0.8803323283377508, 0.8804567397067703, 0.8807074831524625, 0.8814732664053284, 0.8814262984428777], \"Term\": [\"0vexmme0cd\", \"0yec9c1o1m\", \"1\", \"172\", \"19\", \"2\", \"20th\", \"216\", \"314\", \"34\", \"365\", \"3dwfoywjir\", \"4secnbcgut\", \"4uwpt4qxat\", \"6c2yityrw3\", \"6l2wqj4ebk\", \"7pnwdpwsfc\", \"8afthzo23o\", \"address\", \"administered\", \"advance\", \"africa\", \"amp\", \"amyremeikis\", \"appreciated\", \"authentic\", \"b4\", \"b5kzlqtesy\", \"bd\", \"blown\", \"buck\", \"c1blnxin55\", \"call\", \"careless\", \"case\", \"chemoprophylaxis\", \"chhattisgarh\", \"chinaglobalthreat\", \"clock\", \"co\", \"coastguardph\", \"collected\", \"colorado\", \"commended\", \"commissioner\", \"compensate\", \"conservative\", \"coronavirus\", \"could\", \"covid\", \"covid19\", \"creative\", \"dal\", \"day\", \"death\", \"debate\", \"depth\", \"designated\", \"destroyed\", \"dfaphl\", \"dg\", \"dgvcaxmwfi\", \"diverse\", \"do0z0hr1qw\", \"dock\", \"domsitzr\", \"dos\", \"dr\", \"drlimengyan1\", \"drpetermoloney\", \"earlyvaccinationforall\", \"earth\", \"ekivkla3xp\", \"emergence\", \"employer\", \"erosion\", \"establish\", \"evaunicef\", \"existance\", \"expert\", \"extra\", \"far\", \"faring\", \"feat\", \"fekhwpfs1u\", \"filtration\", \"five\", \"full\", \"gbnews\", \"geography\", \"get\", \"governing\", \"gozaimasu\", \"greeting\", \"gttcpwttcq\", \"ha\", \"hate\", \"head\", \"health\", \"heavy\", \"hhsgov\", \"homogeneous\", \"hongkong\", \"http\", \"hxtxc5wau3\", \"india\", \"ineffective\", \"israel\", \"israhell\", \"iwd2021\", \"janephilpott\", \"jankaari\", \"jrs7gzqpvs\", \"leonaalleslev\", \"lining\", \"livelihood\", \"lnp8y2pnbf\", \"massive\", \"maureenferran\", \"menstruation\", \"mgthquc9pa\", \"michaelshermer\", \"microfinance\", \"midst\", \"million\", \"mnhifd6uk1\", \"monicagandhi9\", \"murdering\", \"nato\", \"need\", \"new\", \"nihdirector\", \"offspring\", \"ohiostudentlife\", \"one\", \"ontario\", \"overshadowed\", \"palestinian\", \"patient\", \"people\", \"philanthropy\", \"porque\", \"portfolio\", \"powerplay\", \"presence\", \"pretending\", \"production\", \"public\", \"punjab\", \"q2llvj3mfk\", \"qrf8suf8zz\", \"qycgg0ujtb\", \"redefiningtrade\", \"registration\", \"religion\", \"reminds\", \"reporter\", \"restriction\", \"rid\", \"risk\", \"rzrkeodwhh\", \"sahi\", \"se1qydppge\", \"sntuwpx8em\", \"solid\", \"sonangol\", \"spainmfa\", \"spark\", \"sporting\", \"stakeholder\", \"stampede2021\", \"stpbhi25be\", \"suppression\", \"system\", \"tampa\", \"tax\", \"third\", \"thromboembolic\", \"till\", \"today\", \"toddctv\", \"touch\", \"ttdzwrzinb\", \"tulikuki\", \"typical\", \"uninterrupted\", \"universally\", \"unworthy\", \"vaccinated\", \"vaccination\", \"vaccine\", \"vairavanathan\", \"valuechcs\", \"vanuatu\", \"variant\", \"vote\", \"vq0jc7adzo\", \"vucjqq2rzz\", \"wave\", \"way\", \"whoindonesia\", \"world\", \"writer\", \"xpm4r1z8tl\", \"yale\", \"ykbo781dn3\", \"ykhpxdw3vd\", \"zelenskyyua\", \"zi4xn9ff47\"]}, \"R\": 30, \"lambda.step\": 0.01, \"plot.opts\": {\"xlab\": \"PC1\", \"ylab\": \"PC2\"}, \"topic.order\": [7, 4, 1, 2, 6, 5, 3]};\n",
              "\n",
              "function LDAvis_load_lib(url, callback){\n",
              "  var s = document.createElement('script');\n",
              "  s.src = url;\n",
              "  s.async = true;\n",
              "  s.onreadystatechange = s.onload = callback;\n",
              "  s.onerror = function(){console.warn(\"failed to load library \" + url);};\n",
              "  document.getElementsByTagName(\"head\")[0].appendChild(s);\n",
              "}\n",
              "\n",
              "if(typeof(LDAvis) !== \"undefined\"){\n",
              "   // already loaded: just create the visualization\n",
              "   !function(LDAvis){\n",
              "       new LDAvis(\"#\" + \"ldavis_el10271405992346583845531551980\", ldavis_el10271405992346583845531551980_data);\n",
              "   }(LDAvis);\n",
              "}else if(typeof define === \"function\" && define.amd){\n",
              "   // require.js is available: use it to load d3/LDAvis\n",
              "   require.config({paths: {d3: \"https://d3js.org/d3.v5\"}});\n",
              "   require([\"d3\"], function(d3){\n",
              "      window.d3 = d3;\n",
              "      LDAvis_load_lib(\"https://cdn.jsdelivr.net/gh/bmabey/pyLDAvis@3.3.1/pyLDAvis/js/ldavis.v3.0.0.js\", function(){\n",
              "        new LDAvis(\"#\" + \"ldavis_el10271405992346583845531551980\", ldavis_el10271405992346583845531551980_data);\n",
              "      });\n",
              "    });\n",
              "}else{\n",
              "    // require.js not available: dynamically load d3 & LDAvis\n",
              "    LDAvis_load_lib(\"https://d3js.org/d3.v5.js\", function(){\n",
              "         LDAvis_load_lib(\"https://cdn.jsdelivr.net/gh/bmabey/pyLDAvis@3.3.1/pyLDAvis/js/ldavis.v3.0.0.js\", function(){\n",
              "                 new LDAvis(\"#\" + \"ldavis_el10271405992346583845531551980\", ldavis_el10271405992346583845531551980_data);\n",
              "            })\n",
              "         });\n",
              "}\n",
              "</script>"
            ],
            "text/plain": [
              "PreparedData(topic_coordinates=              x         y  topics  cluster       Freq\n",
              "topic                                                \n",
              "6     -0.207139  0.000002       1        1  99.998471\n",
              "3     -0.023610 -0.000147       2        1   0.000272\n",
              "0      0.003026  0.000369       3        1   0.000266\n",
              "1      0.037550  0.000160       4        1   0.000257\n",
              "5      0.038412 -0.000471       5        1   0.000257\n",
              "4      0.066599 -0.000019       6        1   0.000244\n",
              "2      0.085162  0.000107       7        1   0.000233, topic_info=             Term         Freq        Total Category  logprob  loglift\n",
              "4940      vaccine  4236.000000  4236.000000  Default  30.0000  30.0000\n",
              "2392         http  3552.000000  3552.000000  Default  29.0000  29.0000\n",
              "1141           co  3553.000000  3553.000000  Default  28.0000  28.0000\n",
              "1306      covid19  2785.000000  2785.000000  Default  27.0000  27.0000\n",
              "487        africa  1441.000000  1441.000000  Default  26.0000  26.0000\n",
              "...           ...          ...          ...      ...      ...      ...\n",
              "3486  palestinian     0.000073   322.654937   Topic7  -8.0776  -2.3290\n",
              "3748   production     0.000069   220.523793   Topic7  -8.1292  -2.0000\n",
              "4569       system     0.000071   308.584803   Topic7  -8.1003  -2.3071\n",
              "4932   vaccinated     0.000074   442.053140   Topic7  -8.0684  -2.6346\n",
              "92              2     0.000072   330.046880   Topic7  -8.0986  -2.3727\n",
              "\n",
              "[481 rows x 6 columns], token_table=      Topic      Freq         Term\n",
              "term                              \n",
              "25        1  0.879818   0vexmme0cd\n",
              "26        1  0.880054   0yec9c1o1m\n",
              "28        1  1.000055            1\n",
              "67        1  0.881432          172\n",
              "76        1  0.999449           19\n",
              "...     ...       ...          ...\n",
              "5221      1  0.880332         yale\n",
              "5238      1  0.880457   ykbo781dn3\n",
              "5239      1  0.880707   ykhpxdw3vd\n",
              "5276      1  0.881473  zelenskyyua\n",
              "5282      1  0.881426   zi4xn9ff47\n",
              "\n",
              "[209 rows x 3 columns], R=30, lambda_step=0.01, plot_opts={'xlab': 'PC1', 'ylab': 'PC2'}, topic_order=[7, 4, 1, 2, 6, 5, 3])"
            ]
          },
          "metadata": {
            "tags": []
          },
          "execution_count": 36
        }
      ]
    },
    {
      "cell_type": "code",
      "metadata": {
        "id": "uvCIxKWUFEmC"
      },
      "source": [
        ""
      ],
      "execution_count": null,
      "outputs": []
    }
  ]
}