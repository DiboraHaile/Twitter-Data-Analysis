{
  "nbformat": 4,
  "nbformat_minor": 0,
  "metadata": {
    "colab": {
      "name": "SentenceAnalysis.ipynb",
      "provenance": [],
      "collapsed_sections": []
    },
    "kernelspec": {
      "name": "python3",
      "display_name": "Python 3"
    },
    "language_info": {
      "name": "python"
    }
  },
  "cells": [
    {
      "cell_type": "code",
      "metadata": {
        "id": "wCyiSUjgoMtW"
      },
      "source": [
        "import matplotlib as plt\n",
        "import pandas as pd\n",
        "import os\n",
        "import string"
      ],
      "execution_count": null,
      "outputs": []
    },
    {
      "cell_type": "code",
      "metadata": {
        "id": "1Ijf8gwros5Q"
      },
      "source": [
        "#data loader class\n",
        "class CsvLoader:\n",
        "  def __init__(self,path,filename):\n",
        "    if os.getcwd() != path:\n",
        "      os.chdir(path)   \n",
        "    self.path = path\n",
        "    self.filename = filename \n",
        " \n",
        "  def load_csv(self):\n",
        "    df = pd.read_csv(self.filename,engine='python',error_bad_lines=False)\n",
        "    return df\n",
        "  "
      ],
      "execution_count": null,
      "outputs": []
    },
    {
      "cell_type": "code",
      "metadata": {
        "colab": {
          "base_uri": "https://localhost:8080/",
          "height": 904
        },
        "id": "GKvAL_-kps0j",
        "outputId": "88034d12-cdb8-4d05-fa1f-60d7b74bee80"
      },
      "source": [
        "csv_loader = CsvLoader('/content','processed_tweet_data.csv')\n",
        "csv_loaded = csv_loader.load_csv()\n",
        "csv_loaded[:10]"
      ],
      "execution_count": null,
      "outputs": [
        {
          "output_type": "execute_result",
          "data": {
            "text/html": [
              "<div>\n",
              "<style scoped>\n",
              "    .dataframe tbody tr th:only-of-type {\n",
              "        vertical-align: middle;\n",
              "    }\n",
              "\n",
              "    .dataframe tbody tr th {\n",
              "        vertical-align: top;\n",
              "    }\n",
              "\n",
              "    .dataframe thead th {\n",
              "        text-align: right;\n",
              "    }\n",
              "</style>\n",
              "<table border=\"1\" class=\"dataframe\">\n",
              "  <thead>\n",
              "    <tr style=\"text-align: right;\">\n",
              "      <th></th>\n",
              "      <th>created_at</th>\n",
              "      <th>source</th>\n",
              "      <th>original_text</th>\n",
              "      <th>polarity</th>\n",
              "      <th>subjectivity</th>\n",
              "      <th>lang</th>\n",
              "      <th>favorite_count</th>\n",
              "      <th>retweet_count</th>\n",
              "      <th>original_author</th>\n",
              "      <th>followers_count</th>\n",
              "      <th>friends_count</th>\n",
              "      <th>possibly_sensitive</th>\n",
              "      <th>hashtags</th>\n",
              "      <th>user_mentions</th>\n",
              "      <th>place</th>\n",
              "    </tr>\n",
              "  </thead>\n",
              "  <tbody>\n",
              "    <tr>\n",
              "      <th>0</th>\n",
              "      <td>Fri Jun 18 17:55:49 +0000 2021</td>\n",
              "      <td>&lt;a href=\"http://twitter.com/download/iphone\" r...</td>\n",
              "      <td>🚨Africa is \"in the midst of a full-blown third...</td>\n",
              "      <td>1.666667e-01</td>\n",
              "      <td>0.188889</td>\n",
              "      <td>en</td>\n",
              "      <td>548.0</td>\n",
              "      <td>612.0</td>\n",
              "      <td>ketuesriche</td>\n",
              "      <td>551</td>\n",
              "      <td>351</td>\n",
              "      <td>NaN</td>\n",
              "      <td>NaN</td>\n",
              "      <td>TelGlobalHealthWHOAFRO</td>\n",
              "      <td>Mass</td>\n",
              "    </tr>\n",
              "    <tr>\n",
              "      <th>1</th>\n",
              "      <td>Fri Jun 18 17:55:59 +0000 2021</td>\n",
              "      <td>&lt;a href=\"https://mobile.twitter.com\" rel=\"nofo...</td>\n",
              "      <td>Dr Moeti is head of WHO in Africa, and one of ...</td>\n",
              "      <td>1.333333e-01</td>\n",
              "      <td>0.455556</td>\n",
              "      <td>en</td>\n",
              "      <td>195.0</td>\n",
              "      <td>92.0</td>\n",
              "      <td>Grid1949</td>\n",
              "      <td>66</td>\n",
              "      <td>92</td>\n",
              "      <td>NaN</td>\n",
              "      <td>NaN</td>\n",
              "      <td>globalhlthtwit</td>\n",
              "      <td>Edinburgh, Scotland</td>\n",
              "    </tr>\n",
              "    <tr>\n",
              "      <th>2</th>\n",
              "      <td>Fri Jun 18 17:56:07 +0000 2021</td>\n",
              "      <td>&lt;a href=\"http://twitter.com/download/iphone\" r...</td>\n",
              "      <td>Thank you @research2note for creating this ama...</td>\n",
              "      <td>3.166667e-01</td>\n",
              "      <td>0.483333</td>\n",
              "      <td>en</td>\n",
              "      <td>2.0</td>\n",
              "      <td>1.0</td>\n",
              "      <td>LeeTomlinson8</td>\n",
              "      <td>1195</td>\n",
              "      <td>1176</td>\n",
              "      <td>NaN</td>\n",
              "      <td>red4research</td>\n",
              "      <td>NHSRDForumResearch2noteNHSRDForum</td>\n",
              "      <td>NaN</td>\n",
              "    </tr>\n",
              "    <tr>\n",
              "      <th>3</th>\n",
              "      <td>Fri Jun 18 17:56:10 +0000 2021</td>\n",
              "      <td>&lt;a href=\"https://mobile.twitter.com\" rel=\"nofo...</td>\n",
              "      <td>Former Pfizer VP and Virologist, Dr. Michael Y...</td>\n",
              "      <td>8.611111e-02</td>\n",
              "      <td>0.197222</td>\n",
              "      <td>en</td>\n",
              "      <td>1580.0</td>\n",
              "      <td>899.0</td>\n",
              "      <td>RIPNY08</td>\n",
              "      <td>2666</td>\n",
              "      <td>2704</td>\n",
              "      <td>NaN</td>\n",
              "      <td>NaN</td>\n",
              "      <td>HighWireTalk</td>\n",
              "      <td>NaN</td>\n",
              "    </tr>\n",
              "    <tr>\n",
              "      <th>4</th>\n",
              "      <td>Fri Jun 18 17:56:20 +0000 2021</td>\n",
              "      <td>&lt;a href=\"http://twitter.com/download/android\" ...</td>\n",
              "      <td>I think it’s important that we don’t sell COVA...</td>\n",
              "      <td>2.800000e-01</td>\n",
              "      <td>0.620000</td>\n",
              "      <td>en</td>\n",
              "      <td>72.0</td>\n",
              "      <td>20.0</td>\n",
              "      <td>pash22</td>\n",
              "      <td>28250</td>\n",
              "      <td>30819</td>\n",
              "      <td>NaN</td>\n",
              "      <td>NaN</td>\n",
              "      <td>PeterHotez</td>\n",
              "      <td>United Kingdom</td>\n",
              "    </tr>\n",
              "    <tr>\n",
              "      <th>5</th>\n",
              "      <td>Fri Jun 18 17:56:25 +0000 2021</td>\n",
              "      <td>&lt;a href=\"http://twitter.com/download/android\" ...</td>\n",
              "      <td>I’m pleased to welcome the #WeCanDoThis bus to...</td>\n",
              "      <td>5.083333e-01</td>\n",
              "      <td>0.783333</td>\n",
              "      <td>en</td>\n",
              "      <td>683.0</td>\n",
              "      <td>220.0</td>\n",
              "      <td>SandhraLee</td>\n",
              "      <td>759</td>\n",
              "      <td>4163</td>\n",
              "      <td>NaN</td>\n",
              "      <td>WeCanDoThisCOVID19</td>\n",
              "      <td>CDCDirector</td>\n",
              "      <td>USA</td>\n",
              "    </tr>\n",
              "    <tr>\n",
              "      <th>6</th>\n",
              "      <td>Fri Jun 18 17:56:44 +0000 2021</td>\n",
              "      <td>&lt;a href=\"http://twitter.com/#!/download/ipad\" ...</td>\n",
              "      <td>Yet another amazingly qualified and courageous...</td>\n",
              "      <td>3.700743e-17</td>\n",
              "      <td>0.633333</td>\n",
              "      <td>en</td>\n",
              "      <td>536.0</td>\n",
              "      <td>347.0</td>\n",
              "      <td>neilwalton48</td>\n",
              "      <td>221</td>\n",
              "      <td>599</td>\n",
              "      <td>NaN</td>\n",
              "      <td>NaN</td>\n",
              "      <td>RealJoelSmalley</td>\n",
              "      <td>NaN</td>\n",
              "    </tr>\n",
              "    <tr>\n",
              "      <th>7</th>\n",
              "      <td>Fri Jun 18 17:56:46 +0000 2021</td>\n",
              "      <td>&lt;a href=\"http://twitter.com/#!/download/ipad\" ...</td>\n",
              "      <td>Yet another amazingly qualified and courageous...</td>\n",
              "      <td>3.700743e-17</td>\n",
              "      <td>0.633333</td>\n",
              "      <td>en</td>\n",
              "      <td>536.0</td>\n",
              "      <td>348.0</td>\n",
              "      <td>Candide62</td>\n",
              "      <td>154</td>\n",
              "      <td>1102</td>\n",
              "      <td>NaN</td>\n",
              "      <td>NaN</td>\n",
              "      <td>RealJoelSmalley</td>\n",
              "      <td>Nord-Pas-de-Calais, France</td>\n",
              "    </tr>\n",
              "    <tr>\n",
              "      <th>8</th>\n",
              "      <td>Fri Jun 18 17:56:46 +0000 2021</td>\n",
              "      <td>&lt;a href=\"http://twitter.com/download/iphone\" r...</td>\n",
              "      <td>Dr Moeti is head of WHO in Africa, and one of ...</td>\n",
              "      <td>1.333333e-01</td>\n",
              "      <td>0.455556</td>\n",
              "      <td>en</td>\n",
              "      <td>197.0</td>\n",
              "      <td>93.0</td>\n",
              "      <td>AnneCar51323293</td>\n",
              "      <td>115</td>\n",
              "      <td>2030</td>\n",
              "      <td>NaN</td>\n",
              "      <td>NaN</td>\n",
              "      <td>globalhlthtwit</td>\n",
              "      <td>NaN</td>\n",
              "    </tr>\n",
              "    <tr>\n",
              "      <th>9</th>\n",
              "      <td>Fri Jun 18 17:56:47 +0000 2021</td>\n",
              "      <td>&lt;a href=\"https://mobile.twitter.com\" rel=\"nofo...</td>\n",
              "      <td>It is really something to see new research com...</td>\n",
              "      <td>3.727273e-01</td>\n",
              "      <td>0.467424</td>\n",
              "      <td>en</td>\n",
              "      <td>3.0</td>\n",
              "      <td>1.0</td>\n",
              "      <td>DarkaDuna2014</td>\n",
              "      <td>94</td>\n",
              "      <td>144</td>\n",
              "      <td>NaN</td>\n",
              "      <td>Covid19</td>\n",
              "      <td>LongCovidNYC</td>\n",
              "      <td>Bilbao, País Vasco</td>\n",
              "    </tr>\n",
              "  </tbody>\n",
              "</table>\n",
              "</div>"
            ],
            "text/plain": [
              "                       created_at  ...                       place\n",
              "0  Fri Jun 18 17:55:49 +0000 2021  ...                        Mass\n",
              "1  Fri Jun 18 17:55:59 +0000 2021  ...         Edinburgh, Scotland\n",
              "2  Fri Jun 18 17:56:07 +0000 2021  ...                         NaN\n",
              "3  Fri Jun 18 17:56:10 +0000 2021  ...                         NaN\n",
              "4  Fri Jun 18 17:56:20 +0000 2021  ...              United Kingdom\n",
              "5  Fri Jun 18 17:56:25 +0000 2021  ...                         USA\n",
              "6  Fri Jun 18 17:56:44 +0000 2021  ...                         NaN\n",
              "7  Fri Jun 18 17:56:46 +0000 2021  ...  Nord-Pas-de-Calais, France\n",
              "8  Fri Jun 18 17:56:46 +0000 2021  ...                         NaN\n",
              "9  Fri Jun 18 17:56:47 +0000 2021  ...          Bilbao, País Vasco\n",
              "\n",
              "[10 rows x 15 columns]"
            ]
          },
          "metadata": {
            "tags": []
          },
          "execution_count": 18
        }
      ]
    },
    {
      "cell_type": "code",
      "metadata": {
        "colab": {
          "base_uri": "https://localhost:8080/"
        },
        "id": "_yPNpkM-s2Mn",
        "outputId": "f2873721-755f-4db3-8da7-d9b8354fa084"
      },
      "source": [
        "csv_loaded.info()"
      ],
      "execution_count": null,
      "outputs": [
        {
          "output_type": "stream",
          "text": [
            "<class 'pandas.core.frame.DataFrame'>\n",
            "RangeIndex: 6532 entries, 0 to 6531\n",
            "Data columns (total 15 columns):\n",
            " #   Column              Non-Null Count  Dtype  \n",
            "---  ------              --------------  -----  \n",
            " 0   created_at          6532 non-null   object \n",
            " 1   source              6532 non-null   object \n",
            " 2   original_text       3720 non-null   object \n",
            " 3   polarity            6532 non-null   float64\n",
            " 4   subjectivity        6532 non-null   float64\n",
            " 5   lang                6532 non-null   object \n",
            " 6   favorite_count      4785 non-null   float64\n",
            " 7   retweet_count       4785 non-null   float64\n",
            " 8   original_author     6532 non-null   object \n",
            " 9   followers_count     6532 non-null   int64  \n",
            " 10  friends_count       6532 non-null   int64  \n",
            " 11  possibly_sensitive  1518 non-null   object \n",
            " 12  hashtags            2655 non-null   object \n",
            " 13  user_mentions       5162 non-null   object \n",
            " 14  place               4088 non-null   object \n",
            "dtypes: float64(4), int64(2), object(9)\n",
            "memory usage: 765.6+ KB\n"
          ],
          "name": "stdout"
        }
      ]
    },
    {
      "cell_type": "code",
      "metadata": {
        "id": "oQbNuF4Mg3YM"
      },
      "source": [
        ""
      ],
      "execution_count": null,
      "outputs": []
    },
    {
      "cell_type": "code",
      "metadata": {
        "id": "-0yF4j7hycvM"
      },
      "source": [
        "class Prepare_data_sent_analysis:\n",
        "  def __init__(self,df):\n",
        "    self.df = df\n",
        "  \n",
        "  def text_category(self,p)-> str:\n",
        "    if p > 0 :\n",
        "      return 'positive'\n",
        "    elif p < 0 :\n",
        "      return 'negative'\n",
        "    else:\n",
        "      return 'neutral'\n",
        "  \n",
        "  \n",
        "  def preprocess_data(self):\n",
        "    df = self.df[self.df['lang'] ==\"en\"]\n",
        "    df['original_text'] = df['original_text'].astype(str)\n",
        "    df['polarity'] = df['polarity'].astype(float)\n",
        "    df['original_text'] = df['original_text'].apply(lambda x: x.lower())\n",
        "    df['original_text'] = df['original_text'].apply(lambda x: x.translate(str.maketrans(' ', ' ', string.punctuation)))\n",
        "    df_droped = df[df['original_text'] != 'nan'] \n",
        "    df_droped_cols = df_droped[['original_text','polarity']]\n",
        "    df_droped_cols['score'] = df_droped_cols['polarity'].apply(lambda row: self.text_category(row))\n",
        "    df_droped_cols.drop(df_droped_cols[df_droped_cols['score'] =='neutral'].index, inplace = True)\n",
        "    df_droped_cols=df_droped_cols.reset_index(drop=True)\n",
        "    return df_droped_cols\n",
        " "
      ],
      "execution_count": null,
      "outputs": []
    },
    {
      "cell_type": "code",
      "metadata": {
        "colab": {
          "base_uri": "https://localhost:8080/",
          "height": 557
        },
        "id": "z6yxi7Tq9cem",
        "outputId": "ff5acfa4-8ba8-410a-83db-7ca8605a1548"
      },
      "source": [
        "data_topic_preparer = Prepare_data_sent_analysis(csv_loaded)\n",
        "df_sent_analysis = data_topic_preparer.preprocess_data()\n",
        "df_sent_analysis[:10]"
      ],
      "execution_count": null,
      "outputs": [
        {
          "output_type": "stream",
          "text": [
            "/usr/local/lib/python3.7/dist-packages/ipykernel_launcher.py:22: SettingWithCopyWarning: \n",
            "A value is trying to be set on a copy of a slice from a DataFrame.\n",
            "Try using .loc[row_indexer,col_indexer] = value instead\n",
            "\n",
            "See the caveats in the documentation: https://pandas.pydata.org/pandas-docs/stable/user_guide/indexing.html#returning-a-view-versus-a-copy\n",
            "/usr/local/lib/python3.7/dist-packages/pandas/core/frame.py:4174: SettingWithCopyWarning: \n",
            "A value is trying to be set on a copy of a slice from a DataFrame\n",
            "\n",
            "See the caveats in the documentation: https://pandas.pydata.org/pandas-docs/stable/user_guide/indexing.html#returning-a-view-versus-a-copy\n",
            "  errors=errors,\n"
          ],
          "name": "stderr"
        },
        {
          "output_type": "execute_result",
          "data": {
            "text/html": [
              "<div>\n",
              "<style scoped>\n",
              "    .dataframe tbody tr th:only-of-type {\n",
              "        vertical-align: middle;\n",
              "    }\n",
              "\n",
              "    .dataframe tbody tr th {\n",
              "        vertical-align: top;\n",
              "    }\n",
              "\n",
              "    .dataframe thead th {\n",
              "        text-align: right;\n",
              "    }\n",
              "</style>\n",
              "<table border=\"1\" class=\"dataframe\">\n",
              "  <thead>\n",
              "    <tr style=\"text-align: right;\">\n",
              "      <th></th>\n",
              "      <th>original_text</th>\n",
              "      <th>polarity</th>\n",
              "      <th>score</th>\n",
              "    </tr>\n",
              "  </thead>\n",
              "  <tbody>\n",
              "    <tr>\n",
              "      <th>0</th>\n",
              "      <td>🚨africa is in the midst of a fullblown third w...</td>\n",
              "      <td>1.666667e-01</td>\n",
              "      <td>positive</td>\n",
              "    </tr>\n",
              "    <tr>\n",
              "      <th>1</th>\n",
              "      <td>dr moeti is head of who in africa and one of t...</td>\n",
              "      <td>1.333333e-01</td>\n",
              "      <td>positive</td>\n",
              "    </tr>\n",
              "    <tr>\n",
              "      <th>2</th>\n",
              "      <td>thank you research2note for creating this amaz...</td>\n",
              "      <td>3.166667e-01</td>\n",
              "      <td>positive</td>\n",
              "    </tr>\n",
              "    <tr>\n",
              "      <th>3</th>\n",
              "      <td>former pfizer vp and virologist dr michael yea...</td>\n",
              "      <td>8.611111e-02</td>\n",
              "      <td>positive</td>\n",
              "    </tr>\n",
              "    <tr>\n",
              "      <th>4</th>\n",
              "      <td>i think it’s important that we don’t sell cova...</td>\n",
              "      <td>2.800000e-01</td>\n",
              "      <td>positive</td>\n",
              "    </tr>\n",
              "    <tr>\n",
              "      <th>5</th>\n",
              "      <td>i’m pleased to welcome the wecandothis bus to ...</td>\n",
              "      <td>5.083333e-01</td>\n",
              "      <td>positive</td>\n",
              "    </tr>\n",
              "    <tr>\n",
              "      <th>6</th>\n",
              "      <td>yet another amazingly qualified and courageous...</td>\n",
              "      <td>3.700743e-17</td>\n",
              "      <td>positive</td>\n",
              "    </tr>\n",
              "    <tr>\n",
              "      <th>7</th>\n",
              "      <td>yet another amazingly qualified and courageous...</td>\n",
              "      <td>3.700743e-17</td>\n",
              "      <td>positive</td>\n",
              "    </tr>\n",
              "    <tr>\n",
              "      <th>8</th>\n",
              "      <td>dr moeti is head of who in africa and one of t...</td>\n",
              "      <td>1.333333e-01</td>\n",
              "      <td>positive</td>\n",
              "    </tr>\n",
              "    <tr>\n",
              "      <th>9</th>\n",
              "      <td>it is really something to see new research com...</td>\n",
              "      <td>3.727273e-01</td>\n",
              "      <td>positive</td>\n",
              "    </tr>\n",
              "  </tbody>\n",
              "</table>\n",
              "</div>"
            ],
            "text/plain": [
              "                                       original_text      polarity     score\n",
              "0  🚨africa is in the midst of a fullblown third w...  1.666667e-01  positive\n",
              "1  dr moeti is head of who in africa and one of t...  1.333333e-01  positive\n",
              "2  thank you research2note for creating this amaz...  3.166667e-01  positive\n",
              "3  former pfizer vp and virologist dr michael yea...  8.611111e-02  positive\n",
              "4  i think it’s important that we don’t sell cova...  2.800000e-01  positive\n",
              "5  i’m pleased to welcome the wecandothis bus to ...  5.083333e-01  positive\n",
              "6  yet another amazingly qualified and courageous...  3.700743e-17  positive\n",
              "7  yet another amazingly qualified and courageous...  3.700743e-17  positive\n",
              "8  dr moeti is head of who in africa and one of t...  1.333333e-01  positive\n",
              "9  it is really something to see new research com...  3.727273e-01  positive"
            ]
          },
          "metadata": {
            "tags": []
          },
          "execution_count": 123
        }
      ]
    },
    {
      "cell_type": "code",
      "metadata": {
        "id": "0kkfuqtmor9w"
      },
      "source": [
        "class data_visualization:\n",
        "  def __init__(self,df):\n",
        "    self.df = df\n",
        "  \n",
        "  def pie_chart(self):\n",
        "    score_col = pd.Series(self.df['score'].value_counts(), index=['positive','negative','neutral'], name=\"score\")\n",
        "    score_col.plot.pie(figsize=(6, 6));\n",
        "\n",
        "  def bar_chart(self):\n",
        "    score_col = pd.Series(self.df['score'].value_counts(), index=['positive','negative','neutral'], name=\"score\")\n",
        "    score_col.plot.bar(figsize=(6, 6));"
      ],
      "execution_count": null,
      "outputs": []
    },
    {
      "cell_type": "code",
      "metadata": {
        "colab": {
          "base_uri": "https://localhost:8080/",
          "height": 551
        },
        "id": "acsTyBGHor6g",
        "outputId": "12340992-541f-4b35-ffc3-207f5a54067b"
      },
      "source": [
        "visualizer = data_visualization(df_sent_analy)\n",
        "visualizer.pie_chart()"
      ],
      "execution_count": null,
      "outputs": [
        {
          "output_type": "stream",
          "text": [
            "/usr/local/lib/python3.7/dist-packages/ipykernel_launcher.py:22: SettingWithCopyWarning: \n",
            "A value is trying to be set on a copy of a slice from a DataFrame.\n",
            "Try using .loc[row_indexer,col_indexer] = value instead\n",
            "\n",
            "See the caveats in the documentation: https://pandas.pydata.org/pandas-docs/stable/user_guide/indexing.html#returning-a-view-versus-a-copy\n",
            "/usr/local/lib/python3.7/dist-packages/pandas/core/frame.py:4174: SettingWithCopyWarning: \n",
            "A value is trying to be set on a copy of a slice from a DataFrame\n",
            "\n",
            "See the caveats in the documentation: https://pandas.pydata.org/pandas-docs/stable/user_guide/indexing.html#returning-a-view-versus-a-copy\n",
            "  errors=errors,\n"
          ],
          "name": "stderr"
        },
        {
          "output_type": "display_data",
          "data": {
            "image/png": "[encoded data removed]",
            "text/plain": [
              "<Figure size 432x432 with 1 Axes>"
            ]
          },
          "metadata": {
            "tags": []
          }
        }
      ]
    },
    {
      "cell_type": "code",
      "metadata": {
        "colab": {
          "base_uri": "https://localhost:8080/",
          "height": 408
        },
        "id": "CDIdZdYTosBY",
        "outputId": "aa7f2617-0342-4353-d3e4-85a0c69828ab"
      },
      "source": [
        "visualizer.bar_chart()"
      ],
      "execution_count": null,
      "outputs": [
        {
          "output_type": "display_data",
          "data": {
            "image/png": "[encoded data removed]",
            "text/plain": [
              "<Figure size 432x432 with 1 Axes>"
            ]
          },
          "metadata": {
            "tags": [],
            "needs_background": "light"
          }
        }
      ]
    },
    {
      "cell_type": "code",
      "metadata": {
        "id": "ohoFcset_tus"
      },
      "source": [
        "from sklearn.feature_extraction.text import CountVectorizer, TfidfTransformer\n",
        "from sklearn.model_selection import train_test_split"
      ],
      "execution_count": null,
      "outputs": []
    },
    {
      "cell_type": "code",
      "metadata": {
        "id": "lHTvf_SyoWT3"
      },
      "source": [
        "def prepare_features(df):\n",
        "    score_series = df['score'].map({'positive':1, 'negative':0})\n",
        "    text_series = df['original_text']\n",
        "    X = text_series.tolist()\n",
        "    y = score_series.tolist()\n",
        "    X_train, X_test, y_train, y_test = train_test_split(X, y, test_size=0.4)  \n",
        "    return X_train, X_test, y_train, y_test\n",
        "\n"
      ],
      "execution_count": null,
      "outputs": []
    },
    {
      "cell_type": "code",
      "metadata": {
        "id": "r8WOxnf_oWWt"
      },
      "source": [
        "X_train, X_test, y_train, y_test = prepare_features(df_sent_analy)\n",
        "  "
      ],
      "execution_count": null,
      "outputs": []
    },
    {
      "cell_type": "code",
      "metadata": {
        "id": "OSnxUwG9_2_x"
      },
      "source": [
        "def vectorize_features(x_train,x_test):\n",
        "  trigram_vect = CountVectorizer(ngram_range=(3, 3))\n",
        "  trigram_vect.fit(x_train)\n",
        "  X_train_trigram = trigram_vect.transform(X_train)\n",
        "  X_test_trigram = trigram_vect.transform(X_test)\n",
        "  return X_train_trigram,X_test_trigram\n"
      ],
      "execution_count": null,
      "outputs": []
    },
    {
      "cell_type": "code",
      "metadata": {
        "id": "rB5jECjfAtyX"
      },
      "source": [
        "X_train_trigram,X_test_trigram = vectorize_features(X_train, X_test)\n"
      ],
      "execution_count": null,
      "outputs": []
    },
    {
      "cell_type": "code",
      "metadata": {
        "id": "9CmbcvFi_3CY"
      },
      "source": [
        "from sklearn.linear_model import SGDClassifier\n",
        "# training and predicting using the trained model\n",
        "clf = SGDClassifier()\n",
        "clf.fit(X_train_trigram, y_train)\n",
        "y_pred = clf.predict(X_test_trigram)"
      ],
      "execution_count": null,
      "outputs": []
    },
    {
      "cell_type": "code",
      "metadata": {
        "id": "QHnmASG6AFpw"
      },
      "source": [
        "train_score = clf.score(X_train_trigram, y_train)\n",
        "test_score = clf.score(X_test_trigram, y_test)\n",
        "print(\"Train score: \"+str(round(train_score, 2))+\" ; Validation score: \"+str(round(test_score, 2)))"
      ],
      "execution_count": null,
      "outputs": []
    },
    {
      "cell_type": "code",
      "metadata": {
        "colab": {
          "base_uri": "https://localhost:8080/"
        },
        "id": "wM818e6z_3FB",
        "outputId": "0e6a34fe-bbae-42b1-d584-aae7ab116485"
      },
      "source": [
        "# Evaluate the model on the test data.\n",
        "train_score = clf.score(X_train_trigram, y_train)\n",
        "test_score = clf.score(X_test_trigram, y_test)\n",
        "print(\"Train score: \"+str(round(train_score, 2))+\" ; Validation score: \"+str(round(test_score, 2)))\n",
        "\n",
        "precision_score = precision_score(y_test, y_pred, average='weighted')\n",
        "recall_score = recall_score(y_test, y_pred, average='weighted')\n",
        "print(f'The precision score is {precision_score} and the recall score is {recall_score}')"
      ],
      "execution_count": null,
      "outputs": [
        {
          "output_type": "stream",
          "text": [
            "Train score: 1.0 ; Validation score: 0.98\n",
            "The precision score is 0.9775277523442061 and the recall score is 0.9769001490312966\n"
          ],
          "name": "stdout"
        }
      ]
    },
    {
      "cell_type": "code",
      "metadata": {
        "colab": {
          "base_uri": "https://localhost:8080/"
        },
        "id": "jvNQ-1mM_3I5",
        "outputId": "2f4fcf85-db97-4cd7-848a-889d082c6ba5"
      },
      "source": [
        "from sklearn.metrics import precision_score\n",
        "from sklearn.metrics import recall_score\n",
        "\n",
        "precision_score = precision_score(y_test, y_pred, average='weighted')\n",
        "recall_score = recall_score(y_test, y_pred, average='weighted')\n",
        "print(f'The precision score is {precision_score} and the recall score is {recall_score}')"
      ],
      "execution_count": null,
      "outputs": [
        {
          "output_type": "stream",
          "text": [
            "The precision score is 0.9775277523442061 and the recall score is 0.9769001490312966\n"
          ],
          "name": "stdout"
        }
      ]
    },
    {
      "cell_type": "code",
      "metadata": {
        "id": "AUbdLgWUCWLo"
      },
      "source": [
        ""
      ],
      "execution_count": null,
      "outputs": []
    }
  ]
}