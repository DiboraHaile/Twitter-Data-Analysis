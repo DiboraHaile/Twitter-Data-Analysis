{
 "cells": [
  {
   "cell_type": "code",
   "execution_count": 3,
   "metadata": {
    "id": "wCyiSUjgoMtW"
   },
   "outputs": [],
   "source": [
    "import matplotlib.pyplot as plt \n",
    "import pandas as pd\n",
    "import os\n",
    "import string\n",
    "from sklearn.feature_extraction.text import CountVectorizer, TfidfTransformer\n",
    "from sklearn.model_selection import train_test_split\n",
    "from sklearn.linear_model import SGDClassifier\n",
    "from sklearn.metrics import precision_score\n",
    "from sklearn.metrics import recall_score\n",
    "import sys\n",
    "import os\n",
    "sys.path.append(os.path.abspath(os.path.join('..')))"
   ]
  },
  {
   "cell_type": "code",
   "execution_count": 4,
   "metadata": {
    "id": "1Ijf8gwros5Q"
   },
   "outputs": [],
   "source": [
    "#data loader class\n",
    "class CsvLoader:\n",
    "    def __init__(self,path,filename):\n",
    "        self.path = os.path.join(path,filename)\n",
    "\n",
    "    def load_csv(self):\n",
    "        df = pd.read_csv(self.path,engine='python',error_bad_lines=False)\n",
    "        return df\n"
   ]
  },
  {
   "cell_type": "code",
   "execution_count": 5,
   "metadata": {
    "colab": {
     "base_uri": "https://localhost:8080/",
     "height": 887
    },
    "id": "GKvAL_-kps0j",
    "outputId": "ad50346f-5e12-42e6-84d7-1e66016c9eb3",
    "scrolled": true
   },
   "outputs": [
    {
     "data": {
      "text/html": [
       "<div>\n",
       "<style scoped>\n",
       "    .dataframe tbody tr th:only-of-type {\n",
       "        vertical-align: middle;\n",
       "    }\n",
       "\n",
       "    .dataframe tbody tr th {\n",
       "        vertical-align: top;\n",
       "    }\n",
       "\n",
       "    .dataframe thead th {\n",
       "        text-align: right;\n",
       "    }\n",
       "</style>\n",
       "<table border=\"1\" class=\"dataframe\">\n",
       "  <thead>\n",
       "    <tr style=\"text-align: right;\">\n",
       "      <th></th>\n",
       "      <th>created_at</th>\n",
       "      <th>source</th>\n",
       "      <th>original_text</th>\n",
       "      <th>polarity</th>\n",
       "      <th>subjectivity</th>\n",
       "      <th>lang</th>\n",
       "      <th>favorite_count</th>\n",
       "      <th>retweet_count</th>\n",
       "      <th>original_author</th>\n",
       "      <th>followers_count</th>\n",
       "      <th>friends_count</th>\n",
       "      <th>user_mentions</th>\n",
       "    </tr>\n",
       "  </thead>\n",
       "  <tbody>\n",
       "    <tr>\n",
       "      <th>0</th>\n",
       "      <td>2021-06-18 17:55:49+00:00</td>\n",
       "      <td>&lt;a href=\"http://twitter.com/download/iphone\" r...</td>\n",
       "      <td>Africa is \"in the midst of a full-blown third ...</td>\n",
       "      <td>1.666667e-01</td>\n",
       "      <td>0.188889</td>\n",
       "      <td>en</td>\n",
       "      <td>548.0</td>\n",
       "      <td>612.0</td>\n",
       "      <td>ketuesriche</td>\n",
       "      <td>551</td>\n",
       "      <td>351</td>\n",
       "      <td>['TelGlobalHealth', 'WHOAFRO']</td>\n",
       "    </tr>\n",
       "    <tr>\n",
       "      <th>1</th>\n",
       "      <td>2021-06-18 17:55:59+00:00</td>\n",
       "      <td>&lt;a href=\"https://mobile.twitter.com\" rel=\"nofo...</td>\n",
       "      <td>Dr Moeti is head of WHO in Africa, and one of ...</td>\n",
       "      <td>1.333333e-01</td>\n",
       "      <td>0.455556</td>\n",
       "      <td>en</td>\n",
       "      <td>195.0</td>\n",
       "      <td>92.0</td>\n",
       "      <td>Grid1949</td>\n",
       "      <td>66</td>\n",
       "      <td>92</td>\n",
       "      <td>['globalhlthtwit']</td>\n",
       "    </tr>\n",
       "    <tr>\n",
       "      <th>2</th>\n",
       "      <td>2021-06-18 17:56:07+00:00</td>\n",
       "      <td>&lt;a href=\"http://twitter.com/download/iphone\" r...</td>\n",
       "      <td>Thank you research2note for creating this amaz...</td>\n",
       "      <td>3.166667e-01</td>\n",
       "      <td>0.483333</td>\n",
       "      <td>en</td>\n",
       "      <td>2.0</td>\n",
       "      <td>1.0</td>\n",
       "      <td>LeeTomlinson8</td>\n",
       "      <td>1195</td>\n",
       "      <td>1176</td>\n",
       "      <td>['NHSRDForum', 'Research2note', 'NHSRDForum']</td>\n",
       "    </tr>\n",
       "    <tr>\n",
       "      <th>3</th>\n",
       "      <td>2021-06-18 17:56:10+00:00</td>\n",
       "      <td>&lt;a href=\"https://mobile.twitter.com\" rel=\"nofo...</td>\n",
       "      <td>Former Pfizer VP and Virologist, Dr. Michael Y...</td>\n",
       "      <td>8.611111e-02</td>\n",
       "      <td>0.197222</td>\n",
       "      <td>en</td>\n",
       "      <td>1580.0</td>\n",
       "      <td>899.0</td>\n",
       "      <td>RIPNY08</td>\n",
       "      <td>2666</td>\n",
       "      <td>2704</td>\n",
       "      <td>['HighWireTalk']</td>\n",
       "    </tr>\n",
       "    <tr>\n",
       "      <th>4</th>\n",
       "      <td>2021-06-18 17:56:20+00:00</td>\n",
       "      <td>&lt;a href=\"http://twitter.com/download/android\" ...</td>\n",
       "      <td>I think its important that we dont sell COVAX ...</td>\n",
       "      <td>2.800000e-01</td>\n",
       "      <td>0.620000</td>\n",
       "      <td>en</td>\n",
       "      <td>72.0</td>\n",
       "      <td>20.0</td>\n",
       "      <td>pash22</td>\n",
       "      <td>28250</td>\n",
       "      <td>30819</td>\n",
       "      <td>['PeterHotez']</td>\n",
       "    </tr>\n",
       "    <tr>\n",
       "      <th>5</th>\n",
       "      <td>2021-06-18 17:56:25+00:00</td>\n",
       "      <td>&lt;a href=\"http://twitter.com/download/android\" ...</td>\n",
       "      <td>Im pleased to welcome the WeCanDoThis bus to A...</td>\n",
       "      <td>5.083333e-01</td>\n",
       "      <td>0.783333</td>\n",
       "      <td>en</td>\n",
       "      <td>683.0</td>\n",
       "      <td>220.0</td>\n",
       "      <td>SandhraLee</td>\n",
       "      <td>759</td>\n",
       "      <td>4163</td>\n",
       "      <td>['CDCDirector']</td>\n",
       "    </tr>\n",
       "    <tr>\n",
       "      <th>6</th>\n",
       "      <td>2021-06-18 17:56:44+00:00</td>\n",
       "      <td>&lt;a href=\"http://twitter.com/#!/download/ipad\" ...</td>\n",
       "      <td>Yet another amazingly qualified and courageous...</td>\n",
       "      <td>3.700743e-17</td>\n",
       "      <td>0.633333</td>\n",
       "      <td>en</td>\n",
       "      <td>536.0</td>\n",
       "      <td>347.0</td>\n",
       "      <td>neilwalton48</td>\n",
       "      <td>221</td>\n",
       "      <td>599</td>\n",
       "      <td>['RealJoelSmalley']</td>\n",
       "    </tr>\n",
       "    <tr>\n",
       "      <th>7</th>\n",
       "      <td>2021-06-18 17:56:46+00:00</td>\n",
       "      <td>&lt;a href=\"http://twitter.com/#!/download/ipad\" ...</td>\n",
       "      <td>Yet another amazingly qualified and courageous...</td>\n",
       "      <td>3.700743e-17</td>\n",
       "      <td>0.633333</td>\n",
       "      <td>en</td>\n",
       "      <td>536.0</td>\n",
       "      <td>348.0</td>\n",
       "      <td>Candide62</td>\n",
       "      <td>154</td>\n",
       "      <td>1102</td>\n",
       "      <td>['RealJoelSmalley']</td>\n",
       "    </tr>\n",
       "    <tr>\n",
       "      <th>8</th>\n",
       "      <td>2021-06-18 17:56:46+00:00</td>\n",
       "      <td>&lt;a href=\"http://twitter.com/download/iphone\" r...</td>\n",
       "      <td>Dr Moeti is head of WHO in Africa, and one of ...</td>\n",
       "      <td>1.333333e-01</td>\n",
       "      <td>0.455556</td>\n",
       "      <td>en</td>\n",
       "      <td>197.0</td>\n",
       "      <td>93.0</td>\n",
       "      <td>AnneCar51323293</td>\n",
       "      <td>115</td>\n",
       "      <td>2030</td>\n",
       "      <td>['globalhlthtwit']</td>\n",
       "    </tr>\n",
       "    <tr>\n",
       "      <th>9</th>\n",
       "      <td>2021-06-18 17:56:47+00:00</td>\n",
       "      <td>&lt;a href=\"https://mobile.twitter.com\" rel=\"nofo...</td>\n",
       "      <td>It is really something to see new research com...</td>\n",
       "      <td>3.727273e-01</td>\n",
       "      <td>0.467424</td>\n",
       "      <td>en</td>\n",
       "      <td>3.0</td>\n",
       "      <td>1.0</td>\n",
       "      <td>DarkaDuna2014</td>\n",
       "      <td>94</td>\n",
       "      <td>144</td>\n",
       "      <td>['LongCovidNYC']</td>\n",
       "    </tr>\n",
       "  </tbody>\n",
       "</table>\n",
       "</div>"
      ],
      "text/plain": [
       "                  created_at  \\\n",
       "0  2021-06-18 17:55:49+00:00   \n",
       "1  2021-06-18 17:55:59+00:00   \n",
       "2  2021-06-18 17:56:07+00:00   \n",
       "3  2021-06-18 17:56:10+00:00   \n",
       "4  2021-06-18 17:56:20+00:00   \n",
       "5  2021-06-18 17:56:25+00:00   \n",
       "6  2021-06-18 17:56:44+00:00   \n",
       "7  2021-06-18 17:56:46+00:00   \n",
       "8  2021-06-18 17:56:46+00:00   \n",
       "9  2021-06-18 17:56:47+00:00   \n",
       "\n",
       "                                              source  \\\n",
       "0  <a href=\"http://twitter.com/download/iphone\" r...   \n",
       "1  <a href=\"https://mobile.twitter.com\" rel=\"nofo...   \n",
       "2  <a href=\"http://twitter.com/download/iphone\" r...   \n",
       "3  <a href=\"https://mobile.twitter.com\" rel=\"nofo...   \n",
       "4  <a href=\"http://twitter.com/download/android\" ...   \n",
       "5  <a href=\"http://twitter.com/download/android\" ...   \n",
       "6  <a href=\"http://twitter.com/#!/download/ipad\" ...   \n",
       "7  <a href=\"http://twitter.com/#!/download/ipad\" ...   \n",
       "8  <a href=\"http://twitter.com/download/iphone\" r...   \n",
       "9  <a href=\"https://mobile.twitter.com\" rel=\"nofo...   \n",
       "\n",
       "                                       original_text      polarity  \\\n",
       "0  Africa is \"in the midst of a full-blown third ...  1.666667e-01   \n",
       "1  Dr Moeti is head of WHO in Africa, and one of ...  1.333333e-01   \n",
       "2  Thank you research2note for creating this amaz...  3.166667e-01   \n",
       "3  Former Pfizer VP and Virologist, Dr. Michael Y...  8.611111e-02   \n",
       "4  I think its important that we dont sell COVAX ...  2.800000e-01   \n",
       "5  Im pleased to welcome the WeCanDoThis bus to A...  5.083333e-01   \n",
       "6  Yet another amazingly qualified and courageous...  3.700743e-17   \n",
       "7  Yet another amazingly qualified and courageous...  3.700743e-17   \n",
       "8  Dr Moeti is head of WHO in Africa, and one of ...  1.333333e-01   \n",
       "9  It is really something to see new research com...  3.727273e-01   \n",
       "\n",
       "   subjectivity lang  favorite_count  retweet_count  original_author  \\\n",
       "0      0.188889   en           548.0          612.0      ketuesriche   \n",
       "1      0.455556   en           195.0           92.0         Grid1949   \n",
       "2      0.483333   en             2.0            1.0    LeeTomlinson8   \n",
       "3      0.197222   en          1580.0          899.0          RIPNY08   \n",
       "4      0.620000   en            72.0           20.0           pash22   \n",
       "5      0.783333   en           683.0          220.0       SandhraLee   \n",
       "6      0.633333   en           536.0          347.0     neilwalton48   \n",
       "7      0.633333   en           536.0          348.0        Candide62   \n",
       "8      0.455556   en           197.0           93.0  AnneCar51323293   \n",
       "9      0.467424   en             3.0            1.0    DarkaDuna2014   \n",
       "\n",
       "   followers_count  friends_count  \\\n",
       "0              551            351   \n",
       "1               66             92   \n",
       "2             1195           1176   \n",
       "3             2666           2704   \n",
       "4            28250          30819   \n",
       "5              759           4163   \n",
       "6              221            599   \n",
       "7              154           1102   \n",
       "8              115           2030   \n",
       "9               94            144   \n",
       "\n",
       "                                   user_mentions  \n",
       "0                 ['TelGlobalHealth', 'WHOAFRO']  \n",
       "1                             ['globalhlthtwit']  \n",
       "2  ['NHSRDForum', 'Research2note', 'NHSRDForum']  \n",
       "3                               ['HighWireTalk']  \n",
       "4                                 ['PeterHotez']  \n",
       "5                                ['CDCDirector']  \n",
       "6                            ['RealJoelSmalley']  \n",
       "7                            ['RealJoelSmalley']  \n",
       "8                             ['globalhlthtwit']  \n",
       "9                               ['LongCovidNYC']  "
      ]
     },
     "execution_count": 5,
     "metadata": {},
     "output_type": "execute_result"
    }
   ],
   "source": [
    "csv_loader = CsvLoader('../Db_files','processed_tweet_data.csv')\n",
    "csv_loaded = csv_loader.load_csv()\n",
    "csv_loaded[:10]"
   ]
  },
  {
   "cell_type": "markdown",
   "metadata": {
    "id": "Tsb3WeF3Ya-6"
   },
   "source": [
    "#Data Understanding"
   ]
  },
  {
   "cell_type": "code",
   "execution_count": 6,
   "metadata": {
    "id": "_yPNpkM-s2Mn"
   },
   "outputs": [],
   "source": [
    "class DataInfo:\n",
    "    def __init__(self,df):\n",
    "        self.df = df\n",
    "\n",
    "    def general_info(self):\n",
    "        return self.df.info()\n",
    "\n",
    "    def general_description(self):\n",
    "        return self.df.describe()\n",
    "\n",
    "    def count_null(self):\n",
    "        return self.df.isnull().sum()\n",
    "  \n",
    "  "
   ]
  },
  {
   "cell_type": "code",
   "execution_count": 7,
   "metadata": {
    "colab": {
     "base_uri": "https://localhost:8080/"
    },
    "id": "oQbNuF4Mg3YM",
    "outputId": "a9f613fb-6344-45a3-de25-68036c61c43a"
   },
   "outputs": [
    {
     "name": "stdout",
     "output_type": "stream",
     "text": [
      "<class 'pandas.core.frame.DataFrame'>\n",
      "RangeIndex: 3720 entries, 0 to 3719\n",
      "Data columns (total 12 columns):\n",
      " #   Column           Non-Null Count  Dtype  \n",
      "---  ------           --------------  -----  \n",
      " 0   created_at       3720 non-null   object \n",
      " 1   source           3720 non-null   object \n",
      " 2   original_text    3720 non-null   object \n",
      " 3   polarity         3720 non-null   float64\n",
      " 4   subjectivity     3720 non-null   float64\n",
      " 5   lang             3720 non-null   object \n",
      " 6   favorite_count   3720 non-null   float64\n",
      " 7   retweet_count    3720 non-null   float64\n",
      " 8   original_author  3720 non-null   object \n",
      " 9   followers_count  3720 non-null   int64  \n",
      " 10  friends_count    3720 non-null   int64  \n",
      " 11  user_mentions    3720 non-null   object \n",
      "dtypes: float64(4), int64(2), object(6)\n",
      "memory usage: 348.9+ KB\n",
      "None\n"
     ]
    }
   ],
   "source": [
    "Get_Info = DataInfo(csv_loaded)\n",
    "print(Get_Info.general_info())"
   ]
  },
  {
   "cell_type": "markdown",
   "metadata": {
    "id": "HpUCuRCOb1BA"
   },
   "source": [
    "Data Visualization"
   ]
  },
  {
   "cell_type": "code",
   "execution_count": 8,
   "metadata": {
    "id": "7Q4bXD28aaOv"
   },
   "outputs": [],
   "source": [
    "class data_visualization:\n",
    "    def __init__(self,df):\n",
    "        self.df = df\n",
    "\n",
    "    def pie_chart(self):\n",
    "        score_col = pd.Series(self.df['score'].value_counts(), index=['positive','negative','neutral'], name=\"score\")\n",
    "        score_col.plot.pie(figsize=(6, 6));\n",
    "\n",
    "    def bar_chart(self):\n",
    "        score_col = pd.Series(self.df['score'].value_counts(), index=['positive','negative','neutral'], name=\"score\")\n",
    "        score_col.plot.bar(figsize=(6, 6));"
   ]
  },
  {
   "cell_type": "markdown",
   "metadata": {
    "id": "MpwHVgsaYg-g"
   },
   "source": [
    "#Data Cleaning"
   ]
  },
  {
   "cell_type": "code",
   "execution_count": 9,
   "metadata": {
    "id": "BI2WSBqfwiJJ"
   },
   "outputs": [],
   "source": [
    "import pandas as pd\n",
    "\n",
    "\n",
    "class Clean_Tweets:\n",
    "    \"\"\"\n",
    "    The PEP8 Standard AMAZING!!!\n",
    "    \"\"\"\n",
    "    def __init__(self, df:pd.DataFrame):\n",
    "        self.df = df\n",
    "        print('Automation in Action...!!!')\n",
    "\n",
    "    def drop_duplicate(self)->pd.DataFrame:\n",
    "        \"\"\"\n",
    "        drop duplicate rows\n",
    "        \"\"\"        \n",
    "        return self.df.drop_duplicates()\n",
    "\n",
    "    def convert_to_datetime(self,df)->pd.DataFrame:\n",
    "        \"\"\"\n",
    "        convert column to datetime\n",
    "        \"\"\"\n",
    "        df['created_at'] = pd.to_datetime(self.df['created_at'])\n",
    "        return df\n",
    "    \n",
    "    def convert_to_numbers(self, df:pd.DataFrame)->pd.DataFrame:\n",
    "        \"\"\"\n",
    "        convert columns like polarity, subjectivity, retweet_count\n",
    "        favorite_count etc to numbers\n",
    "        \"\"\"\n",
    "        df['polarity'] = pd.to_numeric(self.df['polarity'])\n",
    "        df['subjectivity'] = pd.to_numeric(self.df['subjectivity'])\n",
    "        df['retweet_count'] = pd.to_numeric(self.df['retweet_count'])\n",
    "        df['favorite_count'] = pd.to_numeric(self.df['favorite_count'])\n",
    "        df['followers_count'] = pd.to_numeric(self.df['followers_count'])\n",
    "        return df\n",
    "\n",
    "    def drop_null_col(self, df:pd.DataFrame)->pd.DataFrame:\n",
    "        # removed columns containing null values of more than 20%\n",
    "        row,col = df.shape\n",
    "        df.dropna(axis='columns',thresh=row*0.8,inplace=True)\n",
    "        return df\n",
    "        \n",
    "\n",
    "    def special_chars(self,x):\n",
    "        special_characters = '@_!#$%^&*()<>?/\\|}{~:;[]'\n",
    "        for char in special_characters:\n",
    "            x = x.replace(char, '')\n",
    "        x = x.encode('ascii', 'ignore').decode('ascii')\n",
    "        return x\n",
    "\n",
    "    def filter_text(self,df:pd.DataFrame) ->pd.DataFrame:\n",
    "        df['clean_text'] = self.df['original_text'].apply(lambda x: self.special_chars(x))\n",
    "        # print(df['original_text'])\n",
    "        return df\n",
    "\n",
    "    def clean_dataframe(self):\n",
    "        df_duplicatedropped = self.drop_duplicate()\n",
    "        df_datetime = self.convert_to_datetime(df_duplicatedropped)\n",
    "        df_numb =  self.convert_to_numbers(df_datetime)\n",
    "        df_nulldroped = self.drop_null_col(df_numb)\n",
    "        df_cleaned = self.filter_text(df_nulldroped)\n",
    "        return df_cleaned\n",
    "    "
   ]
  },
  {
   "cell_type": "code",
   "execution_count": 10,
   "metadata": {
    "colab": {
     "base_uri": "https://localhost:8080/"
    },
    "id": "UkLei9--wk9d",
    "outputId": "c281bf86-d761-40a1-ff8c-6b011cd0bb8f"
   },
   "outputs": [
    {
     "name": "stdout",
     "output_type": "stream",
     "text": [
      "Automation in Action...!!!\n"
     ]
    },
    {
     "data": {
      "text/plain": [
       "Index(['created_at', 'source', 'original_text', 'polarity', 'subjectivity',\n",
       "       'lang', 'favorite_count', 'retweet_count', 'original_author',\n",
       "       'followers_count', 'friends_count', 'user_mentions', 'clean_text'],\n",
       "      dtype='object')"
      ]
     },
     "execution_count": 10,
     "metadata": {},
     "output_type": "execute_result"
    }
   ],
   "source": [
    "cleanData = Clean_Tweets(csv_loaded).clean_dataframe()\n",
    "cleanData.columns"
   ]
  },
  {
   "cell_type": "markdown",
   "metadata": {
    "id": "9eHjk2j_ZvC0"
   },
   "source": [
    "#Data Preparation"
   ]
  },
  {
   "cell_type": "code",
   "execution_count": 11,
   "metadata": {
    "id": "-0yF4j7hycvM"
   },
   "outputs": [],
   "source": [
    "class Prepare_data_sent_analysis:\n",
    "    def __init__(self,df):\n",
    "        self.df = df\n",
    "\n",
    "    def text_category(self,p)-> str:\n",
    "        if p > 0 :\n",
    "            return 'positive'\n",
    "        elif p < 0 :\n",
    "            return 'negative'\n",
    "        else:\n",
    "            return 'neutral'\n",
    "  \n",
    "  \n",
    "    def preprocess_data(self):\n",
    "        df = self.df[self.df['lang'] ==\"en\"]\n",
    "        df['score'] = df['polarity'].apply(lambda row: self.text_category(row))\n",
    "        df.drop(df[df['score'] =='neutral'].index, inplace = True)\n",
    "        df=df.reset_index(drop=True)\n",
    "        return df\n",
    "\n",
    "    def prepare_features(self):\n",
    "        df_sent_analysis = self.preprocess_data()\n",
    "        score_series = df_sent_analysis['score'].map({'positive':1, 'negative':0})\n",
    "        text_series = df_sent_analysis['clean_text']\n",
    "        X = text_series.tolist()\n",
    "        y = score_series.tolist()\n",
    "        X_train, X_test, y_train, y_test = train_test_split(X, y, test_size=0.4)  \n",
    "        return X_train, X_test, y_train, y_test\n",
    "\n",
    "    def vectorize_features(self):\n",
    "        X_train, X_test, y_train, y_test = self.prepare_features()\n",
    "        trigram_vect = CountVectorizer(ngram_range=(3, 3))\n",
    "        trigram_vect.fit(X_train)\n",
    "        X_train_trigram = trigram_vect.transform(X_train)\n",
    "        X_test_trigram = trigram_vect.transform(X_test)\n",
    "        return X_train_trigram,X_test_trigram,y_train, y_test,trigram_vect\n",
    "\n"
   ]
  },
  {
   "cell_type": "code",
   "execution_count": 12,
   "metadata": {
    "id": "iXpsFeRWdNzf"
   },
   "outputs": [],
   "source": [
    "X_train_trigram,X_test_trigram,y_train, y_test,trigram_vect = Prepare_data_sent_analysis(cleanData).vectorize_features()"
   ]
  },
  {
   "cell_type": "markdown",
   "metadata": {
    "id": "-O9-l4K-YprN"
   },
   "source": [
    "#Modelling\n"
   ]
  },
  {
   "cell_type": "code",
   "execution_count": 13,
   "metadata": {
    "id": "z6yxi7Tq9cem"
   },
   "outputs": [],
   "source": [
    "class Modeling:\n",
    "    def __init__(self,X_train,X_test,y_train,y_test,trigram_vect):\n",
    "        self.X_train = X_train\n",
    "        self.X_test = X_test\n",
    "        self.y_train = y_train\n",
    "        self.y_test = y_test\n",
    "        self.trigram_vect = trigram_vect\n",
    "\n",
    "    def model(self):\n",
    "        clf = SGDClassifier()\n",
    "        clf.fit(self.X_train, y_train)\n",
    "        return clf\n",
    "\n",
    "    def predict(self,x_test = None):\n",
    "        sgd_model = self.model()\n",
    "        if x_test is None:\n",
    "            return sgd_model.predict(self.X_test)\n",
    "        else:\n",
    "            x_vect = self.trigram_vect.transform(x_test)\n",
    "            return sgd_model.predict(x_vect)\n",
    "\n",
    "    def display_info_model(self):\n",
    "        print(self.model().show_topics(formatted=False))\n",
    "\n",
    "    def score(self):\n",
    "        train_score = clf.score(self.predict(self.X_train), self.y_train)\n",
    "        test_score = clf.score(self.predict(self.X_test), self.y_test)\n",
    "        print(\"Train score: \"+str(round(train_score, 2))+\" ; Validation score: \"+str(round(test_score, 2)))\n",
    "\n",
    "    def precision_recall(self):\n",
    "        precision = precision_score(self.y_test, self.predict(), average='weighted')\n",
    "        recall = recall_score(self.y_test, self.predict(), average='weighted')\n",
    "        print(f'The precision score is {precision} and the recall score is {recall}')\n",
    "\n",
    "  \n"
   ]
  },
  {
   "cell_type": "code",
   "execution_count": 14,
   "metadata": {
    "colab": {
     "base_uri": "https://localhost:8080/"
    },
    "id": "0kkfuqtmor9w",
    "outputId": "defe0b3c-9d5e-4226-c69c-cabfb8b7d408"
   },
   "outputs": [
    {
     "data": {
      "text/plain": [
       "array([1, 1, 1, 1, 0, 1, 1, 1, 1, 1, 1, 1, 1, 0, 1, 1, 0, 1, 0, 1, 1, 1,\n",
       "       1, 1, 1, 0, 1, 1, 1, 1, 1, 1, 0, 0, 1, 0, 1, 1, 1, 1, 1, 1, 1, 1,\n",
       "       1, 1, 1, 1, 1, 1, 1, 1, 1, 1, 0, 1, 1, 1, 1, 1, 1, 1, 1, 1, 1, 1,\n",
       "       1, 0, 1, 1, 1, 0, 1, 1, 1, 1, 1, 0, 0, 1, 1, 1, 1, 1, 1, 1, 1, 1,\n",
       "       1, 0, 1, 1, 1, 1, 1, 1, 1, 1, 1, 1])"
      ]
     },
     "execution_count": 14,
     "metadata": {},
     "output_type": "execute_result"
    }
   ],
   "source": [
    "model_output = Modeling(X_train_trigram,X_test_trigram,y_train, y_test,trigram_vect)\n",
    "model_output.predict()[:100]"
   ]
  },
  {
   "cell_type": "code",
   "execution_count": 15,
   "metadata": {
    "colab": {
     "base_uri": "https://localhost:8080/"
    },
    "id": "dVit9tCyjyYY",
    "outputId": "ca3a0146-e1e7-4f3b-8d1c-2948cfc03887"
   },
   "outputs": [
    {
     "name": "stdout",
     "output_type": "stream",
     "text": [
      "The precision score is 0.9719574630759971 and the recall score is 0.973919523099851\n"
     ]
    }
   ],
   "source": [
    "model_output.precision_recall()"
   ]
  },
  {
   "cell_type": "code",
   "execution_count": 16,
   "metadata": {
    "colab": {
     "base_uri": "https://localhost:8080/",
     "height": 357
    },
    "id": "acsTyBGHor6g",
    "outputId": "babc0fa8-3cbf-4ede-8152-89174f1ccf77"
   },
   "outputs": [
    {
     "data": {
      "image/png": "[encoded data removed]",
      "text/plain": [
       "<Figure size 432x432 with 1 Axes>"
      ]
     },
     "metadata": {},
     "output_type": "display_data"
    }
   ],
   "source": [
    "visualizer = data_visualization(Prepare_data_sent_analysis(cleanData).preprocess_data())\n",
    "visualizer.pie_chart()"
   ]
  },
  {
   "cell_type": "code",
   "execution_count": 17,
   "metadata": {
    "colab": {
     "base_uri": "https://localhost:8080/",
     "height": 408
    },
    "id": "CDIdZdYTosBY",
    "outputId": "8794c9f7-962c-431b-d941-ff136d3b9ddb"
   },
   "outputs": [
    {
     "data": {
      "image/png": "[encoded data removed]",
      "text/plain": [
       "<Figure size 432x432 with 1 Axes>"
      ]
     },
     "metadata": {
      "needs_background": "light"
     },
     "output_type": "display_data"
    }
   ],
   "source": [
    "visualizer.bar_chart()"
   ]
  },
  {
   "cell_type": "code",
   "execution_count": null,
   "metadata": {
    "id": "ohoFcset_tus"
   },
   "outputs": [],
   "source": []
  },
  {
   "cell_type": "code",
   "execution_count": null,
   "metadata": {},
   "outputs": [],
   "source": []
  }
 ],
 "metadata": {
  "colab": {
   "collapsed_sections": [],
   "name": "SentenceAnalysis.ipynb",
   "provenance": []
  },
  "kernelspec": {
   "display_name": "pytorch",
   "language": "python",
   "name": "pytorch"
  },
  "language_info": {
   "codemirror_mode": {
    "name": "ipython",
    "version": 3
   },
   "file_extension": ".py",
   "mimetype": "text/x-python",
   "name": "python",
   "nbconvert_exporter": "python",
   "pygments_lexer": "ipython3",
   "version": "3.7.10"
  }
 },
 "nbformat": 4,
 "nbformat_minor": 1
}
